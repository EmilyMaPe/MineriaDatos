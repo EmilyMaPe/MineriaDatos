{
 "cells": [
  {
   "cell_type": "code",
   "execution_count": 1,
   "metadata": {},
   "outputs": [],
   "source": [
    "import os\n",
    "import tarfile\n",
    "import urllib\n",
    "import numpy as np\n",
    "import pandas as pd\n",
    "import missingno as msno\n",
    "import matplotlib.pyplot as plt\n",
    "\n",
    "DOWNLOAD_ROOT = \"https://raw.githubusercontent.com/ageron/handson-ml2/master/\"\n",
    "HOUSING_PATH = os.path.join(\"datasets\", \"housing\")\n",
    "HOUSING_URL = DOWNLOAD_ROOT + \"datasets/housing/housing.tgz\"\n",
    "\n",
    "def fetch_housing_data(housing_url=HOUSING_URL, housing_path=HOUSING_PATH):\n",
    "    if not os.path.isdir(housing_path):\n",
    "        os.makedirs(housing_path)\n",
    "    tgz_path = os.path.join(housing_path, \"housing.tgz\")\n",
    "    urllib.request.urlretrieve(housing_url, tgz_path)\n",
    "    housing_tgz = tarfile.open(tgz_path)\n",
    "    housing_tgz.extractall(path=housing_path)\n",
    "    housing_tgz.close()\n",
    "    \n",
    "fetch_housing_data()\n",
    "\n",
    "def load_housing_data(housing_path=HOUSING_PATH):\n",
    "    csv_path = os.path.join(housing_path, \"housing.csv\")\n",
    "    return pd.read_csv(csv_path)\n",
    "\n",
    "# Ignore useless warnings (see SciPy issue #5998)\n",
    "import warnings\n",
    "warnings.filterwarnings(action=\"ignore\", message=\"^internal gelsd\")"
   ]
  },
  {
   "cell_type": "markdown",
   "metadata": {},
   "source": [
    "# Cargamos el dataset"
   ]
  },
  {
   "cell_type": "code",
   "execution_count": 2,
   "metadata": {},
   "outputs": [
    {
     "data": {
      "text/html": [
       "<div>\n",
       "<style scoped>\n",
       "    .dataframe tbody tr th:only-of-type {\n",
       "        vertical-align: middle;\n",
       "    }\n",
       "\n",
       "    .dataframe tbody tr th {\n",
       "        vertical-align: top;\n",
       "    }\n",
       "\n",
       "    .dataframe thead th {\n",
       "        text-align: right;\n",
       "    }\n",
       "</style>\n",
       "<table border=\"1\" class=\"dataframe\">\n",
       "  <thead>\n",
       "    <tr style=\"text-align: right;\">\n",
       "      <th></th>\n",
       "      <th>longitude</th>\n",
       "      <th>latitude</th>\n",
       "      <th>housing_median_age</th>\n",
       "      <th>total_rooms</th>\n",
       "      <th>total_bedrooms</th>\n",
       "      <th>population</th>\n",
       "      <th>households</th>\n",
       "      <th>median_income</th>\n",
       "      <th>median_house_value</th>\n",
       "      <th>ocean_proximity</th>\n",
       "    </tr>\n",
       "  </thead>\n",
       "  <tbody>\n",
       "    <tr>\n",
       "      <td>0</td>\n",
       "      <td>-122.23</td>\n",
       "      <td>37.88</td>\n",
       "      <td>41.0</td>\n",
       "      <td>880.0</td>\n",
       "      <td>129.0</td>\n",
       "      <td>322.0</td>\n",
       "      <td>126.0</td>\n",
       "      <td>8.3252</td>\n",
       "      <td>452600.0</td>\n",
       "      <td>NEAR BAY</td>\n",
       "    </tr>\n",
       "    <tr>\n",
       "      <td>1</td>\n",
       "      <td>-122.22</td>\n",
       "      <td>37.86</td>\n",
       "      <td>21.0</td>\n",
       "      <td>7099.0</td>\n",
       "      <td>1106.0</td>\n",
       "      <td>2401.0</td>\n",
       "      <td>1138.0</td>\n",
       "      <td>8.3014</td>\n",
       "      <td>358500.0</td>\n",
       "      <td>NEAR BAY</td>\n",
       "    </tr>\n",
       "    <tr>\n",
       "      <td>2</td>\n",
       "      <td>-122.24</td>\n",
       "      <td>37.85</td>\n",
       "      <td>52.0</td>\n",
       "      <td>1467.0</td>\n",
       "      <td>190.0</td>\n",
       "      <td>496.0</td>\n",
       "      <td>177.0</td>\n",
       "      <td>7.2574</td>\n",
       "      <td>352100.0</td>\n",
       "      <td>NEAR BAY</td>\n",
       "    </tr>\n",
       "    <tr>\n",
       "      <td>3</td>\n",
       "      <td>-122.25</td>\n",
       "      <td>37.85</td>\n",
       "      <td>52.0</td>\n",
       "      <td>1274.0</td>\n",
       "      <td>235.0</td>\n",
       "      <td>558.0</td>\n",
       "      <td>219.0</td>\n",
       "      <td>5.6431</td>\n",
       "      <td>341300.0</td>\n",
       "      <td>NEAR BAY</td>\n",
       "    </tr>\n",
       "    <tr>\n",
       "      <td>4</td>\n",
       "      <td>-122.25</td>\n",
       "      <td>37.85</td>\n",
       "      <td>52.0</td>\n",
       "      <td>1627.0</td>\n",
       "      <td>280.0</td>\n",
       "      <td>565.0</td>\n",
       "      <td>259.0</td>\n",
       "      <td>3.8462</td>\n",
       "      <td>342200.0</td>\n",
       "      <td>NEAR BAY</td>\n",
       "    </tr>\n",
       "  </tbody>\n",
       "</table>\n",
       "</div>"
      ],
      "text/plain": [
       "   longitude  latitude  housing_median_age  total_rooms  total_bedrooms  \\\n",
       "0    -122.23     37.88                41.0        880.0           129.0   \n",
       "1    -122.22     37.86                21.0       7099.0          1106.0   \n",
       "2    -122.24     37.85                52.0       1467.0           190.0   \n",
       "3    -122.25     37.85                52.0       1274.0           235.0   \n",
       "4    -122.25     37.85                52.0       1627.0           280.0   \n",
       "\n",
       "   population  households  median_income  median_house_value ocean_proximity  \n",
       "0       322.0       126.0         8.3252            452600.0        NEAR BAY  \n",
       "1      2401.0      1138.0         8.3014            358500.0        NEAR BAY  \n",
       "2       496.0       177.0         7.2574            352100.0        NEAR BAY  \n",
       "3       558.0       219.0         5.6431            341300.0        NEAR BAY  \n",
       "4       565.0       259.0         3.8462            342200.0        NEAR BAY  "
      ]
     },
     "execution_count": 2,
     "metadata": {},
     "output_type": "execute_result"
    }
   ],
   "source": [
    "housing = load_housing_data()\n",
    "housing.head()"
   ]
  },
  {
   "cell_type": "markdown",
   "metadata": {},
   "source": [
    "Para poder replicar los resultados usaremos una semilla"
   ]
  },
  {
   "cell_type": "code",
   "execution_count": 3,
   "metadata": {},
   "outputs": [],
   "source": [
    "np.random.seed(42)"
   ]
  },
  {
   "cell_type": "markdown",
   "metadata": {},
   "source": [
    "Separar el data set en train y test"
   ]
  },
  {
   "cell_type": "code",
   "execution_count": 4,
   "metadata": {},
   "outputs": [
    {
     "data": {
      "text/plain": [
       "<matplotlib.axes._subplots.AxesSubplot at 0x54ab3690c8>"
      ]
     },
     "execution_count": 4,
     "metadata": {},
     "output_type": "execute_result"
    },
    {
     "data": {
      "image/png": "[encoded data removed]",
      "text/plain": [
       "<Figure size 1728x720 with 3 Axes>"
      ]
     },
     "metadata": {
      "needs_background": "light"
     },
     "output_type": "display_data"
    }
   ],
   "source": [
    "msno.bar(housing)"
   ]
  },
  {
   "cell_type": "code",
   "execution_count": 5,
   "metadata": {},
   "outputs": [
    {
     "data": {
      "text/plain": [
       "<matplotlib.axes._subplots.AxesSubplot at 0x54abbd2348>"
      ]
     },
     "execution_count": 5,
     "metadata": {},
     "output_type": "execute_result"
    },
    {
     "data": {
      "image/png": "[encoded data removed]",
      "text/plain": [
       "<Figure size 1728x720 with 3 Axes>"
      ]
     },
     "metadata": {
      "needs_background": "light"
     },
     "output_type": "display_data"
    }
   ],
   "source": [
    "housing = housing.dropna()\n",
    "msno.bar(housing)"
   ]
  },
  {
   "cell_type": "code",
   "execution_count": 6,
   "metadata": {},
   "outputs": [],
   "source": [
    "from sklearn.model_selection import train_test_split\n",
    "\n",
    "train_set, test_set = train_test_split(housing, test_size=0.2, random_state=42)"
   ]
  },
  {
   "cell_type": "code",
   "execution_count": 7,
   "metadata": {},
   "outputs": [],
   "source": [
    "housing[\"income_cat\"] = pd.cut(housing[\"median_income\"],\n",
    "                               bins=[0., 1.5, 3.0, 4.5, 6., np.inf],\n",
    "                               labels=[1, 2, 3, 4, 5])"
   ]
  },
  {
   "cell_type": "code",
   "execution_count": 8,
   "metadata": {},
   "outputs": [
    {
     "name": "stderr",
     "output_type": "stream",
     "text": [
      "C:\\tools\\Anaconda3\\lib\\site-packages\\ipykernel_launcher.py:5: FutureWarning: \n",
      "Passing list-likes to .loc or [] with any missing label will raise\n",
      "KeyError in the future, you can use .reindex() as an alternative.\n",
      "\n",
      "See the documentation here:\n",
      "https://pandas.pydata.org/pandas-docs/stable/user_guide/indexing.html#deprecate-loc-reindex-listlike\n",
      "  \"\"\"\n",
      "C:\\tools\\Anaconda3\\lib\\site-packages\\ipykernel_launcher.py:6: FutureWarning: \n",
      "Passing list-likes to .loc or [] with any missing label will raise\n",
      "KeyError in the future, you can use .reindex() as an alternative.\n",
      "\n",
      "See the documentation here:\n",
      "https://pandas.pydata.org/pandas-docs/stable/user_guide/indexing.html#deprecate-loc-reindex-listlike\n",
      "  \n"
     ]
    }
   ],
   "source": [
    "from sklearn.model_selection import StratifiedShuffleSplit\n",
    "\n",
    "split = StratifiedShuffleSplit(n_splits=1, test_size=0.2, random_state=42)\n",
    "for train_index, test_index in split.split(housing, housing[\"income_cat\"]):\n",
    "    strat_train_set = housing.loc[train_index]\n",
    "    strat_test_set = housing.loc[test_index]"
   ]
  },
  {
   "cell_type": "code",
   "execution_count": 9,
   "metadata": {},
   "outputs": [],
   "source": [
    "def income_cat_proportions(data):\n",
    "    return data[\"income_cat\"].value_counts() / len(data)\n",
    "\n",
    "train_set, test_set = train_test_split(housing, test_size=0.2, random_state=42)\n",
    "\n",
    "compare_props = pd.DataFrame({\n",
    "    \"Overall\": income_cat_proportions(housing),\n",
    "    \"Stratified\": income_cat_proportions(strat_test_set),\n",
    "    \"Random\": income_cat_proportions(test_set),\n",
    "}).sort_index()\n",
    "compare_props[\"Rand. %error\"] = 100 * compare_props[\"Random\"] / compare_props[\"Overall\"] - 100\n",
    "compare_props[\"Strat. %error\"] = 100 * compare_props[\"Stratified\"] / compare_props[\"Overall\"] - 100"
   ]
  },
  {
   "cell_type": "code",
   "execution_count": 10,
   "metadata": {},
   "outputs": [],
   "source": [
    "for set_ in (strat_train_set, strat_test_set):\n",
    "    set_.drop(\"income_cat\", axis=1, inplace=True)"
   ]
  },
  {
   "cell_type": "markdown",
   "metadata": {},
   "source": []
  },
  {
   "cell_type": "code",
   "execution_count": 11,
   "metadata": {},
   "outputs": [],
   "source": [
    "housing = strat_train_set.copy()"
   ]
  },
  {
   "cell_type": "code",
   "execution_count": 12,
   "metadata": {},
   "outputs": [
    {
     "name": "stderr",
     "output_type": "stream",
     "text": [
      "C:\\tools\\Anaconda3\\lib\\site-packages\\pandas\\plotting\\_matplotlib\\tools.py:307: MatplotlibDeprecationWarning: \n",
      "The rowNum attribute was deprecated in Matplotlib 3.2 and will be removed two minor releases later. Use ax.get_subplotspec().rowspan.start instead.\n",
      "  layout[ax.rowNum, ax.colNum] = ax.get_visible()\n",
      "C:\\tools\\Anaconda3\\lib\\site-packages\\pandas\\plotting\\_matplotlib\\tools.py:307: MatplotlibDeprecationWarning: \n",
      "The colNum attribute was deprecated in Matplotlib 3.2 and will be removed two minor releases later. Use ax.get_subplotspec().colspan.start instead.\n",
      "  layout[ax.rowNum, ax.colNum] = ax.get_visible()\n",
      "C:\\tools\\Anaconda3\\lib\\site-packages\\pandas\\plotting\\_matplotlib\\tools.py:313: MatplotlibDeprecationWarning: \n",
      "The rowNum attribute was deprecated in Matplotlib 3.2 and will be removed two minor releases later. Use ax.get_subplotspec().rowspan.start instead.\n",
      "  if not layout[ax.rowNum + 1, ax.colNum]:\n",
      "C:\\tools\\Anaconda3\\lib\\site-packages\\pandas\\plotting\\_matplotlib\\tools.py:313: MatplotlibDeprecationWarning: \n",
      "The colNum attribute was deprecated in Matplotlib 3.2 and will be removed two minor releases later. Use ax.get_subplotspec().colspan.start instead.\n",
      "  if not layout[ax.rowNum + 1, ax.colNum]:\n"
     ]
    },
    {
     "data": {
      "text/plain": [
       "<matplotlib.legend.Legend at 0x54ad14bc48>"
      ]
     },
     "execution_count": 12,
     "metadata": {},
     "output_type": "execute_result"
    },
    {
     "data": {
      "image/png": "[encoded data removed]",
      "text/plain": [
       "<Figure size 720x504 with 2 Axes>"
      ]
     },
     "metadata": {
      "needs_background": "light"
     },
     "output_type": "display_data"
    }
   ],
   "source": [
    "housing.plot(kind=\"scatter\", x=\"longitude\", y=\"latitude\", alpha=0.4,\n",
    "    s=housing[\"population\"]/100, label=\"population\", figsize=(10,7),\n",
    "    c=\"median_house_value\", cmap=plt.get_cmap(\"jet\"), colorbar=True,\n",
    "    sharex=False)\n",
    "plt.legend()"
   ]
  },
  {
   "cell_type": "code",
   "execution_count": 13,
   "metadata": {},
   "outputs": [],
   "source": [
    "housing[\"rooms_per_household\"] = housing[\"total_rooms\"]/housing[\"households\"]\n",
    "housing[\"bedrooms_per_room\"] = housing[\"total_bedrooms\"]/housing[\"total_rooms\"]\n",
    "housing[\"population_per_household\"]=housing[\"population\"]/housing[\"households\"]"
   ]
  },
  {
   "cell_type": "code",
   "execution_count": 14,
   "metadata": {},
   "outputs": [
    {
     "data": {
      "text/plain": [
       "median_house_value          1.000000\n",
       "median_income               0.686117\n",
       "rooms_per_household         0.156488\n",
       "total_rooms                 0.126363\n",
       "housing_median_age          0.118640\n",
       "households                  0.057231\n",
       "total_bedrooms              0.041517\n",
       "population_per_household   -0.026496\n",
       "population                 -0.030091\n",
       "longitude                  -0.050990\n",
       "latitude                   -0.139508\n",
       "bedrooms_per_room          -0.258508\n",
       "Name: median_house_value, dtype: float64"
      ]
     },
     "execution_count": 14,
     "metadata": {},
     "output_type": "execute_result"
    }
   ],
   "source": [
    "corr_matrix = housing.corr()\n",
    "corr_matrix[\"median_house_value\"].sort_values(ascending=False)"
   ]
  },
  {
   "cell_type": "markdown",
   "metadata": {},
   "source": [
    "# Preparar los datos para el modelo"
   ]
  },
  {
   "cell_type": "code",
   "execution_count": 15,
   "metadata": {},
   "outputs": [],
   "source": [
    "housing = strat_train_set.drop(\"median_house_value\", axis=1) # drop labels for training set\n",
    "housing_labels = strat_train_set[\"median_house_value\"].copy()"
   ]
  },
  {
   "cell_type": "code",
   "execution_count": 16,
   "metadata": {},
   "outputs": [
    {
     "data": {
      "text/html": [
       "<div>\n",
       "<style scoped>\n",
       "    .dataframe tbody tr th:only-of-type {\n",
       "        vertical-align: middle;\n",
       "    }\n",
       "\n",
       "    .dataframe tbody tr th {\n",
       "        vertical-align: top;\n",
       "    }\n",
       "\n",
       "    .dataframe thead th {\n",
       "        text-align: right;\n",
       "    }\n",
       "</style>\n",
       "<table border=\"1\" class=\"dataframe\">\n",
       "  <thead>\n",
       "    <tr style=\"text-align: right;\">\n",
       "      <th></th>\n",
       "      <th>longitude</th>\n",
       "      <th>latitude</th>\n",
       "      <th>housing_median_age</th>\n",
       "      <th>total_rooms</th>\n",
       "      <th>total_bedrooms</th>\n",
       "      <th>population</th>\n",
       "      <th>households</th>\n",
       "      <th>median_income</th>\n",
       "      <th>ocean_proximity</th>\n",
       "    </tr>\n",
       "  </thead>\n",
       "  <tbody>\n",
       "    <tr>\n",
       "      <td>19391</td>\n",
       "      <td>NaN</td>\n",
       "      <td>NaN</td>\n",
       "      <td>NaN</td>\n",
       "      <td>NaN</td>\n",
       "      <td>NaN</td>\n",
       "      <td>NaN</td>\n",
       "      <td>NaN</td>\n",
       "      <td>NaN</td>\n",
       "      <td>NaN</td>\n",
       "    </tr>\n",
       "    <tr>\n",
       "      <td>3778</td>\n",
       "      <td>NaN</td>\n",
       "      <td>NaN</td>\n",
       "      <td>NaN</td>\n",
       "      <td>NaN</td>\n",
       "      <td>NaN</td>\n",
       "      <td>NaN</td>\n",
       "      <td>NaN</td>\n",
       "      <td>NaN</td>\n",
       "      <td>NaN</td>\n",
       "    </tr>\n",
       "    <tr>\n",
       "      <td>19959</td>\n",
       "      <td>NaN</td>\n",
       "      <td>NaN</td>\n",
       "      <td>NaN</td>\n",
       "      <td>NaN</td>\n",
       "      <td>NaN</td>\n",
       "      <td>NaN</td>\n",
       "      <td>NaN</td>\n",
       "      <td>NaN</td>\n",
       "      <td>NaN</td>\n",
       "    </tr>\n",
       "    <tr>\n",
       "      <td>2115</td>\n",
       "      <td>NaN</td>\n",
       "      <td>NaN</td>\n",
       "      <td>NaN</td>\n",
       "      <td>NaN</td>\n",
       "      <td>NaN</td>\n",
       "      <td>NaN</td>\n",
       "      <td>NaN</td>\n",
       "      <td>NaN</td>\n",
       "      <td>NaN</td>\n",
       "    </tr>\n",
       "    <tr>\n",
       "      <td>4186</td>\n",
       "      <td>NaN</td>\n",
       "      <td>NaN</td>\n",
       "      <td>NaN</td>\n",
       "      <td>NaN</td>\n",
       "      <td>NaN</td>\n",
       "      <td>NaN</td>\n",
       "      <td>NaN</td>\n",
       "      <td>NaN</td>\n",
       "      <td>NaN</td>\n",
       "    </tr>\n",
       "  </tbody>\n",
       "</table>\n",
       "</div>"
      ],
      "text/plain": [
       "       longitude  latitude  housing_median_age  total_rooms  total_bedrooms  \\\n",
       "19391        NaN       NaN                 NaN          NaN             NaN   \n",
       "3778         NaN       NaN                 NaN          NaN             NaN   \n",
       "19959        NaN       NaN                 NaN          NaN             NaN   \n",
       "2115         NaN       NaN                 NaN          NaN             NaN   \n",
       "4186         NaN       NaN                 NaN          NaN             NaN   \n",
       "\n",
       "       population  households  median_income ocean_proximity  \n",
       "19391         NaN         NaN            NaN             NaN  \n",
       "3778          NaN         NaN            NaN             NaN  \n",
       "19959         NaN         NaN            NaN             NaN  \n",
       "2115          NaN         NaN            NaN             NaN  \n",
       "4186          NaN         NaN            NaN             NaN  "
      ]
     },
     "execution_count": 16,
     "metadata": {},
     "output_type": "execute_result"
    }
   ],
   "source": [
    "sample_incomplete_rows = housing[housing.isnull().any(axis=1)].head()\n",
    "sample_incomplete_rows"
   ]
  },
  {
   "cell_type": "code",
   "execution_count": 17,
   "metadata": {},
   "outputs": [
    {
     "data": {
      "text/plain": [
       "<matplotlib.axes._subplots.AxesSubplot at 0x54abe22308>"
      ]
     },
     "execution_count": 17,
     "metadata": {},
     "output_type": "execute_result"
    },
    {
     "data": {
      "image/png": "[encoded data removed]",
      "text/plain": [
       "<Figure size 1728x720 with 3 Axes>"
      ]
     },
     "metadata": {
      "needs_background": "light"
     },
     "output_type": "display_data"
    }
   ],
   "source": [
    "msno.bar(housing)"
   ]
  },
  {
   "cell_type": "code",
   "execution_count": 18,
   "metadata": {},
   "outputs": [
    {
     "data": {
      "text/plain": [
       "<matplotlib.axes._subplots.AxesSubplot at 0x54abdfe948>"
      ]
     },
     "execution_count": 18,
     "metadata": {},
     "output_type": "execute_result"
    },
    {
     "data": {
      "image/png": "[encoded data removed]",
      "text/plain": [
       "<Figure size 1728x720 with 3 Axes>"
      ]
     },
     "metadata": {
      "needs_background": "light"
     },
     "output_type": "display_data"
    }
   ],
   "source": [
    "housing = housing.dropna()\n",
    "msno.bar(housing)"
   ]
  },
  {
   "cell_type": "code",
   "execution_count": 19,
   "metadata": {},
   "outputs": [],
   "source": [
    "from sklearn.impute import SimpleImputer\n",
    "imputer = SimpleImputer(strategy=\"median\")"
   ]
  },
  {
   "cell_type": "markdown",
   "metadata": {},
   "source": [
    "# Quitar los datos que no son numericos"
   ]
  },
  {
   "cell_type": "code",
   "execution_count": 20,
   "metadata": {},
   "outputs": [],
   "source": [
    "housing_num = housing.drop(\"ocean_proximity\", axis=1)\n",
    "# alternatively: housing_num = housing.select_dtypes(include=[np.number])"
   ]
  },
  {
   "cell_type": "code",
   "execution_count": 21,
   "metadata": {},
   "outputs": [
    {
     "data": {
      "text/plain": [
       "SimpleImputer(add_indicator=False, copy=True, fill_value=None,\n",
       "              missing_values=nan, strategy='median', verbose=0)"
      ]
     },
     "execution_count": 21,
     "metadata": {},
     "output_type": "execute_result"
    }
   ],
   "source": [
    "imputer.fit(housing_num)"
   ]
  },
  {
   "cell_type": "markdown",
   "metadata": {},
   "source": [
    "# Transformar los datos"
   ]
  },
  {
   "cell_type": "code",
   "execution_count": 22,
   "metadata": {},
   "outputs": [],
   "source": [
    "X = imputer.transform(housing_num)"
   ]
  },
  {
   "cell_type": "code",
   "execution_count": 23,
   "metadata": {},
   "outputs": [],
   "source": [
    "housing_tr = pd.DataFrame(X, columns=housing_num.columns,\n",
    "                          index=housing.index)"
   ]
  },
  {
   "cell_type": "markdown",
   "metadata": {},
   "source": [
    "# Procesar datos categoricos"
   ]
  },
  {
   "cell_type": "code",
   "execution_count": 24,
   "metadata": {},
   "outputs": [
    {
     "data": {
      "text/html": [
       "<div>\n",
       "<style scoped>\n",
       "    .dataframe tbody tr th:only-of-type {\n",
       "        vertical-align: middle;\n",
       "    }\n",
       "\n",
       "    .dataframe tbody tr th {\n",
       "        vertical-align: top;\n",
       "    }\n",
       "\n",
       "    .dataframe thead th {\n",
       "        text-align: right;\n",
       "    }\n",
       "</style>\n",
       "<table border=\"1\" class=\"dataframe\">\n",
       "  <thead>\n",
       "    <tr style=\"text-align: right;\">\n",
       "      <th></th>\n",
       "      <th>ocean_proximity</th>\n",
       "    </tr>\n",
       "  </thead>\n",
       "  <tbody>\n",
       "    <tr>\n",
       "      <td>17880</td>\n",
       "      <td>&lt;1H OCEAN</td>\n",
       "    </tr>\n",
       "    <tr>\n",
       "      <td>17389</td>\n",
       "      <td>&lt;1H OCEAN</td>\n",
       "    </tr>\n",
       "    <tr>\n",
       "      <td>19010</td>\n",
       "      <td>INLAND</td>\n",
       "    </tr>\n",
       "    <tr>\n",
       "      <td>17641</td>\n",
       "      <td>&lt;1H OCEAN</td>\n",
       "    </tr>\n",
       "    <tr>\n",
       "      <td>10162</td>\n",
       "      <td>&lt;1H OCEAN</td>\n",
       "    </tr>\n",
       "    <tr>\n",
       "      <td>10422</td>\n",
       "      <td>NEAR OCEAN</td>\n",
       "    </tr>\n",
       "    <tr>\n",
       "      <td>8662</td>\n",
       "      <td>&lt;1H OCEAN</td>\n",
       "    </tr>\n",
       "    <tr>\n",
       "      <td>195</td>\n",
       "      <td>NEAR BAY</td>\n",
       "    </tr>\n",
       "    <tr>\n",
       "      <td>14677</td>\n",
       "      <td>&lt;1H OCEAN</td>\n",
       "    </tr>\n",
       "    <tr>\n",
       "      <td>3467</td>\n",
       "      <td>&lt;1H OCEAN</td>\n",
       "    </tr>\n",
       "  </tbody>\n",
       "</table>\n",
       "</div>"
      ],
      "text/plain": [
       "      ocean_proximity\n",
       "17880       <1H OCEAN\n",
       "17389       <1H OCEAN\n",
       "19010          INLAND\n",
       "17641       <1H OCEAN\n",
       "10162       <1H OCEAN\n",
       "10422      NEAR OCEAN\n",
       "8662        <1H OCEAN\n",
       "195          NEAR BAY\n",
       "14677       <1H OCEAN\n",
       "3467        <1H OCEAN"
      ]
     },
     "execution_count": 24,
     "metadata": {},
     "output_type": "execute_result"
    }
   ],
   "source": [
    "housing_cat = housing[[\"ocean_proximity\"]]\n",
    "housing_cat.head(10)"
   ]
  },
  {
   "cell_type": "code",
   "execution_count": 25,
   "metadata": {},
   "outputs": [
    {
     "data": {
      "text/plain": [
       "array([[0.],\n",
       "       [0.],\n",
       "       [1.],\n",
       "       [0.],\n",
       "       [0.],\n",
       "       [4.],\n",
       "       [0.],\n",
       "       [3.],\n",
       "       [0.],\n",
       "       [0.]])"
      ]
     },
     "execution_count": 25,
     "metadata": {},
     "output_type": "execute_result"
    }
   ],
   "source": [
    "from sklearn.preprocessing import OrdinalEncoder\n",
    "\n",
    "ordinal_encoder = OrdinalEncoder()\n",
    "housing_cat_encoded = ordinal_encoder.fit_transform(housing_cat)\n",
    "housing_cat_encoded[:10]"
   ]
  },
  {
   "cell_type": "code",
   "execution_count": 26,
   "metadata": {},
   "outputs": [
    {
     "data": {
      "text/plain": [
       "[array(['<1H OCEAN', 'INLAND', 'ISLAND', 'NEAR BAY', 'NEAR OCEAN'],\n",
       "       dtype=object)]"
      ]
     },
     "execution_count": 26,
     "metadata": {},
     "output_type": "execute_result"
    }
   ],
   "source": [
    "ordinal_encoder.categories_"
   ]
  },
  {
   "cell_type": "code",
   "execution_count": 27,
   "metadata": {},
   "outputs": [
    {
     "data": {
      "text/plain": [
       "<16175x5 sparse matrix of type '<class 'numpy.float64'>'\n",
       "\twith 16175 stored elements in Compressed Sparse Row format>"
      ]
     },
     "execution_count": 27,
     "metadata": {},
     "output_type": "execute_result"
    }
   ],
   "source": [
    "from sklearn.preprocessing import OneHotEncoder\n",
    "\n",
    "cat_encoder = OneHotEncoder()\n",
    "housing_cat_1hot = cat_encoder.fit_transform(housing_cat)\n",
    "housing_cat_1hot"
   ]
  },
  {
   "cell_type": "code",
   "execution_count": 28,
   "metadata": {},
   "outputs": [
    {
     "data": {
      "text/plain": [
       "array([[1., 0., 0., 0., 0.],\n",
       "       [1., 0., 0., 0., 0.],\n",
       "       [0., 1., 0., 0., 0.],\n",
       "       ...,\n",
       "       [1., 0., 0., 0., 0.],\n",
       "       [0., 1., 0., 0., 0.],\n",
       "       [0., 0., 0., 0., 1.]])"
      ]
     },
     "execution_count": 28,
     "metadata": {},
     "output_type": "execute_result"
    }
   ],
   "source": [
    "housing_cat_1hot.toarray()"
   ]
  },
  {
   "cell_type": "code",
   "execution_count": 29,
   "metadata": {},
   "outputs": [
    {
     "data": {
      "text/plain": [
       "array([[1., 0., 0., 0., 0.],\n",
       "       [1., 0., 0., 0., 0.],\n",
       "       [0., 1., 0., 0., 0.],\n",
       "       ...,\n",
       "       [1., 0., 0., 0., 0.],\n",
       "       [0., 1., 0., 0., 0.],\n",
       "       [0., 0., 0., 0., 1.]])"
      ]
     },
     "execution_count": 29,
     "metadata": {},
     "output_type": "execute_result"
    }
   ],
   "source": [
    "cat_encoder = OneHotEncoder(sparse=False)\n",
    "housing_cat_1hot = cat_encoder.fit_transform(housing_cat)\n",
    "housing_cat_1hot"
   ]
  },
  {
   "cell_type": "code",
   "execution_count": 30,
   "metadata": {},
   "outputs": [
    {
     "data": {
      "text/plain": [
       "[array(['<1H OCEAN', 'INLAND', 'ISLAND', 'NEAR BAY', 'NEAR OCEAN'],\n",
       "       dtype=object)]"
      ]
     },
     "execution_count": 30,
     "metadata": {},
     "output_type": "execute_result"
    }
   ],
   "source": [
    "cat_encoder.categories_"
   ]
  },
  {
   "cell_type": "code",
   "execution_count": 31,
   "metadata": {},
   "outputs": [],
   "source": [
    "from sklearn.base import BaseEstimator, TransformerMixin\n",
    "\n",
    "# column index\n",
    "rooms_ix, bedrooms_ix, population_ix, households_ix = 3, 4, 5, 6\n",
    "\n",
    "class CombinedAttributesAdder(BaseEstimator, TransformerMixin):\n",
    "    def __init__(self, add_bedrooms_per_room = True): # no *args or **kargs\n",
    "        self.add_bedrooms_per_room = add_bedrooms_per_room\n",
    "    def fit(self, X, y=None):\n",
    "        return self  # nothing else to do\n",
    "    def transform(self, X):\n",
    "        rooms_per_household = X[:, rooms_ix] / X[:, households_ix]\n",
    "        population_per_household = X[:, population_ix] / X[:, households_ix]\n",
    "        if self.add_bedrooms_per_room:\n",
    "            bedrooms_per_room = X[:, bedrooms_ix] / X[:, rooms_ix]\n",
    "            return np.c_[X, rooms_per_household, population_per_household,\n",
    "                         bedrooms_per_room]\n",
    "        else:\n",
    "            return np.c_[X, rooms_per_household, population_per_household]\n",
    "\n",
    "attr_adder = CombinedAttributesAdder(add_bedrooms_per_room=False)\n",
    "housing_extra_attribs = attr_adder.transform(housing.values)"
   ]
  },
  {
   "cell_type": "code",
   "execution_count": 32,
   "metadata": {},
   "outputs": [
    {
     "data": {
      "text/html": [
       "<div>\n",
       "<style scoped>\n",
       "    .dataframe tbody tr th:only-of-type {\n",
       "        vertical-align: middle;\n",
       "    }\n",
       "\n",
       "    .dataframe tbody tr th {\n",
       "        vertical-align: top;\n",
       "    }\n",
       "\n",
       "    .dataframe thead th {\n",
       "        text-align: right;\n",
       "    }\n",
       "</style>\n",
       "<table border=\"1\" class=\"dataframe\">\n",
       "  <thead>\n",
       "    <tr style=\"text-align: right;\">\n",
       "      <th></th>\n",
       "      <th>longitude</th>\n",
       "      <th>latitude</th>\n",
       "      <th>housing_median_age</th>\n",
       "      <th>total_rooms</th>\n",
       "      <th>total_bedrooms</th>\n",
       "      <th>population</th>\n",
       "      <th>households</th>\n",
       "      <th>median_income</th>\n",
       "      <th>ocean_proximity</th>\n",
       "      <th>rooms_per_household</th>\n",
       "      <th>population_per_household</th>\n",
       "    </tr>\n",
       "  </thead>\n",
       "  <tbody>\n",
       "    <tr>\n",
       "      <td>17880</td>\n",
       "      <td>-122</td>\n",
       "      <td>37.4</td>\n",
       "      <td>17</td>\n",
       "      <td>4324</td>\n",
       "      <td>854</td>\n",
       "      <td>1656</td>\n",
       "      <td>885</td>\n",
       "      <td>3.6619</td>\n",
       "      <td>&lt;1H OCEAN</td>\n",
       "      <td>4.88588</td>\n",
       "      <td>1.87119</td>\n",
       "    </tr>\n",
       "    <tr>\n",
       "      <td>17389</td>\n",
       "      <td>-120.45</td>\n",
       "      <td>34.97</td>\n",
       "      <td>10</td>\n",
       "      <td>1897</td>\n",
       "      <td>354</td>\n",
       "      <td>1353</td>\n",
       "      <td>357</td>\n",
       "      <td>3.7679</td>\n",
       "      <td>&lt;1H OCEAN</td>\n",
       "      <td>5.31373</td>\n",
       "      <td>3.78992</td>\n",
       "    </tr>\n",
       "    <tr>\n",
       "      <td>19010</td>\n",
       "      <td>-122</td>\n",
       "      <td>38.35</td>\n",
       "      <td>34</td>\n",
       "      <td>1084</td>\n",
       "      <td>187</td>\n",
       "      <td>561</td>\n",
       "      <td>198</td>\n",
       "      <td>4.2115</td>\n",
       "      <td>INLAND</td>\n",
       "      <td>5.47475</td>\n",
       "      <td>2.83333</td>\n",
       "    </tr>\n",
       "    <tr>\n",
       "      <td>17641</td>\n",
       "      <td>-121.9</td>\n",
       "      <td>37.25</td>\n",
       "      <td>28</td>\n",
       "      <td>2714</td>\n",
       "      <td>502</td>\n",
       "      <td>1389</td>\n",
       "      <td>490</td>\n",
       "      <td>5.7385</td>\n",
       "      <td>&lt;1H OCEAN</td>\n",
       "      <td>5.53878</td>\n",
       "      <td>2.83469</td>\n",
       "    </tr>\n",
       "    <tr>\n",
       "      <td>10162</td>\n",
       "      <td>-117.96</td>\n",
       "      <td>33.88</td>\n",
       "      <td>25</td>\n",
       "      <td>3578</td>\n",
       "      <td>461</td>\n",
       "      <td>1588</td>\n",
       "      <td>466</td>\n",
       "      <td>6.2556</td>\n",
       "      <td>&lt;1H OCEAN</td>\n",
       "      <td>7.67811</td>\n",
       "      <td>3.40773</td>\n",
       "    </tr>\n",
       "  </tbody>\n",
       "</table>\n",
       "</div>"
      ],
      "text/plain": [
       "      longitude latitude housing_median_age total_rooms total_bedrooms  \\\n",
       "17880      -122     37.4                 17        4324            854   \n",
       "17389   -120.45    34.97                 10        1897            354   \n",
       "19010      -122    38.35                 34        1084            187   \n",
       "17641    -121.9    37.25                 28        2714            502   \n",
       "10162   -117.96    33.88                 25        3578            461   \n",
       "\n",
       "      population households median_income ocean_proximity rooms_per_household  \\\n",
       "17880       1656        885        3.6619       <1H OCEAN             4.88588   \n",
       "17389       1353        357        3.7679       <1H OCEAN             5.31373   \n",
       "19010        561        198        4.2115          INLAND             5.47475   \n",
       "17641       1389        490        5.7385       <1H OCEAN             5.53878   \n",
       "10162       1588        466        6.2556       <1H OCEAN             7.67811   \n",
       "\n",
       "      population_per_household  \n",
       "17880                  1.87119  \n",
       "17389                  3.78992  \n",
       "19010                  2.83333  \n",
       "17641                  2.83469  \n",
       "10162                  3.40773  "
      ]
     },
     "execution_count": 32,
     "metadata": {},
     "output_type": "execute_result"
    }
   ],
   "source": [
    "housing_extra_attribs = pd.DataFrame(\n",
    "    housing_extra_attribs,\n",
    "    columns=list(housing.columns)+[\"rooms_per_household\", \"population_per_household\"],\n",
    "    index=housing.index)\n",
    "housing_extra_attribs.head()"
   ]
  },
  {
   "cell_type": "markdown",
   "metadata": {},
   "source": [
    "# Hacer pipeline y preprocesar datos numericos"
   ]
  },
  {
   "cell_type": "code",
   "execution_count": 33,
   "metadata": {},
   "outputs": [],
   "source": [
    "from sklearn.pipeline import Pipeline\n",
    "from sklearn.preprocessing import StandardScaler\n",
    "\n",
    "num_pipeline = Pipeline([\n",
    "        ('imputer', SimpleImputer(strategy=\"median\")),\n",
    "        ('attribs_adder', CombinedAttributesAdder()),\n",
    "        ('std_scaler', StandardScaler()),\n",
    "    ])\n",
    "\n",
    "housing_num_tr = num_pipeline.fit_transform(housing_num)"
   ]
  },
  {
   "cell_type": "code",
   "execution_count": 34,
   "metadata": {},
   "outputs": [
    {
     "data": {
      "text/plain": [
       "array([[-1.21415798,  0.83317743, -0.92259269, ..., -0.235142  ,\n",
       "        -0.1088904 , -0.26327837],\n",
       "       [-0.44194323, -0.30714064, -1.4767895 , ..., -0.05256021,\n",
       "         0.06482595, -0.4503365 ],\n",
       "       [-1.21415798,  1.27898079,  0.42331385, ...,  0.01615476,\n",
       "        -0.02178034, -0.69251212],\n",
       "       ...,\n",
       "       [ 0.66406757, -0.77171466,  0.10662996, ..., -1.17532167,\n",
       "         0.09228386,  2.77335347],\n",
       "       [-0.85545177,  1.45730213, -1.79347339, ...,  0.5358438 ,\n",
       "        -0.02763919, -0.92231261],\n",
       "       [-1.1693197 ,  0.37329607, -1.16010561, ...,  0.37007219,\n",
       "        -0.0760497 ,  0.5029048 ]])"
      ]
     },
     "execution_count": 34,
     "metadata": {},
     "output_type": "execute_result"
    }
   ],
   "source": [
    "housing_num_tr"
   ]
  },
  {
   "cell_type": "code",
   "execution_count": 35,
   "metadata": {},
   "outputs": [
    {
     "data": {
      "text/plain": [
       "array([[-1.21415798,  0.83317743, -0.92259269, ...,  0.        ,\n",
       "         0.        ,  0.        ],\n",
       "       [-0.44194323, -0.30714064, -1.4767895 , ...,  0.        ,\n",
       "         0.        ,  0.        ],\n",
       "       [-1.21415798,  1.27898079,  0.42331385, ...,  0.        ,\n",
       "         0.        ,  0.        ],\n",
       "       ...,\n",
       "       [ 0.66406757, -0.77171466,  0.10662996, ...,  0.        ,\n",
       "         0.        ,  0.        ],\n",
       "       [-0.85545177,  1.45730213, -1.79347339, ...,  0.        ,\n",
       "         0.        ,  0.        ],\n",
       "       [-1.1693197 ,  0.37329607, -1.16010561, ...,  0.        ,\n",
       "         0.        ,  1.        ]])"
      ]
     },
     "execution_count": 35,
     "metadata": {},
     "output_type": "execute_result"
    }
   ],
   "source": [
    "from sklearn.compose import ColumnTransformer\n",
    "\n",
    "num_attribs = list(housing_num)\n",
    "cat_attribs = [\"ocean_proximity\"]\n",
    "\n",
    "full_pipeline = ColumnTransformer([\n",
    "        (\"num\", num_pipeline, num_attribs),\n",
    "        (\"cat\", OneHotEncoder(), cat_attribs),\n",
    "    ])\n",
    "\n",
    "housing_prepared = full_pipeline.fit_transform(housing)\n",
    "housing_prepared"
   ]
  },
  {
   "cell_type": "markdown",
   "metadata": {},
   "source": [
    "# Seleccionar y entrenar el modelo"
   ]
  },
  {
   "cell_type": "code",
   "execution_count": 36,
   "metadata": {},
   "outputs": [],
   "source": [
    "if(housing_prepared.shape[0] < housing_labels.shape[0]):\n",
    "    housing_labels = housing_labels[0:housing_prepared.shape[0]]\n",
    "else:\n",
    "    housing_prepared = housing_prepared[0:housing_labels.shape[0]]\n",
    "housing_prepared = np.nan_to_num(housing_prepared)\n",
    "housing_labels = np.nan_to_num(housing_labels)"
   ]
  },
  {
   "cell_type": "code",
   "execution_count": 37,
   "metadata": {},
   "outputs": [],
   "source": [
    "from sklearn.linear_model import LinearRegression\n",
    "lin_reg = LinearRegression()"
   ]
  },
  {
   "cell_type": "code",
   "execution_count": 38,
   "metadata": {},
   "outputs": [
    {
     "data": {
      "text/plain": [
       "LinearRegression(copy_X=True, fit_intercept=True, n_jobs=None, normalize=False)"
      ]
     },
     "execution_count": 38,
     "metadata": {},
     "output_type": "execute_result"
    }
   ],
   "source": [
    "lin_reg.fit(housing_prepared, housing_labels)"
   ]
  },
  {
   "cell_type": "code",
   "execution_count": 39,
   "metadata": {},
   "outputs": [
    {
     "name": "stdout",
     "output_type": "stream",
     "text": [
      "Predictions: [203825.70217371 203176.67813479 205753.27479283 201945.75218253\n",
      " 205050.70021246]\n"
     ]
    }
   ],
   "source": [
    "# let's try the full preprocessing pipeline on a few training instances\n",
    "some_data = housing[:5]\n",
    "some_labels = housing_labels[:5]\n",
    "some_data_prepared = full_pipeline.transform(some_data)\n",
    "\n",
    "print(\"Predictions:\", lin_reg.predict(some_data_prepared))"
   ]
  },
  {
   "cell_type": "code",
   "execution_count": 40,
   "metadata": {},
   "outputs": [
    {
     "name": "stdout",
     "output_type": "stream",
     "text": [
      "Labels: [232400.0, 131300.0, 118900.0, 240400.0, 341300.0]\n"
     ]
    }
   ],
   "source": [
    "print(\"Labels:\", list(some_labels))"
   ]
  },
  {
   "cell_type": "code",
   "execution_count": 41,
   "metadata": {},
   "outputs": [
    {
     "data": {
      "text/plain": [
       "array([[-1.21415798,  0.83317743, -0.92259269,  0.75702927,  0.74111783,\n",
       "         0.20129039,  0.99423227, -0.11676612, -0.235142  , -0.1088904 ,\n",
       "        -0.26327837,  1.        ,  0.        ,  0.        ,  0.        ,\n",
       "         0.        ],\n",
       "       [-0.44194323, -0.30714064, -1.4767895 , -0.33933764, -0.43704781,\n",
       "        -0.06740943, -0.3731158 , -0.0614577 , -0.05256021,  0.06482595,\n",
       "        -0.4503365 ,  1.        ,  0.        ,  0.        ,  0.        ,\n",
       "         0.        ],\n",
       "       [-1.21415798,  1.27898079,  0.42331385, -0.70660023, -0.83055513,\n",
       "        -0.76975352, -0.78487403,  0.17000285,  0.01615476, -0.02178034,\n",
       "        -0.69251212,  0.        ,  1.        ,  0.        ,  0.        ,\n",
       "         0.        ],\n",
       "       [-1.16433767,  0.76278743, -0.05171198,  0.0297319 , -0.08831078,\n",
       "        -0.0354847 , -0.02868911,  0.96675725,  0.04347826, -0.02165716,\n",
       "        -0.47856383,  1.        ,  0.        ,  0.        ,  0.        ,\n",
       "         0.        ],\n",
       "       [ 0.79858239, -0.81864133, -0.2892249 ,  0.42003309, -0.18492036,\n",
       "         0.14098812, -0.09084129,  1.23656845,  0.95642443,  0.03022349,\n",
       "        -1.44244139,  1.        ,  0.        ,  0.        ,  0.        ,\n",
       "         0.        ]])"
      ]
     },
     "execution_count": 41,
     "metadata": {},
     "output_type": "execute_result"
    }
   ],
   "source": [
    "some_data_prepared"
   ]
  },
  {
   "cell_type": "code",
   "execution_count": 42,
   "metadata": {},
   "outputs": [
    {
     "data": {
      "text/plain": [
       "116931.7732077936"
      ]
     },
     "execution_count": 42,
     "metadata": {},
     "output_type": "execute_result"
    }
   ],
   "source": [
    "from sklearn.metrics import mean_squared_error\n",
    "\n",
    "housing_predictions = lin_reg.predict(housing_prepared)\n",
    "lin_mse = mean_squared_error(housing_labels, housing_predictions)\n",
    "lin_rmse = np.sqrt(lin_mse)\n",
    "lin_rmse"
   ]
  },
  {
   "cell_type": "code",
   "execution_count": 43,
   "metadata": {},
   "outputs": [
    {
     "data": {
      "text/plain": [
       "92187.8814867963"
      ]
     },
     "execution_count": 43,
     "metadata": {},
     "output_type": "execute_result"
    }
   ],
   "source": [
    "from sklearn.metrics import mean_absolute_error\n",
    "\n",
    "lin_mae = mean_absolute_error(housing_labels, housing_predictions)\n",
    "lin_mae"
   ]
  },
  {
   "cell_type": "code",
   "execution_count": 44,
   "metadata": {},
   "outputs": [
    {
     "data": {
      "text/plain": [
       "DecisionTreeRegressor(criterion='mse', max_depth=None, max_features=None,\n",
       "                      max_leaf_nodes=None, min_impurity_decrease=0.0,\n",
       "                      min_impurity_split=None, min_samples_leaf=1,\n",
       "                      min_samples_split=2, min_weight_fraction_leaf=0.0,\n",
       "                      presort=False, random_state=42, splitter='best')"
      ]
     },
     "execution_count": 44,
     "metadata": {},
     "output_type": "execute_result"
    }
   ],
   "source": [
    "from sklearn.tree import DecisionTreeRegressor\n",
    "\n",
    "tree_reg = DecisionTreeRegressor(random_state=42)\n",
    "tree_reg.fit(housing_prepared, housing_labels)"
   ]
  },
  {
   "cell_type": "code",
   "execution_count": 45,
   "metadata": {},
   "outputs": [
    {
     "data": {
      "text/plain": [
       "0.0"
      ]
     },
     "execution_count": 45,
     "metadata": {},
     "output_type": "execute_result"
    }
   ],
   "source": [
    "housing_predictions = tree_reg.predict(housing_prepared)\n",
    "tree_mse = mean_squared_error(housing_labels, housing_predictions)\n",
    "tree_rmse = np.sqrt(tree_mse)\n",
    "tree_rmse"
   ]
  },
  {
   "cell_type": "markdown",
   "metadata": {},
   "source": [
    "# Afinar el modelo"
   ]
  },
  {
   "cell_type": "code",
   "execution_count": 46,
   "metadata": {},
   "outputs": [],
   "source": [
    "from sklearn.model_selection import cross_val_score\n",
    "\n",
    "scores = cross_val_score(tree_reg, housing_prepared, housing_labels,\n",
    "                         scoring=\"neg_mean_squared_error\", cv=10)\n",
    "tree_rmse_scores = np.sqrt(-scores)"
   ]
  },
  {
   "cell_type": "code",
   "execution_count": 47,
   "metadata": {},
   "outputs": [
    {
     "name": "stdout",
     "output_type": "stream",
     "text": [
      "Scores: [172179.18741488 171005.6072584  173876.47834662 162746.56679611\n",
      " 168601.26351451 170777.04687544 167351.76673896 171026.03642294\n",
      " 171617.4155846  170762.69602025]\n",
      "Mean: 169994.40649727243\n",
      "Standard deviation: 2953.3550858446874\n"
     ]
    }
   ],
   "source": [
    "def display_scores(scores):\n",
    "    print(\"Scores:\", scores)\n",
    "    print(\"Mean:\", scores.mean())\n",
    "    print(\"Standard deviation:\", scores.std())\n",
    "\n",
    "display_scores(tree_rmse_scores)"
   ]
  },
  {
   "cell_type": "code",
   "execution_count": 48,
   "metadata": {},
   "outputs": [
    {
     "name": "stdout",
     "output_type": "stream",
     "text": [
      "Scores: [116855.88044413 117467.4169534  116493.30952235 115576.5428053\n",
      " 115506.72064989 118876.9830154  117005.46323639 119845.91339728\n",
      " 115738.77578255 116983.63338739]\n",
      "Mean: 117035.06391940708\n",
      "Standard deviation: 1339.8908783027744\n"
     ]
    }
   ],
   "source": [
    "lin_scores = cross_val_score(lin_reg, housing_prepared, housing_labels,\n",
    "                             scoring=\"neg_mean_squared_error\", cv=10)\n",
    "lin_rmse_scores = np.sqrt(-lin_scores)\n",
    "display_scores(lin_rmse_scores)"
   ]
  },
  {
   "cell_type": "code",
   "execution_count": 49,
   "metadata": {},
   "outputs": [
    {
     "data": {
      "text/plain": [
       "RandomForestRegressor(bootstrap=True, criterion='mse', max_depth=None,\n",
       "                      max_features='auto', max_leaf_nodes=None,\n",
       "                      min_impurity_decrease=0.0, min_impurity_split=None,\n",
       "                      min_samples_leaf=1, min_samples_split=2,\n",
       "                      min_weight_fraction_leaf=0.0, n_estimators=100,\n",
       "                      n_jobs=None, oob_score=False, random_state=42, verbose=0,\n",
       "                      warm_start=False)"
      ]
     },
     "execution_count": 49,
     "metadata": {},
     "output_type": "execute_result"
    }
   ],
   "source": [
    "from sklearn.ensemble import RandomForestRegressor\n",
    "\n",
    "forest_reg = RandomForestRegressor(n_estimators=100, random_state=42)\n",
    "forest_reg.fit(housing_prepared, housing_labels)"
   ]
  },
  {
   "cell_type": "code",
   "execution_count": 50,
   "metadata": {},
   "outputs": [
    {
     "data": {
      "text/plain": [
       "44694.719697442524"
      ]
     },
     "execution_count": 50,
     "metadata": {},
     "output_type": "execute_result"
    }
   ],
   "source": [
    "housing_predictions = forest_reg.predict(housing_prepared)\n",
    "forest_mse = mean_squared_error(housing_labels, housing_predictions)\n",
    "forest_rmse = np.sqrt(forest_mse)\n",
    "forest_rmse"
   ]
  },
  {
   "cell_type": "code",
   "execution_count": 51,
   "metadata": {},
   "outputs": [
    {
     "name": "stdout",
     "output_type": "stream",
     "text": [
      "Scores: [119152.9943197  119774.15712041 120288.79831126 117386.23079349\n",
      " 117448.80584877 121644.67571169 119294.12633118 121826.06210398\n",
      " 119440.41651713 119886.09616037]\n",
      "Mean: 119614.23632179822\n",
      "Standard deviation: 1398.8530802333987\n"
     ]
    }
   ],
   "source": [
    "from sklearn.model_selection import cross_val_score\n",
    "\n",
    "forest_scores = cross_val_score(forest_reg, housing_prepared, housing_labels,\n",
    "                                scoring=\"neg_mean_squared_error\", cv=10)\n",
    "forest_rmse_scores = np.sqrt(-forest_scores)\n",
    "display_scores(forest_rmse_scores)"
   ]
  },
  {
   "cell_type": "code",
   "execution_count": 52,
   "metadata": {},
   "outputs": [
    {
     "data": {
      "text/plain": [
       "count        10.000000\n",
       "mean     117035.063919\n",
       "std        1412.368997\n",
       "min      115506.720650\n",
       "25%      115927.409217\n",
       "50%      116919.756916\n",
       "75%      117351.928524\n",
       "max      119845.913397\n",
       "dtype: float64"
      ]
     },
     "execution_count": 52,
     "metadata": {},
     "output_type": "execute_result"
    }
   ],
   "source": [
    "scores = cross_val_score(lin_reg, housing_prepared, housing_labels, scoring=\"neg_mean_squared_error\", cv=10)\n",
    "pd.Series(np.sqrt(-scores)).describe()"
   ]
  },
  {
   "cell_type": "code",
   "execution_count": 53,
   "metadata": {},
   "outputs": [
    {
     "data": {
      "text/plain": [
       "119973.93746905858"
      ]
     },
     "execution_count": 53,
     "metadata": {},
     "output_type": "execute_result"
    }
   ],
   "source": [
    "from sklearn.svm import SVR\n",
    "\n",
    "svm_reg = SVR(kernel=\"linear\")\n",
    "svm_reg.fit(housing_prepared, housing_labels)\n",
    "housing_predictions = svm_reg.predict(housing_prepared)\n",
    "svm_mse = mean_squared_error(housing_labels, housing_predictions)\n",
    "svm_rmse = np.sqrt(svm_mse)\n",
    "svm_rmse"
   ]
  },
  {
   "cell_type": "code",
   "execution_count": 54,
   "metadata": {},
   "outputs": [
    {
     "data": {
      "text/plain": [
       "GridSearchCV(cv=5, error_score='raise-deprecating',\n",
       "             estimator=RandomForestRegressor(bootstrap=True, criterion='mse',\n",
       "                                             max_depth=None,\n",
       "                                             max_features='auto',\n",
       "                                             max_leaf_nodes=None,\n",
       "                                             min_impurity_decrease=0.0,\n",
       "                                             min_impurity_split=None,\n",
       "                                             min_samples_leaf=1,\n",
       "                                             min_samples_split=2,\n",
       "                                             min_weight_fraction_leaf=0.0,\n",
       "                                             n_estimators='warn', n_jobs=None,\n",
       "                                             oob_score=False, random_state=42,\n",
       "                                             verbose=0, warm_start=False),\n",
       "             iid='warn', n_jobs=None,\n",
       "             param_grid=[{'max_features': [2, 4, 6, 8],\n",
       "                          'n_estimators': [3, 10, 30]},\n",
       "                         {'bootstrap': [False], 'max_features': [2, 3, 4],\n",
       "                          'n_estimators': [3, 10]}],\n",
       "             pre_dispatch='2*n_jobs', refit=True, return_train_score=True,\n",
       "             scoring='neg_mean_squared_error', verbose=0)"
      ]
     },
     "execution_count": 54,
     "metadata": {},
     "output_type": "execute_result"
    }
   ],
   "source": [
    "from sklearn.model_selection import GridSearchCV\n",
    "\n",
    "param_grid = [\n",
    "    # try 12 (3×4) combinations of hyperparameters\n",
    "    {'n_estimators': [3, 10, 30], 'max_features': [2, 4, 6, 8]},\n",
    "    # then try 6 (2×3) combinations with bootstrap set as False\n",
    "    {'bootstrap': [False], 'n_estimators': [3, 10], 'max_features': [2, 3, 4]},\n",
    "  ]\n",
    "\n",
    "forest_reg = RandomForestRegressor(random_state=42)\n",
    "# train across 5 folds, that's a total of (12+6)*5=90 rounds of training \n",
    "grid_search = GridSearchCV(forest_reg, param_grid, cv=5,\n",
    "                           scoring='neg_mean_squared_error',\n",
    "                           return_train_score=True)\n",
    "grid_search.fit(housing_prepared, housing_labels)"
   ]
  },
  {
   "cell_type": "code",
   "execution_count": 55,
   "metadata": {},
   "outputs": [
    {
     "data": {
      "text/plain": [
       "{'max_features': 2, 'n_estimators': 30}"
      ]
     },
     "execution_count": 55,
     "metadata": {},
     "output_type": "execute_result"
    }
   ],
   "source": [
    "grid_search.best_params_"
   ]
  },
  {
   "cell_type": "code",
   "execution_count": 56,
   "metadata": {},
   "outputs": [
    {
     "data": {
      "text/plain": [
       "RandomForestRegressor(bootstrap=True, criterion='mse', max_depth=None,\n",
       "                      max_features=2, max_leaf_nodes=None,\n",
       "                      min_impurity_decrease=0.0, min_impurity_split=None,\n",
       "                      min_samples_leaf=1, min_samples_split=2,\n",
       "                      min_weight_fraction_leaf=0.0, n_estimators=30,\n",
       "                      n_jobs=None, oob_score=False, random_state=42, verbose=0,\n",
       "                      warm_start=False)"
      ]
     },
     "execution_count": 56,
     "metadata": {},
     "output_type": "execute_result"
    }
   ],
   "source": [
    "grid_search.best_estimator_"
   ]
  },
  {
   "cell_type": "markdown",
   "metadata": {},
   "source": []
  },
  {
   "cell_type": "code",
   "execution_count": 57,
   "metadata": {
    "scrolled": true
   },
   "outputs": [
    {
     "name": "stdout",
     "output_type": "stream",
     "text": [
      "136054.69162931756 {'max_features': 2, 'n_estimators': 3}\n",
      "124727.8311605372 {'max_features': 2, 'n_estimators': 10}\n",
      "120968.76834727079 {'max_features': 2, 'n_estimators': 30}\n",
      "137484.15367956788 {'max_features': 4, 'n_estimators': 3}\n",
      "124531.64723941515 {'max_features': 4, 'n_estimators': 10}\n",
      "121049.28592941181 {'max_features': 4, 'n_estimators': 30}\n",
      "137810.56930764203 {'max_features': 6, 'n_estimators': 3}\n",
      "124753.34955212813 {'max_features': 6, 'n_estimators': 10}\n",
      "121149.3287465455 {'max_features': 6, 'n_estimators': 30}\n",
      "137343.78071629148 {'max_features': 8, 'n_estimators': 3}\n",
      "125360.89585057127 {'max_features': 8, 'n_estimators': 10}\n",
      "121547.13554083911 {'max_features': 8, 'n_estimators': 30}\n",
      "138165.33685831164 {'bootstrap': False, 'max_features': 2, 'n_estimators': 3}\n",
      "125519.63619806373 {'bootstrap': False, 'max_features': 2, 'n_estimators': 10}\n",
      "138667.4005907124 {'bootstrap': False, 'max_features': 3, 'n_estimators': 3}\n",
      "126489.52859636315 {'bootstrap': False, 'max_features': 3, 'n_estimators': 10}\n",
      "139328.18172177594 {'bootstrap': False, 'max_features': 4, 'n_estimators': 3}\n",
      "126809.72730013003 {'bootstrap': False, 'max_features': 4, 'n_estimators': 10}\n"
     ]
    }
   ],
   "source": [
    "cvres = grid_search.cv_results_\n",
    "for mean_score, params in zip(cvres[\"mean_test_score\"], cvres[\"params\"]):\n",
    "    print(np.sqrt(-mean_score), params)"
   ]
  },
  {
   "cell_type": "code",
   "execution_count": 58,
   "metadata": {},
   "outputs": [
    {
     "data": {
      "text/html": [
       "<div>\n",
       "<style scoped>\n",
       "    .dataframe tbody tr th:only-of-type {\n",
       "        vertical-align: middle;\n",
       "    }\n",
       "\n",
       "    .dataframe tbody tr th {\n",
       "        vertical-align: top;\n",
       "    }\n",
       "\n",
       "    .dataframe thead th {\n",
       "        text-align: right;\n",
       "    }\n",
       "</style>\n",
       "<table border=\"1\" class=\"dataframe\">\n",
       "  <thead>\n",
       "    <tr style=\"text-align: right;\">\n",
       "      <th></th>\n",
       "      <th>mean_fit_time</th>\n",
       "      <th>std_fit_time</th>\n",
       "      <th>mean_score_time</th>\n",
       "      <th>std_score_time</th>\n",
       "      <th>param_max_features</th>\n",
       "      <th>param_n_estimators</th>\n",
       "      <th>param_bootstrap</th>\n",
       "      <th>params</th>\n",
       "      <th>split0_test_score</th>\n",
       "      <th>split1_test_score</th>\n",
       "      <th>...</th>\n",
       "      <th>mean_test_score</th>\n",
       "      <th>std_test_score</th>\n",
       "      <th>rank_test_score</th>\n",
       "      <th>split0_train_score</th>\n",
       "      <th>split1_train_score</th>\n",
       "      <th>split2_train_score</th>\n",
       "      <th>split3_train_score</th>\n",
       "      <th>split4_train_score</th>\n",
       "      <th>mean_train_score</th>\n",
       "      <th>std_train_score</th>\n",
       "    </tr>\n",
       "  </thead>\n",
       "  <tbody>\n",
       "    <tr>\n",
       "      <td>0</td>\n",
       "      <td>0.257370</td>\n",
       "      <td>0.022414</td>\n",
       "      <td>0.008606</td>\n",
       "      <td>4.904270e-04</td>\n",
       "      <td>2</td>\n",
       "      <td>3</td>\n",
       "      <td>NaN</td>\n",
       "      <td>{'max_features': 2, 'n_estimators': 3}</td>\n",
       "      <td>-1.856056e+10</td>\n",
       "      <td>-1.802956e+10</td>\n",
       "      <td>...</td>\n",
       "      <td>-1.851088e+10</td>\n",
       "      <td>3.269114e+08</td>\n",
       "      <td>12</td>\n",
       "      <td>-4.647532e+09</td>\n",
       "      <td>-4.822709e+09</td>\n",
       "      <td>-4.746314e+09</td>\n",
       "      <td>-4.710009e+09</td>\n",
       "      <td>-4.716053e+09</td>\n",
       "      <td>-4.728523e+09</td>\n",
       "      <td>5.700074e+07</td>\n",
       "    </tr>\n",
       "    <tr>\n",
       "      <td>1</td>\n",
       "      <td>0.371645</td>\n",
       "      <td>0.211502</td>\n",
       "      <td>0.012609</td>\n",
       "      <td>6.220727e-03</td>\n",
       "      <td>2</td>\n",
       "      <td>10</td>\n",
       "      <td>NaN</td>\n",
       "      <td>{'max_features': 2, 'n_estimators': 10}</td>\n",
       "      <td>-1.578116e+10</td>\n",
       "      <td>-1.536610e+10</td>\n",
       "      <td>...</td>\n",
       "      <td>-1.555703e+10</td>\n",
       "      <td>1.758674e+08</td>\n",
       "      <td>6</td>\n",
       "      <td>-2.728399e+09</td>\n",
       "      <td>-2.759000e+09</td>\n",
       "      <td>-2.770056e+09</td>\n",
       "      <td>-2.716207e+09</td>\n",
       "      <td>-2.709397e+09</td>\n",
       "      <td>-2.736612e+09</td>\n",
       "      <td>2.385026e+07</td>\n",
       "    </tr>\n",
       "    <tr>\n",
       "      <td>2</td>\n",
       "      <td>1.254631</td>\n",
       "      <td>0.636773</td>\n",
       "      <td>0.044831</td>\n",
       "      <td>2.140962e-02</td>\n",
       "      <td>2</td>\n",
       "      <td>30</td>\n",
       "      <td>NaN</td>\n",
       "      <td>{'max_features': 2, 'n_estimators': 30}</td>\n",
       "      <td>-1.483884e+10</td>\n",
       "      <td>-1.436986e+10</td>\n",
       "      <td>...</td>\n",
       "      <td>-1.463344e+10</td>\n",
       "      <td>1.860033e+08</td>\n",
       "      <td>1</td>\n",
       "      <td>-2.176384e+09</td>\n",
       "      <td>-2.196436e+09</td>\n",
       "      <td>-2.189419e+09</td>\n",
       "      <td>-2.160950e+09</td>\n",
       "      <td>-2.170345e+09</td>\n",
       "      <td>-2.178707e+09</td>\n",
       "      <td>1.280406e+07</td>\n",
       "    </tr>\n",
       "    <tr>\n",
       "      <td>3</td>\n",
       "      <td>0.140294</td>\n",
       "      <td>0.007578</td>\n",
       "      <td>0.003603</td>\n",
       "      <td>4.902713e-04</td>\n",
       "      <td>4</td>\n",
       "      <td>3</td>\n",
       "      <td>NaN</td>\n",
       "      <td>{'max_features': 4, 'n_estimators': 3}</td>\n",
       "      <td>-1.901551e+10</td>\n",
       "      <td>-1.881468e+10</td>\n",
       "      <td>...</td>\n",
       "      <td>-1.890189e+10</td>\n",
       "      <td>9.385585e+07</td>\n",
       "      <td>14</td>\n",
       "      <td>-4.821055e+09</td>\n",
       "      <td>-4.793006e+09</td>\n",
       "      <td>-4.960775e+09</td>\n",
       "      <td>-4.913445e+09</td>\n",
       "      <td>-4.844389e+09</td>\n",
       "      <td>-4.866534e+09</td>\n",
       "      <td>6.172063e+07</td>\n",
       "    </tr>\n",
       "    <tr>\n",
       "      <td>4</td>\n",
       "      <td>0.976246</td>\n",
       "      <td>0.416833</td>\n",
       "      <td>0.016412</td>\n",
       "      <td>7.843892e-03</td>\n",
       "      <td>4</td>\n",
       "      <td>10</td>\n",
       "      <td>NaN</td>\n",
       "      <td>{'max_features': 4, 'n_estimators': 10}</td>\n",
       "      <td>-1.561165e+10</td>\n",
       "      <td>-1.526805e+10</td>\n",
       "      <td>...</td>\n",
       "      <td>-1.550813e+10</td>\n",
       "      <td>2.397080e+08</td>\n",
       "      <td>5</td>\n",
       "      <td>-2.765693e+09</td>\n",
       "      <td>-2.794576e+09</td>\n",
       "      <td>-2.773473e+09</td>\n",
       "      <td>-2.801509e+09</td>\n",
       "      <td>-2.722696e+09</td>\n",
       "      <td>-2.771589e+09</td>\n",
       "      <td>2.775773e+07</td>\n",
       "    </tr>\n",
       "    <tr>\n",
       "      <td>5</td>\n",
       "      <td>2.296120</td>\n",
       "      <td>1.093805</td>\n",
       "      <td>0.045431</td>\n",
       "      <td>2.174554e-02</td>\n",
       "      <td>4</td>\n",
       "      <td>30</td>\n",
       "      <td>NaN</td>\n",
       "      <td>{'max_features': 4, 'n_estimators': 30}</td>\n",
       "      <td>-1.476092e+10</td>\n",
       "      <td>-1.435850e+10</td>\n",
       "      <td>...</td>\n",
       "      <td>-1.465293e+10</td>\n",
       "      <td>2.074885e+08</td>\n",
       "      <td>2</td>\n",
       "      <td>-2.186333e+09</td>\n",
       "      <td>-2.204914e+09</td>\n",
       "      <td>-2.187253e+09</td>\n",
       "      <td>-2.184165e+09</td>\n",
       "      <td>-2.163027e+09</td>\n",
       "      <td>-2.185139e+09</td>\n",
       "      <td>1.331792e+07</td>\n",
       "    </tr>\n",
       "    <tr>\n",
       "      <td>6</td>\n",
       "      <td>0.534754</td>\n",
       "      <td>0.075515</td>\n",
       "      <td>0.007606</td>\n",
       "      <td>2.333909e-03</td>\n",
       "      <td>6</td>\n",
       "      <td>3</td>\n",
       "      <td>NaN</td>\n",
       "      <td>{'max_features': 6, 'n_estimators': 3}</td>\n",
       "      <td>-1.916044e+10</td>\n",
       "      <td>-1.861724e+10</td>\n",
       "      <td>...</td>\n",
       "      <td>-1.899175e+10</td>\n",
       "      <td>2.787175e+08</td>\n",
       "      <td>15</td>\n",
       "      <td>-4.708034e+09</td>\n",
       "      <td>-4.823809e+09</td>\n",
       "      <td>-4.871565e+09</td>\n",
       "      <td>-4.792268e+09</td>\n",
       "      <td>-4.753221e+09</td>\n",
       "      <td>-4.789779e+09</td>\n",
       "      <td>5.634152e+07</td>\n",
       "    </tr>\n",
       "    <tr>\n",
       "      <td>7</td>\n",
       "      <td>1.122142</td>\n",
       "      <td>0.518744</td>\n",
       "      <td>0.016213</td>\n",
       "      <td>7.200579e-03</td>\n",
       "      <td>6</td>\n",
       "      <td>10</td>\n",
       "      <td>NaN</td>\n",
       "      <td>{'max_features': 6, 'n_estimators': 10}</td>\n",
       "      <td>-1.544271e+10</td>\n",
       "      <td>-1.538781e+10</td>\n",
       "      <td>...</td>\n",
       "      <td>-1.556340e+10</td>\n",
       "      <td>2.538834e+08</td>\n",
       "      <td>7</td>\n",
       "      <td>-2.791361e+09</td>\n",
       "      <td>-2.811165e+09</td>\n",
       "      <td>-2.775534e+09</td>\n",
       "      <td>-2.766234e+09</td>\n",
       "      <td>-2.702988e+09</td>\n",
       "      <td>-2.769457e+09</td>\n",
       "      <td>3.656435e+07</td>\n",
       "    </tr>\n",
       "    <tr>\n",
       "      <td>8</td>\n",
       "      <td>3.397447</td>\n",
       "      <td>1.147150</td>\n",
       "      <td>0.037826</td>\n",
       "      <td>1.715112e-02</td>\n",
       "      <td>6</td>\n",
       "      <td>30</td>\n",
       "      <td>NaN</td>\n",
       "      <td>{'max_features': 6, 'n_estimators': 30}</td>\n",
       "      <td>-1.460849e+10</td>\n",
       "      <td>-1.440900e+10</td>\n",
       "      <td>...</td>\n",
       "      <td>-1.467716e+10</td>\n",
       "      <td>2.524848e+08</td>\n",
       "      <td>3</td>\n",
       "      <td>-2.188794e+09</td>\n",
       "      <td>-2.205673e+09</td>\n",
       "      <td>-2.188516e+09</td>\n",
       "      <td>-2.186056e+09</td>\n",
       "      <td>-2.178901e+09</td>\n",
       "      <td>-2.189588e+09</td>\n",
       "      <td>8.799925e+06</td>\n",
       "    </tr>\n",
       "    <tr>\n",
       "      <td>9</td>\n",
       "      <td>0.246163</td>\n",
       "      <td>0.004943</td>\n",
       "      <td>0.003803</td>\n",
       "      <td>3.997091e-04</td>\n",
       "      <td>8</td>\n",
       "      <td>3</td>\n",
       "      <td>NaN</td>\n",
       "      <td>{'max_features': 8, 'n_estimators': 3}</td>\n",
       "      <td>-1.862171e+10</td>\n",
       "      <td>-1.902526e+10</td>\n",
       "      <td>...</td>\n",
       "      <td>-1.886331e+10</td>\n",
       "      <td>1.538799e+08</td>\n",
       "      <td>13</td>\n",
       "      <td>-4.734662e+09</td>\n",
       "      <td>-4.747452e+09</td>\n",
       "      <td>-4.817978e+09</td>\n",
       "      <td>-4.725091e+09</td>\n",
       "      <td>-4.848340e+09</td>\n",
       "      <td>-4.774705e+09</td>\n",
       "      <td>4.919831e+07</td>\n",
       "    </tr>\n",
       "    <tr>\n",
       "      <td>10</td>\n",
       "      <td>1.551227</td>\n",
       "      <td>0.700238</td>\n",
       "      <td>0.016212</td>\n",
       "      <td>7.604709e-03</td>\n",
       "      <td>8</td>\n",
       "      <td>10</td>\n",
       "      <td>NaN</td>\n",
       "      <td>{'max_features': 8, 'n_estimators': 10}</td>\n",
       "      <td>-1.572034e+10</td>\n",
       "      <td>-1.557297e+10</td>\n",
       "      <td>...</td>\n",
       "      <td>-1.571535e+10</td>\n",
       "      <td>1.351629e+08</td>\n",
       "      <td>8</td>\n",
       "      <td>-2.776146e+09</td>\n",
       "      <td>-2.782380e+09</td>\n",
       "      <td>-2.777482e+09</td>\n",
       "      <td>-2.750924e+09</td>\n",
       "      <td>-2.713630e+09</td>\n",
       "      <td>-2.760112e+09</td>\n",
       "      <td>2.568937e+07</td>\n",
       "    </tr>\n",
       "    <tr>\n",
       "      <td>11</td>\n",
       "      <td>4.305448</td>\n",
       "      <td>1.178704</td>\n",
       "      <td>0.036825</td>\n",
       "      <td>1.812744e-02</td>\n",
       "      <td>8</td>\n",
       "      <td>30</td>\n",
       "      <td>NaN</td>\n",
       "      <td>{'max_features': 8, 'n_estimators': 30}</td>\n",
       "      <td>-1.471521e+10</td>\n",
       "      <td>-1.451734e+10</td>\n",
       "      <td>...</td>\n",
       "      <td>-1.477371e+10</td>\n",
       "      <td>2.007351e+08</td>\n",
       "      <td>4</td>\n",
       "      <td>-2.181720e+09</td>\n",
       "      <td>-2.191732e+09</td>\n",
       "      <td>-2.199724e+09</td>\n",
       "      <td>-2.179806e+09</td>\n",
       "      <td>-2.168691e+09</td>\n",
       "      <td>-2.184335e+09</td>\n",
       "      <td>1.061721e+07</td>\n",
       "    </tr>\n",
       "    <tr>\n",
       "      <td>12</td>\n",
       "      <td>0.394664</td>\n",
       "      <td>0.010316</td>\n",
       "      <td>0.010206</td>\n",
       "      <td>3.993035e-04</td>\n",
       "      <td>2</td>\n",
       "      <td>3</td>\n",
       "      <td>False</td>\n",
       "      <td>{'bootstrap': False, 'max_features': 2, 'n_est...</td>\n",
       "      <td>-1.919636e+10</td>\n",
       "      <td>-1.901767e+10</td>\n",
       "      <td>...</td>\n",
       "      <td>-1.908966e+10</td>\n",
       "      <td>2.782983e+08</td>\n",
       "      <td>16</td>\n",
       "      <td>-0.000000e+00</td>\n",
       "      <td>-0.000000e+00</td>\n",
       "      <td>-4.789456e+03</td>\n",
       "      <td>-0.000000e+00</td>\n",
       "      <td>-0.000000e+00</td>\n",
       "      <td>-9.578911e+02</td>\n",
       "      <td>1.915782e+03</td>\n",
       "    </tr>\n",
       "    <tr>\n",
       "      <td>13</td>\n",
       "      <td>0.759904</td>\n",
       "      <td>0.392670</td>\n",
       "      <td>0.015411</td>\n",
       "      <td>6.804156e-03</td>\n",
       "      <td>2</td>\n",
       "      <td>10</td>\n",
       "      <td>False</td>\n",
       "      <td>{'bootstrap': False, 'max_features': 2, 'n_est...</td>\n",
       "      <td>-1.592443e+10</td>\n",
       "      <td>-1.554095e+10</td>\n",
       "      <td>...</td>\n",
       "      <td>-1.575518e+10</td>\n",
       "      <td>2.575614e+08</td>\n",
       "      <td>9</td>\n",
       "      <td>-0.000000e+00</td>\n",
       "      <td>-0.000000e+00</td>\n",
       "      <td>-4.310510e+02</td>\n",
       "      <td>-4.184498e+03</td>\n",
       "      <td>-0.000000e+00</td>\n",
       "      <td>-9.231097e+02</td>\n",
       "      <td>1.639217e+03</td>\n",
       "    </tr>\n",
       "    <tr>\n",
       "      <td>14</td>\n",
       "      <td>0.198732</td>\n",
       "      <td>0.015842</td>\n",
       "      <td>0.004003</td>\n",
       "      <td>5.091228e-07</td>\n",
       "      <td>3</td>\n",
       "      <td>3</td>\n",
       "      <td>False</td>\n",
       "      <td>{'bootstrap': False, 'max_features': 3, 'n_est...</td>\n",
       "      <td>-1.923345e+10</td>\n",
       "      <td>-1.925013e+10</td>\n",
       "      <td>...</td>\n",
       "      <td>-1.922865e+10</td>\n",
       "      <td>2.357244e+08</td>\n",
       "      <td>17</td>\n",
       "      <td>-0.000000e+00</td>\n",
       "      <td>-0.000000e+00</td>\n",
       "      <td>-0.000000e+00</td>\n",
       "      <td>-0.000000e+00</td>\n",
       "      <td>-0.000000e+00</td>\n",
       "      <td>0.000000e+00</td>\n",
       "      <td>0.000000e+00</td>\n",
       "    </tr>\n",
       "    <tr>\n",
       "      <td>15</td>\n",
       "      <td>1.114939</td>\n",
       "      <td>0.565554</td>\n",
       "      <td>0.015411</td>\n",
       "      <td>7.314467e-03</td>\n",
       "      <td>3</td>\n",
       "      <td>10</td>\n",
       "      <td>False</td>\n",
       "      <td>{'bootstrap': False, 'max_features': 3, 'n_est...</td>\n",
       "      <td>-1.598263e+10</td>\n",
       "      <td>-1.560895e+10</td>\n",
       "      <td>...</td>\n",
       "      <td>-1.599960e+10</td>\n",
       "      <td>3.118475e+08</td>\n",
       "      <td>10</td>\n",
       "      <td>-0.000000e+00</td>\n",
       "      <td>-0.000000e+00</td>\n",
       "      <td>-0.000000e+00</td>\n",
       "      <td>-0.000000e+00</td>\n",
       "      <td>-9.659969e+02</td>\n",
       "      <td>-1.931994e+02</td>\n",
       "      <td>3.863988e+02</td>\n",
       "    </tr>\n",
       "    <tr>\n",
       "      <td>16</td>\n",
       "      <td>0.526148</td>\n",
       "      <td>0.211077</td>\n",
       "      <td>0.007806</td>\n",
       "      <td>3.126432e-03</td>\n",
       "      <td>4</td>\n",
       "      <td>3</td>\n",
       "      <td>False</td>\n",
       "      <td>{'bootstrap': False, 'max_features': 4, 'n_est...</td>\n",
       "      <td>-1.924208e+10</td>\n",
       "      <td>-1.928455e+10</td>\n",
       "      <td>...</td>\n",
       "      <td>-1.941234e+10</td>\n",
       "      <td>2.363817e+08</td>\n",
       "      <td>18</td>\n",
       "      <td>-0.000000e+00</td>\n",
       "      <td>-0.000000e+00</td>\n",
       "      <td>-0.000000e+00</td>\n",
       "      <td>-0.000000e+00</td>\n",
       "      <td>-0.000000e+00</td>\n",
       "      <td>0.000000e+00</td>\n",
       "      <td>0.000000e+00</td>\n",
       "    </tr>\n",
       "    <tr>\n",
       "      <td>17</td>\n",
       "      <td>1.477376</td>\n",
       "      <td>0.628377</td>\n",
       "      <td>0.019614</td>\n",
       "      <td>8.964215e-03</td>\n",
       "      <td>4</td>\n",
       "      <td>10</td>\n",
       "      <td>False</td>\n",
       "      <td>{'bootstrap': False, 'max_features': 4, 'n_est...</td>\n",
       "      <td>-1.614183e+10</td>\n",
       "      <td>-1.550284e+10</td>\n",
       "      <td>...</td>\n",
       "      <td>-1.608071e+10</td>\n",
       "      <td>3.834414e+08</td>\n",
       "      <td>11</td>\n",
       "      <td>-0.000000e+00</td>\n",
       "      <td>-0.000000e+00</td>\n",
       "      <td>-0.000000e+00</td>\n",
       "      <td>-0.000000e+00</td>\n",
       "      <td>-0.000000e+00</td>\n",
       "      <td>0.000000e+00</td>\n",
       "      <td>0.000000e+00</td>\n",
       "    </tr>\n",
       "  </tbody>\n",
       "</table>\n",
       "<p>18 rows × 23 columns</p>\n",
       "</div>"
      ],
      "text/plain": [
       "    mean_fit_time  std_fit_time  mean_score_time  std_score_time  \\\n",
       "0        0.257370      0.022414         0.008606    4.904270e-04   \n",
       "1        0.371645      0.211502         0.012609    6.220727e-03   \n",
       "2        1.254631      0.636773         0.044831    2.140962e-02   \n",
       "3        0.140294      0.007578         0.003603    4.902713e-04   \n",
       "4        0.976246      0.416833         0.016412    7.843892e-03   \n",
       "5        2.296120      1.093805         0.045431    2.174554e-02   \n",
       "6        0.534754      0.075515         0.007606    2.333909e-03   \n",
       "7        1.122142      0.518744         0.016213    7.200579e-03   \n",
       "8        3.397447      1.147150         0.037826    1.715112e-02   \n",
       "9        0.246163      0.004943         0.003803    3.997091e-04   \n",
       "10       1.551227      0.700238         0.016212    7.604709e-03   \n",
       "11       4.305448      1.178704         0.036825    1.812744e-02   \n",
       "12       0.394664      0.010316         0.010206    3.993035e-04   \n",
       "13       0.759904      0.392670         0.015411    6.804156e-03   \n",
       "14       0.198732      0.015842         0.004003    5.091228e-07   \n",
       "15       1.114939      0.565554         0.015411    7.314467e-03   \n",
       "16       0.526148      0.211077         0.007806    3.126432e-03   \n",
       "17       1.477376      0.628377         0.019614    8.964215e-03   \n",
       "\n",
       "   param_max_features param_n_estimators param_bootstrap  \\\n",
       "0                   2                  3             NaN   \n",
       "1                   2                 10             NaN   \n",
       "2                   2                 30             NaN   \n",
       "3                   4                  3             NaN   \n",
       "4                   4                 10             NaN   \n",
       "5                   4                 30             NaN   \n",
       "6                   6                  3             NaN   \n",
       "7                   6                 10             NaN   \n",
       "8                   6                 30             NaN   \n",
       "9                   8                  3             NaN   \n",
       "10                  8                 10             NaN   \n",
       "11                  8                 30             NaN   \n",
       "12                  2                  3           False   \n",
       "13                  2                 10           False   \n",
       "14                  3                  3           False   \n",
       "15                  3                 10           False   \n",
       "16                  4                  3           False   \n",
       "17                  4                 10           False   \n",
       "\n",
       "                                               params  split0_test_score  \\\n",
       "0              {'max_features': 2, 'n_estimators': 3}      -1.856056e+10   \n",
       "1             {'max_features': 2, 'n_estimators': 10}      -1.578116e+10   \n",
       "2             {'max_features': 2, 'n_estimators': 30}      -1.483884e+10   \n",
       "3              {'max_features': 4, 'n_estimators': 3}      -1.901551e+10   \n",
       "4             {'max_features': 4, 'n_estimators': 10}      -1.561165e+10   \n",
       "5             {'max_features': 4, 'n_estimators': 30}      -1.476092e+10   \n",
       "6              {'max_features': 6, 'n_estimators': 3}      -1.916044e+10   \n",
       "7             {'max_features': 6, 'n_estimators': 10}      -1.544271e+10   \n",
       "8             {'max_features': 6, 'n_estimators': 30}      -1.460849e+10   \n",
       "9              {'max_features': 8, 'n_estimators': 3}      -1.862171e+10   \n",
       "10            {'max_features': 8, 'n_estimators': 10}      -1.572034e+10   \n",
       "11            {'max_features': 8, 'n_estimators': 30}      -1.471521e+10   \n",
       "12  {'bootstrap': False, 'max_features': 2, 'n_est...      -1.919636e+10   \n",
       "13  {'bootstrap': False, 'max_features': 2, 'n_est...      -1.592443e+10   \n",
       "14  {'bootstrap': False, 'max_features': 3, 'n_est...      -1.923345e+10   \n",
       "15  {'bootstrap': False, 'max_features': 3, 'n_est...      -1.598263e+10   \n",
       "16  {'bootstrap': False, 'max_features': 4, 'n_est...      -1.924208e+10   \n",
       "17  {'bootstrap': False, 'max_features': 4, 'n_est...      -1.614183e+10   \n",
       "\n",
       "    split1_test_score  ...  mean_test_score  std_test_score  rank_test_score  \\\n",
       "0       -1.802956e+10  ...    -1.851088e+10    3.269114e+08               12   \n",
       "1       -1.536610e+10  ...    -1.555703e+10    1.758674e+08                6   \n",
       "2       -1.436986e+10  ...    -1.463344e+10    1.860033e+08                1   \n",
       "3       -1.881468e+10  ...    -1.890189e+10    9.385585e+07               14   \n",
       "4       -1.526805e+10  ...    -1.550813e+10    2.397080e+08                5   \n",
       "5       -1.435850e+10  ...    -1.465293e+10    2.074885e+08                2   \n",
       "6       -1.861724e+10  ...    -1.899175e+10    2.787175e+08               15   \n",
       "7       -1.538781e+10  ...    -1.556340e+10    2.538834e+08                7   \n",
       "8       -1.440900e+10  ...    -1.467716e+10    2.524848e+08                3   \n",
       "9       -1.902526e+10  ...    -1.886331e+10    1.538799e+08               13   \n",
       "10      -1.557297e+10  ...    -1.571535e+10    1.351629e+08                8   \n",
       "11      -1.451734e+10  ...    -1.477371e+10    2.007351e+08                4   \n",
       "12      -1.901767e+10  ...    -1.908966e+10    2.782983e+08               16   \n",
       "13      -1.554095e+10  ...    -1.575518e+10    2.575614e+08                9   \n",
       "14      -1.925013e+10  ...    -1.922865e+10    2.357244e+08               17   \n",
       "15      -1.560895e+10  ...    -1.599960e+10    3.118475e+08               10   \n",
       "16      -1.928455e+10  ...    -1.941234e+10    2.363817e+08               18   \n",
       "17      -1.550284e+10  ...    -1.608071e+10    3.834414e+08               11   \n",
       "\n",
       "    split0_train_score  split1_train_score  split2_train_score  \\\n",
       "0        -4.647532e+09       -4.822709e+09       -4.746314e+09   \n",
       "1        -2.728399e+09       -2.759000e+09       -2.770056e+09   \n",
       "2        -2.176384e+09       -2.196436e+09       -2.189419e+09   \n",
       "3        -4.821055e+09       -4.793006e+09       -4.960775e+09   \n",
       "4        -2.765693e+09       -2.794576e+09       -2.773473e+09   \n",
       "5        -2.186333e+09       -2.204914e+09       -2.187253e+09   \n",
       "6        -4.708034e+09       -4.823809e+09       -4.871565e+09   \n",
       "7        -2.791361e+09       -2.811165e+09       -2.775534e+09   \n",
       "8        -2.188794e+09       -2.205673e+09       -2.188516e+09   \n",
       "9        -4.734662e+09       -4.747452e+09       -4.817978e+09   \n",
       "10       -2.776146e+09       -2.782380e+09       -2.777482e+09   \n",
       "11       -2.181720e+09       -2.191732e+09       -2.199724e+09   \n",
       "12       -0.000000e+00       -0.000000e+00       -4.789456e+03   \n",
       "13       -0.000000e+00       -0.000000e+00       -4.310510e+02   \n",
       "14       -0.000000e+00       -0.000000e+00       -0.000000e+00   \n",
       "15       -0.000000e+00       -0.000000e+00       -0.000000e+00   \n",
       "16       -0.000000e+00       -0.000000e+00       -0.000000e+00   \n",
       "17       -0.000000e+00       -0.000000e+00       -0.000000e+00   \n",
       "\n",
       "    split3_train_score  split4_train_score  mean_train_score  std_train_score  \n",
       "0        -4.710009e+09       -4.716053e+09     -4.728523e+09     5.700074e+07  \n",
       "1        -2.716207e+09       -2.709397e+09     -2.736612e+09     2.385026e+07  \n",
       "2        -2.160950e+09       -2.170345e+09     -2.178707e+09     1.280406e+07  \n",
       "3        -4.913445e+09       -4.844389e+09     -4.866534e+09     6.172063e+07  \n",
       "4        -2.801509e+09       -2.722696e+09     -2.771589e+09     2.775773e+07  \n",
       "5        -2.184165e+09       -2.163027e+09     -2.185139e+09     1.331792e+07  \n",
       "6        -4.792268e+09       -4.753221e+09     -4.789779e+09     5.634152e+07  \n",
       "7        -2.766234e+09       -2.702988e+09     -2.769457e+09     3.656435e+07  \n",
       "8        -2.186056e+09       -2.178901e+09     -2.189588e+09     8.799925e+06  \n",
       "9        -4.725091e+09       -4.848340e+09     -4.774705e+09     4.919831e+07  \n",
       "10       -2.750924e+09       -2.713630e+09     -2.760112e+09     2.568937e+07  \n",
       "11       -2.179806e+09       -2.168691e+09     -2.184335e+09     1.061721e+07  \n",
       "12       -0.000000e+00       -0.000000e+00     -9.578911e+02     1.915782e+03  \n",
       "13       -4.184498e+03       -0.000000e+00     -9.231097e+02     1.639217e+03  \n",
       "14       -0.000000e+00       -0.000000e+00      0.000000e+00     0.000000e+00  \n",
       "15       -0.000000e+00       -9.659969e+02     -1.931994e+02     3.863988e+02  \n",
       "16       -0.000000e+00       -0.000000e+00      0.000000e+00     0.000000e+00  \n",
       "17       -0.000000e+00       -0.000000e+00      0.000000e+00     0.000000e+00  \n",
       "\n",
       "[18 rows x 23 columns]"
      ]
     },
     "execution_count": 58,
     "metadata": {},
     "output_type": "execute_result"
    }
   ],
   "source": [
    "pd.DataFrame(grid_search.cv_results_)"
   ]
  },
  {
   "cell_type": "code",
   "execution_count": 59,
   "metadata": {},
   "outputs": [
    {
     "data": {
      "text/plain": [
       "RandomizedSearchCV(cv=5, error_score='raise-deprecating',\n",
       "                   estimator=RandomForestRegressor(bootstrap=True,\n",
       "                                                   criterion='mse',\n",
       "                                                   max_depth=None,\n",
       "                                                   max_features='auto',\n",
       "                                                   max_leaf_nodes=None,\n",
       "                                                   min_impurity_decrease=0.0,\n",
       "                                                   min_impurity_split=None,\n",
       "                                                   min_samples_leaf=1,\n",
       "                                                   min_samples_split=2,\n",
       "                                                   min_weight_fraction_leaf=0.0,\n",
       "                                                   n_estimators='warn',\n",
       "                                                   n_jobs=None, oob_score=False,\n",
       "                                                   random_sta...\n",
       "                                                   warm_start=False),\n",
       "                   iid='warn', n_iter=10, n_jobs=None,\n",
       "                   param_distributions={'max_features': <scipy.stats._distn_infrastructure.rv_frozen object at 0x00000054B021A188>,\n",
       "                                        'n_estimators': <scipy.stats._distn_infrastructure.rv_frozen object at 0x00000054A48AEFC8>},\n",
       "                   pre_dispatch='2*n_jobs', random_state=42, refit=True,\n",
       "                   return_train_score=False, scoring='neg_mean_squared_error',\n",
       "                   verbose=0)"
      ]
     },
     "execution_count": 59,
     "metadata": {},
     "output_type": "execute_result"
    }
   ],
   "source": [
    "from sklearn.model_selection import RandomizedSearchCV\n",
    "from scipy.stats import randint\n",
    "\n",
    "param_distribs = {\n",
    "        'n_estimators': randint(low=1, high=200),\n",
    "        'max_features': randint(low=1, high=8),\n",
    "    }\n",
    "\n",
    "forest_reg = RandomForestRegressor(random_state=42)\n",
    "rnd_search = RandomizedSearchCV(forest_reg, param_distributions=param_distribs,\n",
    "                                n_iter=10, cv=5, scoring='neg_mean_squared_error', random_state=42)\n",
    "rnd_search.fit(housing_prepared, housing_labels)"
   ]
  },
  {
   "cell_type": "code",
   "execution_count": 60,
   "metadata": {},
   "outputs": [
    {
     "name": "stdout",
     "output_type": "stream",
     "text": [
      "119496.7462768959 {'max_features': 7, 'n_estimators': 180}\n",
      "122807.00891103648 {'max_features': 5, 'n_estimators': 15}\n",
      "119648.93262905166 {'max_features': 3, 'n_estimators': 72}\n",
      "121545.7391033856 {'max_features': 5, 'n_estimators': 21}\n",
      "119647.09728311088 {'max_features': 7, 'n_estimators': 122}\n",
      "119628.62030369259 {'max_features': 3, 'n_estimators': 75}\n",
      "119513.55985439557 {'max_features': 3, 'n_estimators': 88}\n",
      "119498.70713270626 {'max_features': 5, 'n_estimators': 100}\n",
      "119238.06715983605 {'max_features': 3, 'n_estimators': 150}\n",
      "145441.69661275376 {'max_features': 5, 'n_estimators': 2}\n"
     ]
    }
   ],
   "source": [
    "cvres = rnd_search.cv_results_\n",
    "for mean_score, params in zip(cvres[\"mean_test_score\"], cvres[\"params\"]):\n",
    "    print(np.sqrt(-mean_score), params)"
   ]
  },
  {
   "cell_type": "code",
   "execution_count": 61,
   "metadata": {},
   "outputs": [
    {
     "data": {
      "text/plain": [
       "array([8.54834041e-02, 8.50347946e-02, 7.42971957e-02, 8.99921393e-02,\n",
       "       8.79351220e-02, 9.33412139e-02, 8.81276805e-02, 9.45539344e-02,\n",
       "       9.35294287e-02, 9.61624547e-02, 9.31762784e-02, 5.49092746e-03,\n",
       "       5.24931397e-03, 2.69030407e-05, 3.04413719e-03, 4.55507197e-03])"
      ]
     },
     "execution_count": 61,
     "metadata": {},
     "output_type": "execute_result"
    }
   ],
   "source": [
    "feature_importances = grid_search.best_estimator_.feature_importances_\n",
    "feature_importances"
   ]
  },
  {
   "cell_type": "code",
   "execution_count": 62,
   "metadata": {
    "scrolled": true
   },
   "outputs": [
    {
     "data": {
      "text/plain": [
       "[(0.09616245465847376, 'pop_per_hhold'),\n",
       " (0.09455393444170807, 'median_income'),\n",
       " (0.09352942872529876, 'rooms_per_hhold'),\n",
       " (0.09334121393407441, 'population'),\n",
       " (0.09317627839277237, 'bedrooms_per_room'),\n",
       " (0.08999213929119014, 'total_rooms'),\n",
       " (0.088127680485532, 'households'),\n",
       " (0.08793512203637222, 'total_bedrooms'),\n",
       " (0.08548340410454928, 'longitude'),\n",
       " (0.08503479459615804, 'latitude'),\n",
       " (0.07429719570686735, 'housing_median_age'),\n",
       " (0.0054909274598977835, '<1H OCEAN'),\n",
       " (0.005249313971293484, 'INLAND'),\n",
       " (0.004555071966166677, 'NEAR OCEAN'),\n",
       " (0.0030441371889732773, 'NEAR BAY'),\n",
       " (2.6903040672479578e-05, 'ISLAND')]"
      ]
     },
     "execution_count": 62,
     "metadata": {},
     "output_type": "execute_result"
    }
   ],
   "source": [
    "extra_attribs = [\"rooms_per_hhold\", \"pop_per_hhold\", \"bedrooms_per_room\"]\n",
    "#cat_encoder = cat_pipeline.named_steps[\"cat_encoder\"] # old solution\n",
    "cat_encoder = full_pipeline.named_transformers_[\"cat\"]\n",
    "cat_one_hot_attribs = list(cat_encoder.categories_[0])\n",
    "attributes = num_attribs + extra_attribs + cat_one_hot_attribs\n",
    "sorted(zip(feature_importances, attributes), reverse=True)"
   ]
  },
  {
   "cell_type": "code",
   "execution_count": 63,
   "metadata": {},
   "outputs": [],
   "source": [
    "final_model = grid_search.best_estimator_\n",
    "\n",
    "X_test = strat_test_set.drop(\"median_house_value\", axis=1)\n",
    "y_test = strat_test_set[\"median_house_value\"].copy()"
   ]
  },
  {
   "cell_type": "markdown",
   "metadata": {},
   "source": [
    "# Ejercicios"
   ]
  },
  {
   "cell_type": "markdown",
   "metadata": {},
   "source": [
    "# 1.\n",
    "Question: Try a Support Vector Machine regressor (sklearn.svm.SVR), with various hyperparameters such as kernel=\"linear\" (with various values for the C hyperparameter) or kernel=\"rbf\" (with various values for the C and gamma hyperparameters). Don't worry about what these hyperparameters mean for now. How does the best SVR predictor perform?"
   ]
  },
  {
   "cell_type": "code",
   "execution_count": 64,
   "metadata": {},
   "outputs": [
    {
     "name": "stdout",
     "output_type": "stream",
     "text": [
      "Fitting 5 folds for each of 50 candidates, totalling 250 fits\n",
      "[CV] C=10.0, kernel=linear ...........................................\n"
     ]
    },
    {
     "name": "stderr",
     "output_type": "stream",
     "text": [
      "[Parallel(n_jobs=1)]: Using backend SequentialBackend with 1 concurrent workers.\n"
     ]
    },
    {
     "name": "stdout",
     "output_type": "stream",
     "text": [
      "[CV] ............................ C=10.0, kernel=linear, total=   8.5s\n",
      "[CV] C=10.0, kernel=linear ...........................................\n"
     ]
    },
    {
     "name": "stderr",
     "output_type": "stream",
     "text": [
      "[Parallel(n_jobs=1)]: Done   1 out of   1 | elapsed:    8.4s remaining:    0.0s\n"
     ]
    },
    {
     "name": "stdout",
     "output_type": "stream",
     "text": [
      "[CV] ............................ C=10.0, kernel=linear, total=   8.0s\n",
      "[CV] C=10.0, kernel=linear ...........................................\n",
      "[CV] ............................ C=10.0, kernel=linear, total=   9.3s\n",
      "[CV] C=10.0, kernel=linear ...........................................\n",
      "[CV] ............................ C=10.0, kernel=linear, total=   9.3s\n",
      "[CV] C=10.0, kernel=linear ...........................................\n",
      "[CV] ............................ C=10.0, kernel=linear, total=   9.9s\n",
      "[CV] C=30.0, kernel=linear ...........................................\n",
      "[CV] ............................ C=30.0, kernel=linear, total=   9.0s\n",
      "[CV] C=30.0, kernel=linear ...........................................\n",
      "[CV] ............................ C=30.0, kernel=linear, total=   9.6s\n",
      "[CV] C=30.0, kernel=linear ...........................................\n",
      "[CV] ............................ C=30.0, kernel=linear, total=   9.7s\n",
      "[CV] C=30.0, kernel=linear ...........................................\n",
      "[CV] ............................ C=30.0, kernel=linear, total=   8.7s\n",
      "[CV] C=30.0, kernel=linear ...........................................\n",
      "[CV] ............................ C=30.0, kernel=linear, total=  10.0s\n",
      "[CV] C=100.0, kernel=linear ..........................................\n",
      "[CV] ........................... C=100.0, kernel=linear, total=   8.8s\n",
      "[CV] C=100.0, kernel=linear ..........................................\n",
      "[CV] ........................... C=100.0, kernel=linear, total=  11.4s\n",
      "[CV] C=100.0, kernel=linear ..........................................\n",
      "[CV] ........................... C=100.0, kernel=linear, total=   9.1s\n",
      "[CV] C=100.0, kernel=linear ..........................................\n",
      "[CV] ........................... C=100.0, kernel=linear, total=  10.1s\n",
      "[CV] C=100.0, kernel=linear ..........................................\n",
      "[CV] ........................... C=100.0, kernel=linear, total=  10.1s\n",
      "[CV] C=300.0, kernel=linear ..........................................\n",
      "[CV] ........................... C=300.0, kernel=linear, total=   9.3s\n",
      "[CV] C=300.0, kernel=linear ..........................................\n",
      "[CV] ........................... C=300.0, kernel=linear, total=   9.5s\n",
      "[CV] C=300.0, kernel=linear ..........................................\n",
      "[CV] ........................... C=300.0, kernel=linear, total=   9.2s\n",
      "[CV] C=300.0, kernel=linear ..........................................\n",
      "[CV] ........................... C=300.0, kernel=linear, total=   9.2s\n",
      "[CV] C=300.0, kernel=linear ..........................................\n",
      "[CV] ........................... C=300.0, kernel=linear, total=  10.2s\n",
      "[CV] C=1000.0, kernel=linear .........................................\n",
      "[CV] .......................... C=1000.0, kernel=linear, total=   9.4s\n",
      "[CV] C=1000.0, kernel=linear .........................................\n",
      "[CV] .......................... C=1000.0, kernel=linear, total=   9.4s\n",
      "[CV] C=1000.0, kernel=linear .........................................\n",
      "[CV] .......................... C=1000.0, kernel=linear, total=  10.4s\n",
      "[CV] C=1000.0, kernel=linear .........................................\n",
      "[CV] .......................... C=1000.0, kernel=linear, total=   9.5s\n",
      "[CV] C=1000.0, kernel=linear .........................................\n",
      "[CV] .......................... C=1000.0, kernel=linear, total=  10.2s\n",
      "[CV] C=3000.0, kernel=linear .........................................\n",
      "[CV] .......................... C=3000.0, kernel=linear, total=   9.1s\n",
      "[CV] C=3000.0, kernel=linear .........................................\n",
      "[CV] .......................... C=3000.0, kernel=linear, total=   8.5s\n",
      "[CV] C=3000.0, kernel=linear .........................................\n",
      "[CV] .......................... C=3000.0, kernel=linear, total=  10.4s\n",
      "[CV] C=3000.0, kernel=linear .........................................\n",
      "[CV] .......................... C=3000.0, kernel=linear, total=  12.1s\n",
      "[CV] C=3000.0, kernel=linear .........................................\n",
      "[CV] .......................... C=3000.0, kernel=linear, total=   8.9s\n",
      "[CV] C=10000.0, kernel=linear ........................................\n",
      "[CV] ......................... C=10000.0, kernel=linear, total=  12.6s\n",
      "[CV] C=10000.0, kernel=linear ........................................\n",
      "[CV] ......................... C=10000.0, kernel=linear, total=  13.2s\n",
      "[CV] C=10000.0, kernel=linear ........................................\n",
      "[CV] ......................... C=10000.0, kernel=linear, total=   9.7s\n",
      "[CV] C=10000.0, kernel=linear ........................................\n",
      "[CV] ......................... C=10000.0, kernel=linear, total=  12.5s\n",
      "[CV] C=10000.0, kernel=linear ........................................\n",
      "[CV] ......................... C=10000.0, kernel=linear, total=  10.3s\n",
      "[CV] C=30000.0, kernel=linear ........................................\n",
      "[CV] ......................... C=30000.0, kernel=linear, total=  16.0s\n",
      "[CV] C=30000.0, kernel=linear ........................................\n",
      "[CV] ......................... C=30000.0, kernel=linear, total=  13.7s\n",
      "[CV] C=30000.0, kernel=linear ........................................\n",
      "[CV] ......................... C=30000.0, kernel=linear, total=  15.5s\n",
      "[CV] C=30000.0, kernel=linear ........................................\n",
      "[CV] ......................... C=30000.0, kernel=linear, total=  13.9s\n",
      "[CV] C=30000.0, kernel=linear ........................................\n",
      "[CV] ......................... C=30000.0, kernel=linear, total=  15.3s\n",
      "[CV] C=1.0, gamma=0.01, kernel=rbf ...................................\n",
      "[CV] .................... C=1.0, gamma=0.01, kernel=rbf, total=  16.6s\n",
      "[CV] C=1.0, gamma=0.01, kernel=rbf ...................................\n",
      "[CV] .................... C=1.0, gamma=0.01, kernel=rbf, total=  15.9s\n",
      "[CV] C=1.0, gamma=0.01, kernel=rbf ...................................\n",
      "[CV] .................... C=1.0, gamma=0.01, kernel=rbf, total=  15.3s\n",
      "[CV] C=1.0, gamma=0.01, kernel=rbf ...................................\n",
      "[CV] .................... C=1.0, gamma=0.01, kernel=rbf, total=  16.2s\n",
      "[CV] C=1.0, gamma=0.01, kernel=rbf ...................................\n",
      "[CV] .................... C=1.0, gamma=0.01, kernel=rbf, total=  16.2s\n",
      "[CV] C=1.0, gamma=0.03, kernel=rbf ...................................\n",
      "[CV] .................... C=1.0, gamma=0.03, kernel=rbf, total=  17.2s\n",
      "[CV] C=1.0, gamma=0.03, kernel=rbf ...................................\n",
      "[CV] .................... C=1.0, gamma=0.03, kernel=rbf, total=  15.8s\n",
      "[CV] C=1.0, gamma=0.03, kernel=rbf ...................................\n",
      "[CV] .................... C=1.0, gamma=0.03, kernel=rbf, total=  17.2s\n",
      "[CV] C=1.0, gamma=0.03, kernel=rbf ...................................\n",
      "[CV] .................... C=1.0, gamma=0.03, kernel=rbf, total=  15.0s\n",
      "[CV] C=1.0, gamma=0.03, kernel=rbf ...................................\n",
      "[CV] .................... C=1.0, gamma=0.03, kernel=rbf, total=  15.6s\n",
      "[CV] C=1.0, gamma=0.1, kernel=rbf ....................................\n",
      "[CV] ..................... C=1.0, gamma=0.1, kernel=rbf, total=  17.9s\n",
      "[CV] C=1.0, gamma=0.1, kernel=rbf ....................................\n",
      "[CV] ..................... C=1.0, gamma=0.1, kernel=rbf, total=  16.2s\n",
      "[CV] C=1.0, gamma=0.1, kernel=rbf ....................................\n",
      "[CV] ..................... C=1.0, gamma=0.1, kernel=rbf, total=  14.6s\n",
      "[CV] C=1.0, gamma=0.1, kernel=rbf ....................................\n",
      "[CV] ..................... C=1.0, gamma=0.1, kernel=rbf, total=  14.9s\n",
      "[CV] C=1.0, gamma=0.1, kernel=rbf ....................................\n",
      "[CV] ..................... C=1.0, gamma=0.1, kernel=rbf, total=  17.5s\n",
      "[CV] C=1.0, gamma=0.3, kernel=rbf ....................................\n",
      "[CV] ..................... C=1.0, gamma=0.3, kernel=rbf, total=  15.5s\n",
      "[CV] C=1.0, gamma=0.3, kernel=rbf ....................................\n",
      "[CV] ..................... C=1.0, gamma=0.3, kernel=rbf, total=  16.8s\n",
      "[CV] C=1.0, gamma=0.3, kernel=rbf ....................................\n",
      "[CV] ..................... C=1.0, gamma=0.3, kernel=rbf, total=  16.6s\n",
      "[CV] C=1.0, gamma=0.3, kernel=rbf ....................................\n",
      "[CV] ..................... C=1.0, gamma=0.3, kernel=rbf, total=  15.2s\n",
      "[CV] C=1.0, gamma=0.3, kernel=rbf ....................................\n"
     ]
    },
    {
     "name": "stdout",
     "output_type": "stream",
     "text": [
      "[CV] ..................... C=1.0, gamma=0.3, kernel=rbf, total=  14.8s\n",
      "[CV] C=1.0, gamma=1.0, kernel=rbf ....................................\n",
      "[CV] ..................... C=1.0, gamma=1.0, kernel=rbf, total=  15.2s\n",
      "[CV] C=1.0, gamma=1.0, kernel=rbf ....................................\n",
      "[CV] ..................... C=1.0, gamma=1.0, kernel=rbf, total=  16.0s\n",
      "[CV] C=1.0, gamma=1.0, kernel=rbf ....................................\n",
      "[CV] ..................... C=1.0, gamma=1.0, kernel=rbf, total=  16.4s\n",
      "[CV] C=1.0, gamma=1.0, kernel=rbf ....................................\n",
      "[CV] ..................... C=1.0, gamma=1.0, kernel=rbf, total=  14.7s\n",
      "[CV] C=1.0, gamma=1.0, kernel=rbf ....................................\n",
      "[CV] ..................... C=1.0, gamma=1.0, kernel=rbf, total=  15.3s\n",
      "[CV] C=1.0, gamma=3.0, kernel=rbf ....................................\n",
      "[CV] ..................... C=1.0, gamma=3.0, kernel=rbf, total=  19.0s\n",
      "[CV] C=1.0, gamma=3.0, kernel=rbf ....................................\n",
      "[CV] ..................... C=1.0, gamma=3.0, kernel=rbf, total=  16.6s\n",
      "[CV] C=1.0, gamma=3.0, kernel=rbf ....................................\n",
      "[CV] ..................... C=1.0, gamma=3.0, kernel=rbf, total=  20.3s\n",
      "[CV] C=1.0, gamma=3.0, kernel=rbf ....................................\n",
      "[CV] ..................... C=1.0, gamma=3.0, kernel=rbf, total=  16.3s\n",
      "[CV] C=1.0, gamma=3.0, kernel=rbf ....................................\n",
      "[CV] ..................... C=1.0, gamma=3.0, kernel=rbf, total=  18.9s\n",
      "[CV] C=3.0, gamma=0.01, kernel=rbf ...................................\n",
      "[CV] .................... C=3.0, gamma=0.01, kernel=rbf, total=  15.6s\n",
      "[CV] C=3.0, gamma=0.01, kernel=rbf ...................................\n",
      "[CV] .................... C=3.0, gamma=0.01, kernel=rbf, total=  17.2s\n",
      "[CV] C=3.0, gamma=0.01, kernel=rbf ...................................\n",
      "[CV] .................... C=3.0, gamma=0.01, kernel=rbf, total=  15.6s\n",
      "[CV] C=3.0, gamma=0.01, kernel=rbf ...................................\n",
      "[CV] .................... C=3.0, gamma=0.01, kernel=rbf, total=  15.9s\n",
      "[CV] C=3.0, gamma=0.01, kernel=rbf ...................................\n",
      "[CV] .................... C=3.0, gamma=0.01, kernel=rbf, total=  15.3s\n",
      "[CV] C=3.0, gamma=0.03, kernel=rbf ...................................\n",
      "[CV] .................... C=3.0, gamma=0.03, kernel=rbf, total=  15.7s\n",
      "[CV] C=3.0, gamma=0.03, kernel=rbf ...................................\n",
      "[CV] .................... C=3.0, gamma=0.03, kernel=rbf, total=  16.6s\n",
      "[CV] C=3.0, gamma=0.03, kernel=rbf ...................................\n",
      "[CV] .................... C=3.0, gamma=0.03, kernel=rbf, total=  15.9s\n",
      "[CV] C=3.0, gamma=0.03, kernel=rbf ...................................\n",
      "[CV] .................... C=3.0, gamma=0.03, kernel=rbf, total=  15.8s\n",
      "[CV] C=3.0, gamma=0.03, kernel=rbf ...................................\n",
      "[CV] .................... C=3.0, gamma=0.03, kernel=rbf, total=  16.0s\n",
      "[CV] C=3.0, gamma=0.1, kernel=rbf ....................................\n",
      "[CV] ..................... C=3.0, gamma=0.1, kernel=rbf, total=  15.9s\n",
      "[CV] C=3.0, gamma=0.1, kernel=rbf ....................................\n",
      "[CV] ..................... C=3.0, gamma=0.1, kernel=rbf, total=  15.2s\n",
      "[CV] C=3.0, gamma=0.1, kernel=rbf ....................................\n",
      "[CV] ..................... C=3.0, gamma=0.1, kernel=rbf, total=  15.6s\n",
      "[CV] C=3.0, gamma=0.1, kernel=rbf ....................................\n",
      "[CV] ..................... C=3.0, gamma=0.1, kernel=rbf, total=  14.8s\n",
      "[CV] C=3.0, gamma=0.1, kernel=rbf ....................................\n",
      "[CV] ..................... C=3.0, gamma=0.1, kernel=rbf, total=  16.8s\n",
      "[CV] C=3.0, gamma=0.3, kernel=rbf ....................................\n",
      "[CV] ..................... C=3.0, gamma=0.3, kernel=rbf, total=  14.6s\n",
      "[CV] C=3.0, gamma=0.3, kernel=rbf ....................................\n",
      "[CV] ..................... C=3.0, gamma=0.3, kernel=rbf, total=  15.2s\n",
      "[CV] C=3.0, gamma=0.3, kernel=rbf ....................................\n",
      "[CV] ..................... C=3.0, gamma=0.3, kernel=rbf, total=  16.4s\n",
      "[CV] C=3.0, gamma=0.3, kernel=rbf ....................................\n",
      "[CV] ..................... C=3.0, gamma=0.3, kernel=rbf, total=  15.7s\n",
      "[CV] C=3.0, gamma=0.3, kernel=rbf ....................................\n",
      "[CV] ..................... C=3.0, gamma=0.3, kernel=rbf, total=  15.8s\n",
      "[CV] C=3.0, gamma=1.0, kernel=rbf ....................................\n",
      "[CV] ..................... C=3.0, gamma=1.0, kernel=rbf, total=  17.1s\n",
      "[CV] C=3.0, gamma=1.0, kernel=rbf ....................................\n",
      "[CV] ..................... C=3.0, gamma=1.0, kernel=rbf, total=  15.1s\n",
      "[CV] C=3.0, gamma=1.0, kernel=rbf ....................................\n",
      "[CV] ..................... C=3.0, gamma=1.0, kernel=rbf, total=  15.0s\n",
      "[CV] C=3.0, gamma=1.0, kernel=rbf ....................................\n",
      "[CV] ..................... C=3.0, gamma=1.0, kernel=rbf, total=  15.3s\n",
      "[CV] C=3.0, gamma=1.0, kernel=rbf ....................................\n",
      "[CV] ..................... C=3.0, gamma=1.0, kernel=rbf, total=  15.3s\n",
      "[CV] C=3.0, gamma=3.0, kernel=rbf ....................................\n",
      "[CV] ..................... C=3.0, gamma=3.0, kernel=rbf, total=  19.3s\n",
      "[CV] C=3.0, gamma=3.0, kernel=rbf ....................................\n",
      "[CV] ..................... C=3.0, gamma=3.0, kernel=rbf, total=  19.6s\n",
      "[CV] C=3.0, gamma=3.0, kernel=rbf ....................................\n",
      "[CV] ..................... C=3.0, gamma=3.0, kernel=rbf, total=  18.9s\n",
      "[CV] C=3.0, gamma=3.0, kernel=rbf ....................................\n",
      "[CV] ..................... C=3.0, gamma=3.0, kernel=rbf, total=  18.2s\n",
      "[CV] C=3.0, gamma=3.0, kernel=rbf ....................................\n",
      "[CV] ..................... C=3.0, gamma=3.0, kernel=rbf, total=  16.9s\n",
      "[CV] C=10.0, gamma=0.01, kernel=rbf ..................................\n",
      "[CV] ................... C=10.0, gamma=0.01, kernel=rbf, total=  15.0s\n",
      "[CV] C=10.0, gamma=0.01, kernel=rbf ..................................\n",
      "[CV] ................... C=10.0, gamma=0.01, kernel=rbf, total=  16.9s\n",
      "[CV] C=10.0, gamma=0.01, kernel=rbf ..................................\n",
      "[CV] ................... C=10.0, gamma=0.01, kernel=rbf, total=  15.9s\n",
      "[CV] C=10.0, gamma=0.01, kernel=rbf ..................................\n",
      "[CV] ................... C=10.0, gamma=0.01, kernel=rbf, total=  16.8s\n",
      "[CV] C=10.0, gamma=0.01, kernel=rbf ..................................\n",
      "[CV] ................... C=10.0, gamma=0.01, kernel=rbf, total=  15.3s\n",
      "[CV] C=10.0, gamma=0.03, kernel=rbf ..................................\n",
      "[CV] ................... C=10.0, gamma=0.03, kernel=rbf, total=  15.6s\n",
      "[CV] C=10.0, gamma=0.03, kernel=rbf ..................................\n",
      "[CV] ................... C=10.0, gamma=0.03, kernel=rbf, total=  14.6s\n",
      "[CV] C=10.0, gamma=0.03, kernel=rbf ..................................\n",
      "[CV] ................... C=10.0, gamma=0.03, kernel=rbf, total=  15.3s\n",
      "[CV] C=10.0, gamma=0.03, kernel=rbf ..................................\n",
      "[CV] ................... C=10.0, gamma=0.03, kernel=rbf, total=  21.1s\n",
      "[CV] C=10.0, gamma=0.03, kernel=rbf ..................................\n",
      "[CV] ................... C=10.0, gamma=0.03, kernel=rbf, total=  16.1s\n",
      "[CV] C=10.0, gamma=0.1, kernel=rbf ...................................\n",
      "[CV] .................... C=10.0, gamma=0.1, kernel=rbf, total=  16.1s\n",
      "[CV] C=10.0, gamma=0.1, kernel=rbf ...................................\n",
      "[CV] .................... C=10.0, gamma=0.1, kernel=rbf, total=  14.3s\n",
      "[CV] C=10.0, gamma=0.1, kernel=rbf ...................................\n",
      "[CV] .................... C=10.0, gamma=0.1, kernel=rbf, total=  15.3s\n",
      "[CV] C=10.0, gamma=0.1, kernel=rbf ...................................\n",
      "[CV] .................... C=10.0, gamma=0.1, kernel=rbf, total=  14.6s\n",
      "[CV] C=10.0, gamma=0.1, kernel=rbf ...................................\n",
      "[CV] .................... C=10.0, gamma=0.1, kernel=rbf, total=  16.7s\n",
      "[CV] C=10.0, gamma=0.3, kernel=rbf ...................................\n",
      "[CV] .................... C=10.0, gamma=0.3, kernel=rbf, total=  15.9s\n",
      "[CV] C=10.0, gamma=0.3, kernel=rbf ...................................\n",
      "[CV] .................... C=10.0, gamma=0.3, kernel=rbf, total=  16.0s\n",
      "[CV] C=10.0, gamma=0.3, kernel=rbf ...................................\n"
     ]
    },
    {
     "name": "stdout",
     "output_type": "stream",
     "text": [
      "[CV] .................... C=10.0, gamma=0.3, kernel=rbf, total=  16.8s\n",
      "[CV] C=10.0, gamma=0.3, kernel=rbf ...................................\n",
      "[CV] .................... C=10.0, gamma=0.3, kernel=rbf, total=  15.7s\n",
      "[CV] C=10.0, gamma=0.3, kernel=rbf ...................................\n",
      "[CV] .................... C=10.0, gamma=0.3, kernel=rbf, total=  15.8s\n",
      "[CV] C=10.0, gamma=1.0, kernel=rbf ...................................\n",
      "[CV] .................... C=10.0, gamma=1.0, kernel=rbf, total=  15.2s\n",
      "[CV] C=10.0, gamma=1.0, kernel=rbf ...................................\n",
      "[CV] .................... C=10.0, gamma=1.0, kernel=rbf, total=  14.6s\n",
      "[CV] C=10.0, gamma=1.0, kernel=rbf ...................................\n",
      "[CV] .................... C=10.0, gamma=1.0, kernel=rbf, total=  14.8s\n",
      "[CV] C=10.0, gamma=1.0, kernel=rbf ...................................\n",
      "[CV] .................... C=10.0, gamma=1.0, kernel=rbf, total=  16.0s\n",
      "[CV] C=10.0, gamma=1.0, kernel=rbf ...................................\n",
      "[CV] .................... C=10.0, gamma=1.0, kernel=rbf, total=  16.2s\n",
      "[CV] C=10.0, gamma=3.0, kernel=rbf ...................................\n",
      "[CV] .................... C=10.0, gamma=3.0, kernel=rbf, total=  16.7s\n",
      "[CV] C=10.0, gamma=3.0, kernel=rbf ...................................\n",
      "[CV] .................... C=10.0, gamma=3.0, kernel=rbf, total=  18.7s\n",
      "[CV] C=10.0, gamma=3.0, kernel=rbf ...................................\n",
      "[CV] .................... C=10.0, gamma=3.0, kernel=rbf, total=  17.4s\n",
      "[CV] C=10.0, gamma=3.0, kernel=rbf ...................................\n",
      "[CV] .................... C=10.0, gamma=3.0, kernel=rbf, total=  18.9s\n",
      "[CV] C=10.0, gamma=3.0, kernel=rbf ...................................\n",
      "[CV] .................... C=10.0, gamma=3.0, kernel=rbf, total=  18.9s\n",
      "[CV] C=30.0, gamma=0.01, kernel=rbf ..................................\n",
      "[CV] ................... C=30.0, gamma=0.01, kernel=rbf, total=  16.1s\n",
      "[CV] C=30.0, gamma=0.01, kernel=rbf ..................................\n",
      "[CV] ................... C=30.0, gamma=0.01, kernel=rbf, total=  14.6s\n",
      "[CV] C=30.0, gamma=0.01, kernel=rbf ..................................\n",
      "[CV] ................... C=30.0, gamma=0.01, kernel=rbf, total=  16.0s\n",
      "[CV] C=30.0, gamma=0.01, kernel=rbf ..................................\n",
      "[CV] ................... C=30.0, gamma=0.01, kernel=rbf, total=  14.9s\n",
      "[CV] C=30.0, gamma=0.01, kernel=rbf ..................................\n",
      "[CV] ................... C=30.0, gamma=0.01, kernel=rbf, total=  17.8s\n",
      "[CV] C=30.0, gamma=0.03, kernel=rbf ..................................\n",
      "[CV] ................... C=30.0, gamma=0.03, kernel=rbf, total=  15.3s\n",
      "[CV] C=30.0, gamma=0.03, kernel=rbf ..................................\n",
      "[CV] ................... C=30.0, gamma=0.03, kernel=rbf, total=  16.3s\n",
      "[CV] C=30.0, gamma=0.03, kernel=rbf ..................................\n",
      "[CV] ................... C=30.0, gamma=0.03, kernel=rbf, total=  16.9s\n",
      "[CV] C=30.0, gamma=0.03, kernel=rbf ..................................\n",
      "[CV] ................... C=30.0, gamma=0.03, kernel=rbf, total=  14.6s\n",
      "[CV] C=30.0, gamma=0.03, kernel=rbf ..................................\n",
      "[CV] ................... C=30.0, gamma=0.03, kernel=rbf, total=  16.3s\n",
      "[CV] C=30.0, gamma=0.1, kernel=rbf ...................................\n",
      "[CV] .................... C=30.0, gamma=0.1, kernel=rbf, total=  16.0s\n",
      "[CV] C=30.0, gamma=0.1, kernel=rbf ...................................\n",
      "[CV] .................... C=30.0, gamma=0.1, kernel=rbf, total=  14.9s\n",
      "[CV] C=30.0, gamma=0.1, kernel=rbf ...................................\n",
      "[CV] .................... C=30.0, gamma=0.1, kernel=rbf, total=  17.4s\n",
      "[CV] C=30.0, gamma=0.1, kernel=rbf ...................................\n",
      "[CV] .................... C=30.0, gamma=0.1, kernel=rbf, total=  17.2s\n",
      "[CV] C=30.0, gamma=0.1, kernel=rbf ...................................\n",
      "[CV] .................... C=30.0, gamma=0.1, kernel=rbf, total=  15.6s\n",
      "[CV] C=30.0, gamma=0.3, kernel=rbf ...................................\n",
      "[CV] .................... C=30.0, gamma=0.3, kernel=rbf, total=  17.7s\n",
      "[CV] C=30.0, gamma=0.3, kernel=rbf ...................................\n",
      "[CV] .................... C=30.0, gamma=0.3, kernel=rbf, total=  14.0s\n",
      "[CV] C=30.0, gamma=0.3, kernel=rbf ...................................\n",
      "[CV] .................... C=30.0, gamma=0.3, kernel=rbf, total=  17.3s\n",
      "[CV] C=30.0, gamma=0.3, kernel=rbf ...................................\n",
      "[CV] .................... C=30.0, gamma=0.3, kernel=rbf, total=  15.2s\n",
      "[CV] C=30.0, gamma=0.3, kernel=rbf ...................................\n",
      "[CV] .................... C=30.0, gamma=0.3, kernel=rbf, total=  14.9s\n",
      "[CV] C=30.0, gamma=1.0, kernel=rbf ...................................\n",
      "[CV] .................... C=30.0, gamma=1.0, kernel=rbf, total=  17.4s\n",
      "[CV] C=30.0, gamma=1.0, kernel=rbf ...................................\n",
      "[CV] .................... C=30.0, gamma=1.0, kernel=rbf, total=  16.4s\n",
      "[CV] C=30.0, gamma=1.0, kernel=rbf ...................................\n",
      "[CV] .................... C=30.0, gamma=1.0, kernel=rbf, total=  16.4s\n",
      "[CV] C=30.0, gamma=1.0, kernel=rbf ...................................\n",
      "[CV] .................... C=30.0, gamma=1.0, kernel=rbf, total=  15.4s\n",
      "[CV] C=30.0, gamma=1.0, kernel=rbf ...................................\n",
      "[CV] .................... C=30.0, gamma=1.0, kernel=rbf, total=  15.1s\n",
      "[CV] C=30.0, gamma=3.0, kernel=rbf ...................................\n",
      "[CV] .................... C=30.0, gamma=3.0, kernel=rbf, total=  19.2s\n",
      "[CV] C=30.0, gamma=3.0, kernel=rbf ...................................\n",
      "[CV] .................... C=30.0, gamma=3.0, kernel=rbf, total=  17.0s\n",
      "[CV] C=30.0, gamma=3.0, kernel=rbf ...................................\n",
      "[CV] .................... C=30.0, gamma=3.0, kernel=rbf, total=  20.0s\n",
      "[CV] C=30.0, gamma=3.0, kernel=rbf ...................................\n",
      "[CV] .................... C=30.0, gamma=3.0, kernel=rbf, total=  17.5s\n",
      "[CV] C=30.0, gamma=3.0, kernel=rbf ...................................\n",
      "[CV] .................... C=30.0, gamma=3.0, kernel=rbf, total=  18.6s\n",
      "[CV] C=100.0, gamma=0.01, kernel=rbf .................................\n",
      "[CV] .................. C=100.0, gamma=0.01, kernel=rbf, total=  16.4s\n",
      "[CV] C=100.0, gamma=0.01, kernel=rbf .................................\n",
      "[CV] .................. C=100.0, gamma=0.01, kernel=rbf, total=  16.0s\n",
      "[CV] C=100.0, gamma=0.01, kernel=rbf .................................\n",
      "[CV] .................. C=100.0, gamma=0.01, kernel=rbf, total=  15.3s\n",
      "[CV] C=100.0, gamma=0.01, kernel=rbf .................................\n",
      "[CV] .................. C=100.0, gamma=0.01, kernel=rbf, total=  15.6s\n",
      "[CV] C=100.0, gamma=0.01, kernel=rbf .................................\n",
      "[CV] .................. C=100.0, gamma=0.01, kernel=rbf, total=  14.9s\n",
      "[CV] C=100.0, gamma=0.03, kernel=rbf .................................\n",
      "[CV] .................. C=100.0, gamma=0.03, kernel=rbf, total=  15.7s\n",
      "[CV] C=100.0, gamma=0.03, kernel=rbf .................................\n",
      "[CV] .................. C=100.0, gamma=0.03, kernel=rbf, total=  16.3s\n",
      "[CV] C=100.0, gamma=0.03, kernel=rbf .................................\n",
      "[CV] .................. C=100.0, gamma=0.03, kernel=rbf, total=  17.7s\n",
      "[CV] C=100.0, gamma=0.03, kernel=rbf .................................\n",
      "[CV] .................. C=100.0, gamma=0.03, kernel=rbf, total=  17.3s\n",
      "[CV] C=100.0, gamma=0.03, kernel=rbf .................................\n",
      "[CV] .................. C=100.0, gamma=0.03, kernel=rbf, total=  15.7s\n",
      "[CV] C=100.0, gamma=0.1, kernel=rbf ..................................\n",
      "[CV] ................... C=100.0, gamma=0.1, kernel=rbf, total=  15.3s\n",
      "[CV] C=100.0, gamma=0.1, kernel=rbf ..................................\n",
      "[CV] ................... C=100.0, gamma=0.1, kernel=rbf, total=  15.6s\n",
      "[CV] C=100.0, gamma=0.1, kernel=rbf ..................................\n",
      "[CV] ................... C=100.0, gamma=0.1, kernel=rbf, total=  15.3s\n",
      "[CV] C=100.0, gamma=0.1, kernel=rbf ..................................\n",
      "[CV] ................... C=100.0, gamma=0.1, kernel=rbf, total=  16.7s\n",
      "[CV] C=100.0, gamma=0.1, kernel=rbf ..................................\n",
      "[CV] ................... C=100.0, gamma=0.1, kernel=rbf, total=  16.3s\n",
      "[CV] C=100.0, gamma=0.3, kernel=rbf ..................................\n"
     ]
    },
    {
     "name": "stdout",
     "output_type": "stream",
     "text": [
      "[CV] ................... C=100.0, gamma=0.3, kernel=rbf, total=  16.2s\n",
      "[CV] C=100.0, gamma=0.3, kernel=rbf ..................................\n",
      "[CV] ................... C=100.0, gamma=0.3, kernel=rbf, total=  16.1s\n",
      "[CV] C=100.0, gamma=0.3, kernel=rbf ..................................\n",
      "[CV] ................... C=100.0, gamma=0.3, kernel=rbf, total=  16.0s\n",
      "[CV] C=100.0, gamma=0.3, kernel=rbf ..................................\n",
      "[CV] ................... C=100.0, gamma=0.3, kernel=rbf, total=  15.9s\n",
      "[CV] C=100.0, gamma=0.3, kernel=rbf ..................................\n",
      "[CV] ................... C=100.0, gamma=0.3, kernel=rbf, total=  15.8s\n",
      "[CV] C=100.0, gamma=1.0, kernel=rbf ..................................\n",
      "[CV] ................... C=100.0, gamma=1.0, kernel=rbf, total=  17.0s\n",
      "[CV] C=100.0, gamma=1.0, kernel=rbf ..................................\n",
      "[CV] ................... C=100.0, gamma=1.0, kernel=rbf, total=  14.8s\n",
      "[CV] C=100.0, gamma=1.0, kernel=rbf ..................................\n",
      "[CV] ................... C=100.0, gamma=1.0, kernel=rbf, total=  18.1s\n",
      "[CV] C=100.0, gamma=1.0, kernel=rbf ..................................\n",
      "[CV] ................... C=100.0, gamma=1.0, kernel=rbf, total=  16.0s\n",
      "[CV] C=100.0, gamma=1.0, kernel=rbf ..................................\n",
      "[CV] ................... C=100.0, gamma=1.0, kernel=rbf, total=  15.0s\n",
      "[CV] C=100.0, gamma=3.0, kernel=rbf ..................................\n",
      "[CV] ................... C=100.0, gamma=3.0, kernel=rbf, total=  19.0s\n",
      "[CV] C=100.0, gamma=3.0, kernel=rbf ..................................\n",
      "[CV] ................... C=100.0, gamma=3.0, kernel=rbf, total=  20.9s\n",
      "[CV] C=100.0, gamma=3.0, kernel=rbf ..................................\n",
      "[CV] ................... C=100.0, gamma=3.0, kernel=rbf, total=  16.7s\n",
      "[CV] C=100.0, gamma=3.0, kernel=rbf ..................................\n",
      "[CV] ................... C=100.0, gamma=3.0, kernel=rbf, total=  19.0s\n",
      "[CV] C=100.0, gamma=3.0, kernel=rbf ..................................\n",
      "[CV] ................... C=100.0, gamma=3.0, kernel=rbf, total=  17.1s\n",
      "[CV] C=300.0, gamma=0.01, kernel=rbf .................................\n",
      "[CV] .................. C=300.0, gamma=0.01, kernel=rbf, total=  16.0s\n",
      "[CV] C=300.0, gamma=0.01, kernel=rbf .................................\n",
      "[CV] .................. C=300.0, gamma=0.01, kernel=rbf, total=  16.4s\n",
      "[CV] C=300.0, gamma=0.01, kernel=rbf .................................\n",
      "[CV] .................. C=300.0, gamma=0.01, kernel=rbf, total=  16.1s\n",
      "[CV] C=300.0, gamma=0.01, kernel=rbf .................................\n",
      "[CV] .................. C=300.0, gamma=0.01, kernel=rbf, total=  16.9s\n",
      "[CV] C=300.0, gamma=0.01, kernel=rbf .................................\n",
      "[CV] .................. C=300.0, gamma=0.01, kernel=rbf, total=  14.3s\n",
      "[CV] C=300.0, gamma=0.03, kernel=rbf .................................\n",
      "[CV] .................. C=300.0, gamma=0.03, kernel=rbf, total=  14.4s\n",
      "[CV] C=300.0, gamma=0.03, kernel=rbf .................................\n",
      "[CV] .................. C=300.0, gamma=0.03, kernel=rbf, total=  16.0s\n",
      "[CV] C=300.0, gamma=0.03, kernel=rbf .................................\n",
      "[CV] .................. C=300.0, gamma=0.03, kernel=rbf, total=  17.0s\n",
      "[CV] C=300.0, gamma=0.03, kernel=rbf .................................\n",
      "[CV] .................. C=300.0, gamma=0.03, kernel=rbf, total=  15.3s\n",
      "[CV] C=300.0, gamma=0.03, kernel=rbf .................................\n",
      "[CV] .................. C=300.0, gamma=0.03, kernel=rbf, total=  17.9s\n",
      "[CV] C=300.0, gamma=0.1, kernel=rbf ..................................\n",
      "[CV] ................... C=300.0, gamma=0.1, kernel=rbf, total=  16.0s\n",
      "[CV] C=300.0, gamma=0.1, kernel=rbf ..................................\n",
      "[CV] ................... C=300.0, gamma=0.1, kernel=rbf, total=  14.6s\n",
      "[CV] C=300.0, gamma=0.1, kernel=rbf ..................................\n",
      "[CV] ................... C=300.0, gamma=0.1, kernel=rbf, total=  15.0s\n",
      "[CV] C=300.0, gamma=0.1, kernel=rbf ..................................\n",
      "[CV] ................... C=300.0, gamma=0.1, kernel=rbf, total=  14.6s\n",
      "[CV] C=300.0, gamma=0.1, kernel=rbf ..................................\n",
      "[CV] ................... C=300.0, gamma=0.1, kernel=rbf, total=  15.9s\n",
      "[CV] C=300.0, gamma=0.3, kernel=rbf ..................................\n",
      "[CV] ................... C=300.0, gamma=0.3, kernel=rbf, total=  17.3s\n",
      "[CV] C=300.0, gamma=0.3, kernel=rbf ..................................\n",
      "[CV] ................... C=300.0, gamma=0.3, kernel=rbf, total=  16.0s\n",
      "[CV] C=300.0, gamma=0.3, kernel=rbf ..................................\n",
      "[CV] ................... C=300.0, gamma=0.3, kernel=rbf, total=  16.7s\n",
      "[CV] C=300.0, gamma=0.3, kernel=rbf ..................................\n",
      "[CV] ................... C=300.0, gamma=0.3, kernel=rbf, total=  17.6s\n",
      "[CV] C=300.0, gamma=0.3, kernel=rbf ..................................\n",
      "[CV] ................... C=300.0, gamma=0.3, kernel=rbf, total=  19.4s\n",
      "[CV] C=300.0, gamma=1.0, kernel=rbf ..................................\n",
      "[CV] ................... C=300.0, gamma=1.0, kernel=rbf, total=  16.4s\n",
      "[CV] C=300.0, gamma=1.0, kernel=rbf ..................................\n",
      "[CV] ................... C=300.0, gamma=1.0, kernel=rbf, total=  17.1s\n",
      "[CV] C=300.0, gamma=1.0, kernel=rbf ..................................\n",
      "[CV] ................... C=300.0, gamma=1.0, kernel=rbf, total=  16.5s\n",
      "[CV] C=300.0, gamma=1.0, kernel=rbf ..................................\n",
      "[CV] ................... C=300.0, gamma=1.0, kernel=rbf, total=  16.2s\n",
      "[CV] C=300.0, gamma=1.0, kernel=rbf ..................................\n",
      "[CV] ................... C=300.0, gamma=1.0, kernel=rbf, total=  16.0s\n",
      "[CV] C=300.0, gamma=3.0, kernel=rbf ..................................\n",
      "[CV] ................... C=300.0, gamma=3.0, kernel=rbf, total=  17.6s\n",
      "[CV] C=300.0, gamma=3.0, kernel=rbf ..................................\n",
      "[CV] ................... C=300.0, gamma=3.0, kernel=rbf, total=  18.6s\n",
      "[CV] C=300.0, gamma=3.0, kernel=rbf ..................................\n",
      "[CV] ................... C=300.0, gamma=3.0, kernel=rbf, total=  16.3s\n",
      "[CV] C=300.0, gamma=3.0, kernel=rbf ..................................\n",
      "[CV] ................... C=300.0, gamma=3.0, kernel=rbf, total=  21.2s\n",
      "[CV] C=300.0, gamma=3.0, kernel=rbf ..................................\n",
      "[CV] ................... C=300.0, gamma=3.0, kernel=rbf, total=  17.6s\n",
      "[CV] C=1000.0, gamma=0.01, kernel=rbf ................................\n",
      "[CV] ................. C=1000.0, gamma=0.01, kernel=rbf, total=  17.3s\n",
      "[CV] C=1000.0, gamma=0.01, kernel=rbf ................................\n",
      "[CV] ................. C=1000.0, gamma=0.01, kernel=rbf, total=  15.3s\n",
      "[CV] C=1000.0, gamma=0.01, kernel=rbf ................................\n",
      "[CV] ................. C=1000.0, gamma=0.01, kernel=rbf, total=  16.0s\n",
      "[CV] C=1000.0, gamma=0.01, kernel=rbf ................................\n",
      "[CV] ................. C=1000.0, gamma=0.01, kernel=rbf, total=  15.9s\n",
      "[CV] C=1000.0, gamma=0.01, kernel=rbf ................................\n",
      "[CV] ................. C=1000.0, gamma=0.01, kernel=rbf, total=  15.6s\n",
      "[CV] C=1000.0, gamma=0.03, kernel=rbf ................................\n",
      "[CV] ................. C=1000.0, gamma=0.03, kernel=rbf, total=  16.4s\n",
      "[CV] C=1000.0, gamma=0.03, kernel=rbf ................................\n",
      "[CV] ................. C=1000.0, gamma=0.03, kernel=rbf, total=  14.5s\n",
      "[CV] C=1000.0, gamma=0.03, kernel=rbf ................................\n",
      "[CV] ................. C=1000.0, gamma=0.03, kernel=rbf, total=  17.1s\n",
      "[CV] C=1000.0, gamma=0.03, kernel=rbf ................................\n",
      "[CV] ................. C=1000.0, gamma=0.03, kernel=rbf, total=  17.0s\n",
      "[CV] C=1000.0, gamma=0.03, kernel=rbf ................................\n",
      "[CV] ................. C=1000.0, gamma=0.03, kernel=rbf, total=  21.5s\n",
      "[CV] C=1000.0, gamma=0.1, kernel=rbf .................................\n",
      "[CV] .................. C=1000.0, gamma=0.1, kernel=rbf, total=  16.1s\n",
      "[CV] C=1000.0, gamma=0.1, kernel=rbf .................................\n",
      "[CV] .................. C=1000.0, gamma=0.1, kernel=rbf, total=  16.1s\n",
      "[CV] C=1000.0, gamma=0.1, kernel=rbf .................................\n",
      "[CV] .................. C=1000.0, gamma=0.1, kernel=rbf, total=  16.7s\n",
      "[CV] C=1000.0, gamma=0.1, kernel=rbf .................................\n"
     ]
    },
    {
     "name": "stdout",
     "output_type": "stream",
     "text": [
      "[CV] .................. C=1000.0, gamma=0.1, kernel=rbf, total=  17.0s\n",
      "[CV] C=1000.0, gamma=0.1, kernel=rbf .................................\n",
      "[CV] .................. C=1000.0, gamma=0.1, kernel=rbf, total=  15.3s\n",
      "[CV] C=1000.0, gamma=0.3, kernel=rbf .................................\n",
      "[CV] .................. C=1000.0, gamma=0.3, kernel=rbf, total=  14.3s\n",
      "[CV] C=1000.0, gamma=0.3, kernel=rbf .................................\n",
      "[CV] .................. C=1000.0, gamma=0.3, kernel=rbf, total=  16.0s\n",
      "[CV] C=1000.0, gamma=0.3, kernel=rbf .................................\n",
      "[CV] .................. C=1000.0, gamma=0.3, kernel=rbf, total=  16.9s\n",
      "[CV] C=1000.0, gamma=0.3, kernel=rbf .................................\n",
      "[CV] .................. C=1000.0, gamma=0.3, kernel=rbf, total=  15.6s\n",
      "[CV] C=1000.0, gamma=0.3, kernel=rbf .................................\n",
      "[CV] .................. C=1000.0, gamma=0.3, kernel=rbf, total=  16.9s\n",
      "[CV] C=1000.0, gamma=1.0, kernel=rbf .................................\n",
      "[CV] .................. C=1000.0, gamma=1.0, kernel=rbf, total=  18.5s\n",
      "[CV] C=1000.0, gamma=1.0, kernel=rbf .................................\n",
      "[CV] .................. C=1000.0, gamma=1.0, kernel=rbf, total=  16.0s\n",
      "[CV] C=1000.0, gamma=1.0, kernel=rbf .................................\n",
      "[CV] .................. C=1000.0, gamma=1.0, kernel=rbf, total=  18.7s\n",
      "[CV] C=1000.0, gamma=1.0, kernel=rbf .................................\n",
      "[CV] .................. C=1000.0, gamma=1.0, kernel=rbf, total=  15.3s\n",
      "[CV] C=1000.0, gamma=1.0, kernel=rbf .................................\n",
      "[CV] .................. C=1000.0, gamma=1.0, kernel=rbf, total=  16.6s\n",
      "[CV] C=1000.0, gamma=3.0, kernel=rbf .................................\n",
      "[CV] .................. C=1000.0, gamma=3.0, kernel=rbf, total=  17.9s\n",
      "[CV] C=1000.0, gamma=3.0, kernel=rbf .................................\n",
      "[CV] .................. C=1000.0, gamma=3.0, kernel=rbf, total=  19.2s\n",
      "[CV] C=1000.0, gamma=3.0, kernel=rbf .................................\n",
      "[CV] .................. C=1000.0, gamma=3.0, kernel=rbf, total=  18.9s\n",
      "[CV] C=1000.0, gamma=3.0, kernel=rbf .................................\n",
      "[CV] .................. C=1000.0, gamma=3.0, kernel=rbf, total=  18.6s\n",
      "[CV] C=1000.0, gamma=3.0, kernel=rbf .................................\n",
      "[CV] .................. C=1000.0, gamma=3.0, kernel=rbf, total=  21.9s\n"
     ]
    },
    {
     "name": "stderr",
     "output_type": "stream",
     "text": [
      "[Parallel(n_jobs=1)]: Done 250 out of 250 | elapsed: 64.6min finished\n"
     ]
    },
    {
     "data": {
      "text/plain": [
       "GridSearchCV(cv=5, error_score='raise-deprecating',\n",
       "             estimator=SVR(C=1.0, cache_size=200, coef0=0.0, degree=3,\n",
       "                           epsilon=0.1, gamma='auto_deprecated', kernel='rbf',\n",
       "                           max_iter=-1, shrinking=True, tol=0.001,\n",
       "                           verbose=False),\n",
       "             iid='warn', n_jobs=None,\n",
       "             param_grid=[{'C': [10.0, 30.0, 100.0, 300.0, 1000.0, 3000.0,\n",
       "                                10000.0, 30000.0],\n",
       "                          'kernel': ['linear']},\n",
       "                         {'C': [1.0, 3.0, 10.0, 30.0, 100.0, 300.0, 1000.0],\n",
       "                          'gamma': [0.01, 0.03, 0.1, 0.3, 1.0, 3.0],\n",
       "                          'kernel': ['rbf']}],\n",
       "             pre_dispatch='2*n_jobs', refit=True, return_train_score=False,\n",
       "             scoring='neg_mean_squared_error', verbose=2)"
      ]
     },
     "execution_count": 64,
     "metadata": {},
     "output_type": "execute_result"
    }
   ],
   "source": [
    "from sklearn.model_selection import GridSearchCV\n",
    "\n",
    "param_grid = [\n",
    "        {'kernel': ['linear'], 'C': [10., 30., 100., 300., 1000., 3000., 10000., 30000.0]},\n",
    "        {'kernel': ['rbf'], 'C': [1.0, 3.0, 10., 30., 100., 300., 1000.0],\n",
    "         'gamma': [0.01, 0.03, 0.1, 0.3, 1.0, 3.0]},\n",
    "    ]\n",
    "\n",
    "svm_reg = SVR()\n",
    "grid_search = GridSearchCV(svm_reg, param_grid, cv=5, scoring='neg_mean_squared_error', verbose=2)\n",
    "grid_search.fit(housing_prepared, housing_labels)"
   ]
  },
  {
   "cell_type": "markdown",
   "metadata": {},
   "source": [
    "The best model achieves the following score (evaluated using 5-fold cross validation):"
   ]
  },
  {
   "cell_type": "code",
   "execution_count": 65,
   "metadata": {},
   "outputs": [
    {
     "data": {
      "text/plain": [
       "119958.28236938757"
      ]
     },
     "execution_count": 65,
     "metadata": {},
     "output_type": "execute_result"
    }
   ],
   "source": [
    "negative_mse = grid_search.best_score_\n",
    "rmse = np.sqrt(-negative_mse)\n",
    "rmse"
   ]
  },
  {
   "cell_type": "markdown",
   "metadata": {},
   "source": [
    "That's much worse than the RandomForestRegressor. Let's check the best hyperparameters found:"
   ]
  },
  {
   "cell_type": "code",
   "execution_count": 66,
   "metadata": {},
   "outputs": [
    {
     "data": {
      "text/plain": [
       "{'C': 1.0, 'gamma': 3.0, 'kernel': 'rbf'}"
      ]
     },
     "execution_count": 66,
     "metadata": {},
     "output_type": "execute_result"
    }
   ],
   "source": [
    "grid_search.best_params_"
   ]
  },
  {
   "cell_type": "markdown",
   "metadata": {},
   "source": [
    "The linear kernel seems better than the RBF kernel. Notice that the value of C is the maximum tested value. When this happens you definitely want to launch the grid search again with higher values for C (removing the smallest values), because it is likely that higher values of C will be better."
   ]
  },
  {
   "cell_type": "markdown",
   "metadata": {},
   "source": [
    "# 2"
   ]
  },
  {
   "cell_type": "code",
   "execution_count": 67,
   "metadata": {},
   "outputs": [
    {
     "name": "stdout",
     "output_type": "stream",
     "text": [
      "Fitting 5 folds for each of 50 candidates, totalling 250 fits\n",
      "[CV] C=629.782329591372, gamma=3.010121430917521, kernel=linear ......\n"
     ]
    },
    {
     "name": "stderr",
     "output_type": "stream",
     "text": [
      "[Parallel(n_jobs=1)]: Using backend SequentialBackend with 1 concurrent workers.\n"
     ]
    },
    {
     "name": "stdout",
     "output_type": "stream",
     "text": [
      "[CV]  C=629.782329591372, gamma=3.010121430917521, kernel=linear, total=   9.6s\n",
      "[CV] C=629.782329591372, gamma=3.010121430917521, kernel=linear ......\n"
     ]
    },
    {
     "name": "stderr",
     "output_type": "stream",
     "text": [
      "[Parallel(n_jobs=1)]: Done   1 out of   1 | elapsed:    9.5s remaining:    0.0s\n"
     ]
    },
    {
     "name": "stdout",
     "output_type": "stream",
     "text": [
      "[CV]  C=629.782329591372, gamma=3.010121430917521, kernel=linear, total=  10.2s\n",
      "[CV] C=629.782329591372, gamma=3.010121430917521, kernel=linear ......\n",
      "[CV]  C=629.782329591372, gamma=3.010121430917521, kernel=linear, total=  10.8s\n",
      "[CV] C=629.782329591372, gamma=3.010121430917521, kernel=linear ......\n",
      "[CV]  C=629.782329591372, gamma=3.010121430917521, kernel=linear, total=  11.2s\n",
      "[CV] C=629.782329591372, gamma=3.010121430917521, kernel=linear ......\n",
      "[CV]  C=629.782329591372, gamma=3.010121430917521, kernel=linear, total=   9.2s\n",
      "[CV] C=26290.206464300216, gamma=0.9084469696321253, kernel=rbf ......\n",
      "[CV]  C=26290.206464300216, gamma=0.9084469696321253, kernel=rbf, total=  19.3s\n",
      "[CV] C=26290.206464300216, gamma=0.9084469696321253, kernel=rbf ......\n",
      "[CV]  C=26290.206464300216, gamma=0.9084469696321253, kernel=rbf, total=  17.9s\n",
      "[CV] C=26290.206464300216, gamma=0.9084469696321253, kernel=rbf ......\n",
      "[CV]  C=26290.206464300216, gamma=0.9084469696321253, kernel=rbf, total=  17.9s\n",
      "[CV] C=26290.206464300216, gamma=0.9084469696321253, kernel=rbf ......\n",
      "[CV]  C=26290.206464300216, gamma=0.9084469696321253, kernel=rbf, total=  16.1s\n",
      "[CV] C=26290.206464300216, gamma=0.9084469696321253, kernel=rbf ......\n",
      "[CV]  C=26290.206464300216, gamma=0.9084469696321253, kernel=rbf, total=  19.4s\n",
      "[CV] C=84.14107900575871, gamma=0.059838768608680676, kernel=rbf .....\n",
      "[CV]  C=84.14107900575871, gamma=0.059838768608680676, kernel=rbf, total=  16.4s\n",
      "[CV] C=84.14107900575871, gamma=0.059838768608680676, kernel=rbf .....\n",
      "[CV]  C=84.14107900575871, gamma=0.059838768608680676, kernel=rbf, total=  16.4s\n",
      "[CV] C=84.14107900575871, gamma=0.059838768608680676, kernel=rbf .....\n",
      "[CV]  C=84.14107900575871, gamma=0.059838768608680676, kernel=rbf, total=  16.1s\n",
      "[CV] C=84.14107900575871, gamma=0.059838768608680676, kernel=rbf .....\n",
      "[CV]  C=84.14107900575871, gamma=0.059838768608680676, kernel=rbf, total=  17.2s\n",
      "[CV] C=84.14107900575871, gamma=0.059838768608680676, kernel=rbf .....\n",
      "[CV]  C=84.14107900575871, gamma=0.059838768608680676, kernel=rbf, total=  15.6s\n",
      "[CV] C=432.37884813148855, gamma=0.15416196746656105, kernel=linear ..\n",
      "[CV]  C=432.37884813148855, gamma=0.15416196746656105, kernel=linear, total=   9.1s\n",
      "[CV] C=432.37884813148855, gamma=0.15416196746656105, kernel=linear ..\n",
      "[CV]  C=432.37884813148855, gamma=0.15416196746656105, kernel=linear, total=   9.3s\n",
      "[CV] C=432.37884813148855, gamma=0.15416196746656105, kernel=linear ..\n",
      "[CV]  C=432.37884813148855, gamma=0.15416196746656105, kernel=linear, total=   9.2s\n",
      "[CV] C=432.37884813148855, gamma=0.15416196746656105, kernel=linear ..\n",
      "[CV]  C=432.37884813148855, gamma=0.15416196746656105, kernel=linear, total=   9.6s\n",
      "[CV] C=432.37884813148855, gamma=0.15416196746656105, kernel=linear ..\n",
      "[CV]  C=432.37884813148855, gamma=0.15416196746656105, kernel=linear, total=   9.9s\n",
      "[CV] C=24.17508294611391, gamma=3.503557475158312, kernel=rbf ........\n",
      "[CV]  C=24.17508294611391, gamma=3.503557475158312, kernel=rbf, total=  21.1s\n",
      "[CV] C=24.17508294611391, gamma=3.503557475158312, kernel=rbf ........\n",
      "[CV]  C=24.17508294611391, gamma=3.503557475158312, kernel=rbf, total=  20.7s\n",
      "[CV] C=24.17508294611391, gamma=3.503557475158312, kernel=rbf ........\n",
      "[CV]  C=24.17508294611391, gamma=3.503557475158312, kernel=rbf, total=  17.4s\n",
      "[CV] C=24.17508294611391, gamma=3.503557475158312, kernel=rbf ........\n",
      "[CV]  C=24.17508294611391, gamma=3.503557475158312, kernel=rbf, total=  19.5s\n",
      "[CV] C=24.17508294611391, gamma=3.503557475158312, kernel=rbf ........\n",
      "[CV]  C=24.17508294611391, gamma=3.503557475158312, kernel=rbf, total=  20.6s\n",
      "[CV] C=113564.03940586245, gamma=0.0007790692366582295, kernel=rbf ...\n",
      "[CV]  C=113564.03940586245, gamma=0.0007790692366582295, kernel=rbf, total=  16.4s\n",
      "[CV] C=113564.03940586245, gamma=0.0007790692366582295, kernel=rbf ...\n",
      "[CV]  C=113564.03940586245, gamma=0.0007790692366582295, kernel=rbf, total=  15.2s\n",
      "[CV] C=113564.03940586245, gamma=0.0007790692366582295, kernel=rbf ...\n",
      "[CV]  C=113564.03940586245, gamma=0.0007790692366582295, kernel=rbf, total=  15.5s\n",
      "[CV] C=113564.03940586245, gamma=0.0007790692366582295, kernel=rbf ...\n",
      "[CV]  C=113564.03940586245, gamma=0.0007790692366582295, kernel=rbf, total=  14.9s\n",
      "[CV] C=113564.03940586245, gamma=0.0007790692366582295, kernel=rbf ...\n",
      "[CV]  C=113564.03940586245, gamma=0.0007790692366582295, kernel=rbf, total=  19.4s\n",
      "[CV] C=108.30488238805073, gamma=0.3627537294604771, kernel=rbf ......\n",
      "[CV]  C=108.30488238805073, gamma=0.3627537294604771, kernel=rbf, total=  14.4s\n",
      "[CV] C=108.30488238805073, gamma=0.3627537294604771, kernel=rbf ......\n",
      "[CV]  C=108.30488238805073, gamma=0.3627537294604771, kernel=rbf, total=  16.2s\n",
      "[CV] C=108.30488238805073, gamma=0.3627537294604771, kernel=rbf ......\n",
      "[CV]  C=108.30488238805073, gamma=0.3627537294604771, kernel=rbf, total=  16.5s\n",
      "[CV] C=108.30488238805073, gamma=0.3627537294604771, kernel=rbf ......\n",
      "[CV]  C=108.30488238805073, gamma=0.3627537294604771, kernel=rbf, total=  14.0s\n",
      "[CV] C=108.30488238805073, gamma=0.3627537294604771, kernel=rbf ......\n",
      "[CV]  C=108.30488238805073, gamma=0.3627537294604771, kernel=rbf, total=  16.2s\n",
      "[CV] C=21.344953672647435, gamma=0.023332523598323388, kernel=linear .\n",
      "[CV]  C=21.344953672647435, gamma=0.023332523598323388, kernel=linear, total=   9.4s\n",
      "[CV] C=21.344953672647435, gamma=0.023332523598323388, kernel=linear .\n",
      "[CV]  C=21.344953672647435, gamma=0.023332523598323388, kernel=linear, total=   9.4s\n",
      "[CV] C=21.344953672647435, gamma=0.023332523598323388, kernel=linear .\n",
      "[CV]  C=21.344953672647435, gamma=0.023332523598323388, kernel=linear, total=   7.7s\n",
      "[CV] C=21.344953672647435, gamma=0.023332523598323388, kernel=linear .\n",
      "[CV]  C=21.344953672647435, gamma=0.023332523598323388, kernel=linear, total=   9.1s\n",
      "[CV] C=21.344953672647435, gamma=0.023332523598323388, kernel=linear .\n",
      "[CV]  C=21.344953672647435, gamma=0.023332523598323388, kernel=linear, total=   8.6s\n",
      "[CV] C=5603.270317432516, gamma=0.15023452872733867, kernel=rbf ......\n",
      "[CV]  C=5603.270317432516, gamma=0.15023452872733867, kernel=rbf, total=  15.3s\n",
      "[CV] C=5603.270317432516, gamma=0.15023452872733867, kernel=rbf ......\n",
      "[CV]  C=5603.270317432516, gamma=0.15023452872733867, kernel=rbf, total=  16.9s\n",
      "[CV] C=5603.270317432516, gamma=0.15023452872733867, kernel=rbf ......\n",
      "[CV]  C=5603.270317432516, gamma=0.15023452872733867, kernel=rbf, total=  16.9s\n",
      "[CV] C=5603.270317432516, gamma=0.15023452872733867, kernel=rbf ......\n",
      "[CV]  C=5603.270317432516, gamma=0.15023452872733867, kernel=rbf, total=  16.4s\n",
      "[CV] C=5603.270317432516, gamma=0.15023452872733867, kernel=rbf ......\n",
      "[CV]  C=5603.270317432516, gamma=0.15023452872733867, kernel=rbf, total=  17.1s\n",
      "[CV] C=157055.10989448498, gamma=0.26497040005002437, kernel=rbf .....\n",
      "[CV]  C=157055.10989448498, gamma=0.26497040005002437, kernel=rbf, total=  20.7s\n",
      "[CV] C=157055.10989448498, gamma=0.26497040005002437, kernel=rbf .....\n",
      "[CV]  C=157055.10989448498, gamma=0.26497040005002437, kernel=rbf, total=  22.5s\n",
      "[CV] C=157055.10989448498, gamma=0.26497040005002437, kernel=rbf .....\n",
      "[CV]  C=157055.10989448498, gamma=0.26497040005002437, kernel=rbf, total=  21.9s\n",
      "[CV] C=157055.10989448498, gamma=0.26497040005002437, kernel=rbf .....\n",
      "[CV]  C=157055.10989448498, gamma=0.26497040005002437, kernel=rbf, total=  20.1s\n",
      "[CV] C=157055.10989448498, gamma=0.26497040005002437, kernel=rbf .....\n",
      "[CV]  C=157055.10989448498, gamma=0.26497040005002437, kernel=rbf, total=  22.9s\n",
      "[CV] C=27652.464358739708, gamma=0.2227358621286903, kernel=linear ...\n",
      "[CV]  C=27652.464358739708, gamma=0.2227358621286903, kernel=linear, total=  14.3s\n",
      "[CV] C=27652.464358739708, gamma=0.2227358621286903, kernel=linear ...\n",
      "[CV]  C=27652.464358739708, gamma=0.2227358621286903, kernel=linear, total=  14.5s\n",
      "[CV] C=27652.464358739708, gamma=0.2227358621286903, kernel=linear ...\n",
      "[CV]  C=27652.464358739708, gamma=0.2227358621286903, kernel=linear, total=  14.1s\n",
      "[CV] C=27652.464358739708, gamma=0.2227358621286903, kernel=linear ...\n",
      "[CV]  C=27652.464358739708, gamma=0.2227358621286903, kernel=linear, total=  14.6s\n",
      "[CV] C=27652.464358739708, gamma=0.2227358621286903, kernel=linear ...\n",
      "[CV]  C=27652.464358739708, gamma=0.2227358621286903, kernel=linear, total=  14.0s\n",
      "[CV] C=171377.39570378003, gamma=0.628789100540856, kernel=linear ....\n"
     ]
    },
    {
     "name": "stdout",
     "output_type": "stream",
     "text": [
      "[CV]  C=171377.39570378003, gamma=0.628789100540856, kernel=linear, total=  36.6s\n",
      "[CV] C=171377.39570378003, gamma=0.628789100540856, kernel=linear ....\n",
      "[CV]  C=171377.39570378003, gamma=0.628789100540856, kernel=linear, total=  43.8s\n",
      "[CV] C=171377.39570378003, gamma=0.628789100540856, kernel=linear ....\n",
      "[CV]  C=171377.39570378003, gamma=0.628789100540856, kernel=linear, total=  40.9s\n",
      "[CV] C=171377.39570378003, gamma=0.628789100540856, kernel=linear ....\n",
      "[CV]  C=171377.39570378003, gamma=0.628789100540856, kernel=linear, total=  38.6s\n",
      "[CV] C=171377.39570378003, gamma=0.628789100540856, kernel=linear ....\n",
      "[CV]  C=171377.39570378003, gamma=0.628789100540856, kernel=linear, total=  36.1s\n",
      "[CV] C=5385.293820172355, gamma=0.18696125197741642, kernel=linear ...\n",
      "[CV]  C=5385.293820172355, gamma=0.18696125197741642, kernel=linear, total=  10.3s\n",
      "[CV] C=5385.293820172355, gamma=0.18696125197741642, kernel=linear ...\n",
      "[CV]  C=5385.293820172355, gamma=0.18696125197741642, kernel=linear, total=   9.9s\n",
      "[CV] C=5385.293820172355, gamma=0.18696125197741642, kernel=linear ...\n",
      "[CV]  C=5385.293820172355, gamma=0.18696125197741642, kernel=linear, total=  10.5s\n",
      "[CV] C=5385.293820172355, gamma=0.18696125197741642, kernel=linear ...\n",
      "[CV]  C=5385.293820172355, gamma=0.18696125197741642, kernel=linear, total=   8.4s\n",
      "[CV] C=5385.293820172355, gamma=0.18696125197741642, kernel=linear ...\n",
      "[CV]  C=5385.293820172355, gamma=0.18696125197741642, kernel=linear, total=   9.0s\n",
      "[CV] C=22.59903216621323, gamma=2.850796878935603, kernel=rbf ........\n",
      "[CV]  C=22.59903216621323, gamma=2.850796878935603, kernel=rbf, total=  18.0s\n",
      "[CV] C=22.59903216621323, gamma=2.850796878935603, kernel=rbf ........\n",
      "[CV]  C=22.59903216621323, gamma=2.850796878935603, kernel=rbf, total=  16.6s\n",
      "[CV] C=22.59903216621323, gamma=2.850796878935603, kernel=rbf ........\n",
      "[CV]  C=22.59903216621323, gamma=2.850796878935603, kernel=rbf, total=  18.3s\n",
      "[CV] C=22.59903216621323, gamma=2.850796878935603, kernel=rbf ........\n",
      "[CV]  C=22.59903216621323, gamma=2.850796878935603, kernel=rbf, total=  16.1s\n",
      "[CV] C=22.59903216621323, gamma=2.850796878935603, kernel=rbf ........\n",
      "[CV]  C=22.59903216621323, gamma=2.850796878935603, kernel=rbf, total=  18.4s\n",
      "[CV] C=34246.75194632794, gamma=0.3632878599687583, kernel=linear ....\n",
      "[CV]  C=34246.75194632794, gamma=0.3632878599687583, kernel=linear, total=  14.6s\n",
      "[CV] C=34246.75194632794, gamma=0.3632878599687583, kernel=linear ....\n",
      "[CV]  C=34246.75194632794, gamma=0.3632878599687583, kernel=linear, total=  16.0s\n",
      "[CV] C=34246.75194632794, gamma=0.3632878599687583, kernel=linear ....\n",
      "[CV]  C=34246.75194632794, gamma=0.3632878599687583, kernel=linear, total=  14.2s\n",
      "[CV] C=34246.75194632794, gamma=0.3632878599687583, kernel=linear ....\n",
      "[CV]  C=34246.75194632794, gamma=0.3632878599687583, kernel=linear, total=  18.0s\n",
      "[CV] C=34246.75194632794, gamma=0.3632878599687583, kernel=linear ....\n",
      "[CV]  C=34246.75194632794, gamma=0.3632878599687583, kernel=linear, total=  14.1s\n",
      "[CV] C=167.7278956080511, gamma=0.2757870542258224, kernel=rbf .......\n",
      "[CV]  C=167.7278956080511, gamma=0.2757870542258224, kernel=rbf, total=  15.5s\n",
      "[CV] C=167.7278956080511, gamma=0.2757870542258224, kernel=rbf .......\n",
      "[CV]  C=167.7278956080511, gamma=0.2757870542258224, kernel=rbf, total=  16.6s\n",
      "[CV] C=167.7278956080511, gamma=0.2757870542258224, kernel=rbf .......\n",
      "[CV]  C=167.7278956080511, gamma=0.2757870542258224, kernel=rbf, total=  15.2s\n",
      "[CV] C=167.7278956080511, gamma=0.2757870542258224, kernel=rbf .......\n",
      "[CV]  C=167.7278956080511, gamma=0.2757870542258224, kernel=rbf, total=  15.9s\n",
      "[CV] C=167.7278956080511, gamma=0.2757870542258224, kernel=rbf .......\n",
      "[CV]  C=167.7278956080511, gamma=0.2757870542258224, kernel=rbf, total=  14.6s\n",
      "[CV] C=61.54360542501371, gamma=0.6835472281341501, kernel=linear ....\n",
      "[CV]  C=61.54360542501371, gamma=0.6835472281341501, kernel=linear, total=   7.9s\n",
      "[CV] C=61.54360542501371, gamma=0.6835472281341501, kernel=linear ....\n",
      "[CV]  C=61.54360542501371, gamma=0.6835472281341501, kernel=linear, total=   9.0s\n",
      "[CV] C=61.54360542501371, gamma=0.6835472281341501, kernel=linear ....\n",
      "[CV]  C=61.54360542501371, gamma=0.6835472281341501, kernel=linear, total=   9.3s\n",
      "[CV] C=61.54360542501371, gamma=0.6835472281341501, kernel=linear ....\n",
      "[CV]  C=61.54360542501371, gamma=0.6835472281341501, kernel=linear, total=   8.5s\n",
      "[CV] C=61.54360542501371, gamma=0.6835472281341501, kernel=linear ....\n",
      "[CV]  C=61.54360542501371, gamma=0.6835472281341501, kernel=linear, total=  10.1s\n",
      "[CV] C=98.73897389920914, gamma=0.4960365360493639, kernel=rbf .......\n",
      "[CV]  C=98.73897389920914, gamma=0.4960365360493639, kernel=rbf, total=  16.0s\n",
      "[CV] C=98.73897389920914, gamma=0.4960365360493639, kernel=rbf .......\n",
      "[CV]  C=98.73897389920914, gamma=0.4960365360493639, kernel=rbf, total=  16.1s\n",
      "[CV] C=98.73897389920914, gamma=0.4960365360493639, kernel=rbf .......\n",
      "[CV]  C=98.73897389920914, gamma=0.4960365360493639, kernel=rbf, total=  14.9s\n",
      "[CV] C=98.73897389920914, gamma=0.4960365360493639, kernel=rbf .......\n",
      "[CV]  C=98.73897389920914, gamma=0.4960365360493639, kernel=rbf, total=  14.3s\n",
      "[CV] C=98.73897389920914, gamma=0.4960365360493639, kernel=rbf .......\n",
      "[CV]  C=98.73897389920914, gamma=0.4960365360493639, kernel=rbf, total=  14.0s\n",
      "[CV] C=8935.505635947808, gamma=0.37354658165762367, kernel=rbf ......\n",
      "[CV]  C=8935.505635947808, gamma=0.37354658165762367, kernel=rbf, total=  16.3s\n",
      "[CV] C=8935.505635947808, gamma=0.37354658165762367, kernel=rbf ......\n",
      "[CV]  C=8935.505635947808, gamma=0.37354658165762367, kernel=rbf, total=  16.1s\n",
      "[CV] C=8935.505635947808, gamma=0.37354658165762367, kernel=rbf ......\n",
      "[CV]  C=8935.505635947808, gamma=0.37354658165762367, kernel=rbf, total=  16.6s\n",
      "[CV] C=8935.505635947808, gamma=0.37354658165762367, kernel=rbf ......\n",
      "[CV]  C=8935.505635947808, gamma=0.37354658165762367, kernel=rbf, total=  15.9s\n",
      "[CV] C=8935.505635947808, gamma=0.37354658165762367, kernel=rbf ......\n",
      "[CV]  C=8935.505635947808, gamma=0.37354658165762367, kernel=rbf, total=  14.7s\n",
      "[CV] C=135.76775824842434, gamma=0.838636245624803, kernel=linear ....\n",
      "[CV]  C=135.76775824842434, gamma=0.838636245624803, kernel=linear, total=   7.5s\n",
      "[CV] C=135.76775824842434, gamma=0.838636245624803, kernel=linear ....\n",
      "[CV]  C=135.76775824842434, gamma=0.838636245624803, kernel=linear, total=   9.1s\n",
      "[CV] C=135.76775824842434, gamma=0.838636245624803, kernel=linear ....\n",
      "[CV]  C=135.76775824842434, gamma=0.838636245624803, kernel=linear, total=   9.2s\n",
      "[CV] C=135.76775824842434, gamma=0.838636245624803, kernel=linear ....\n",
      "[CV]  C=135.76775824842434, gamma=0.838636245624803, kernel=linear, total=  10.1s\n",
      "[CV] C=135.76775824842434, gamma=0.838636245624803, kernel=linear ....\n",
      "[CV]  C=135.76775824842434, gamma=0.838636245624803, kernel=linear, total=   8.3s\n",
      "[CV] C=151136.20282548846, gamma=1.4922453771381408, kernel=rbf ......\n",
      "[CV]  C=151136.20282548846, gamma=1.4922453771381408, kernel=rbf, total=  47.5s\n",
      "[CV] C=151136.20282548846, gamma=1.4922453771381408, kernel=rbf ......\n",
      "[CV]  C=151136.20282548846, gamma=1.4922453771381408, kernel=rbf, total=  59.1s\n",
      "[CV] C=151136.20282548846, gamma=1.4922453771381408, kernel=rbf ......\n",
      "[CV]  C=151136.20282548846, gamma=1.4922453771381408, kernel=rbf, total=  53.2s\n",
      "[CV] C=151136.20282548846, gamma=1.4922453771381408, kernel=rbf ......\n",
      "[CV]  C=151136.20282548846, gamma=1.4922453771381408, kernel=rbf, total=  48.8s\n",
      "[CV] C=151136.20282548846, gamma=1.4922453771381408, kernel=rbf ......\n",
      "[CV]  C=151136.20282548846, gamma=1.4922453771381408, kernel=rbf, total=  52.1s\n",
      "[CV] C=761.4316758498783, gamma=2.6126336514161914, kernel=linear ....\n",
      "[CV]  C=761.4316758498783, gamma=2.6126336514161914, kernel=linear, total=  11.9s\n",
      "[CV] C=761.4316758498783, gamma=2.6126336514161914, kernel=linear ....\n",
      "[CV]  C=761.4316758498783, gamma=2.6126336514161914, kernel=linear, total=  12.3s\n",
      "[CV] C=761.4316758498783, gamma=2.6126336514161914, kernel=linear ....\n",
      "[CV]  C=761.4316758498783, gamma=2.6126336514161914, kernel=linear, total=  10.5s\n",
      "[CV] C=761.4316758498783, gamma=2.6126336514161914, kernel=linear ....\n",
      "[CV]  C=761.4316758498783, gamma=2.6126336514161914, kernel=linear, total=  10.1s\n",
      "[CV] C=761.4316758498783, gamma=2.6126336514161914, kernel=linear ....\n"
     ]
    },
    {
     "name": "stdout",
     "output_type": "stream",
     "text": [
      "[CV]  C=761.4316758498783, gamma=2.6126336514161914, kernel=linear, total=   8.5s\n",
      "[CV] C=97392.81883041795, gamma=0.09265545895311562, kernel=linear ...\n",
      "[CV]  C=97392.81883041795, gamma=0.09265545895311562, kernel=linear, total=  27.7s\n",
      "[CV] C=97392.81883041795, gamma=0.09265545895311562, kernel=linear ...\n",
      "[CV]  C=97392.81883041795, gamma=0.09265545895311562, kernel=linear, total=  31.6s\n",
      "[CV] C=97392.81883041795, gamma=0.09265545895311562, kernel=linear ...\n",
      "[CV]  C=97392.81883041795, gamma=0.09265545895311562, kernel=linear, total=  26.5s\n",
      "[CV] C=97392.81883041795, gamma=0.09265545895311562, kernel=linear ...\n",
      "[CV]  C=97392.81883041795, gamma=0.09265545895311562, kernel=linear, total=  24.5s\n",
      "[CV] C=97392.81883041795, gamma=0.09265545895311562, kernel=linear ...\n",
      "[CV]  C=97392.81883041795, gamma=0.09265545895311562, kernel=linear, total=  26.7s\n",
      "[CV] C=2423.0759984939164, gamma=3.248614270240346, kernel=linear ....\n",
      "[CV]  C=2423.0759984939164, gamma=3.248614270240346, kernel=linear, total=  12.3s\n",
      "[CV] C=2423.0759984939164, gamma=3.248614270240346, kernel=linear ....\n",
      "[CV]  C=2423.0759984939164, gamma=3.248614270240346, kernel=linear, total=   9.0s\n",
      "[CV] C=2423.0759984939164, gamma=3.248614270240346, kernel=linear ....\n",
      "[CV]  C=2423.0759984939164, gamma=3.248614270240346, kernel=linear, total=  10.6s\n",
      "[CV] C=2423.0759984939164, gamma=3.248614270240346, kernel=linear ....\n",
      "[CV]  C=2423.0759984939164, gamma=3.248614270240346, kernel=linear, total=   9.8s\n",
      "[CV] C=2423.0759984939164, gamma=3.248614270240346, kernel=linear ....\n",
      "[CV]  C=2423.0759984939164, gamma=3.248614270240346, kernel=linear, total=  12.0s\n",
      "[CV] C=717.3632997255095, gamma=0.3165604432088257, kernel=linear ....\n",
      "[CV]  C=717.3632997255095, gamma=0.3165604432088257, kernel=linear, total=  10.8s\n",
      "[CV] C=717.3632997255095, gamma=0.3165604432088257, kernel=linear ....\n",
      "[CV]  C=717.3632997255095, gamma=0.3165604432088257, kernel=linear, total=  10.9s\n",
      "[CV] C=717.3632997255095, gamma=0.3165604432088257, kernel=linear ....\n",
      "[CV]  C=717.3632997255095, gamma=0.3165604432088257, kernel=linear, total=   8.3s\n",
      "[CV] C=717.3632997255095, gamma=0.3165604432088257, kernel=linear ....\n",
      "[CV]  C=717.3632997255095, gamma=0.3165604432088257, kernel=linear, total=  10.4s\n",
      "[CV] C=717.3632997255095, gamma=0.3165604432088257, kernel=linear ....\n",
      "[CV]  C=717.3632997255095, gamma=0.3165604432088257, kernel=linear, total=   9.6s\n",
      "[CV] C=4446.667521184072, gamma=3.3597284456608496, kernel=rbf .......\n",
      "[CV]  C=4446.667521184072, gamma=3.3597284456608496, kernel=rbf, total=  19.5s\n",
      "[CV] C=4446.667521184072, gamma=3.3597284456608496, kernel=rbf .......\n",
      "[CV]  C=4446.667521184072, gamma=3.3597284456608496, kernel=rbf, total=  19.4s\n",
      "[CV] C=4446.667521184072, gamma=3.3597284456608496, kernel=rbf .......\n",
      "[CV]  C=4446.667521184072, gamma=3.3597284456608496, kernel=rbf, total=  19.6s\n",
      "[CV] C=4446.667521184072, gamma=3.3597284456608496, kernel=rbf .......\n",
      "[CV]  C=4446.667521184072, gamma=3.3597284456608496, kernel=rbf, total=  20.8s\n",
      "[CV] C=4446.667521184072, gamma=3.3597284456608496, kernel=rbf .......\n",
      "[CV]  C=4446.667521184072, gamma=3.3597284456608496, kernel=rbf, total=  18.2s\n",
      "[CV] C=2963.564121207815, gamma=0.15189814782062885, kernel=linear ...\n",
      "[CV]  C=2963.564121207815, gamma=0.15189814782062885, kernel=linear, total=   9.4s\n",
      "[CV] C=2963.564121207815, gamma=0.15189814782062885, kernel=linear ...\n",
      "[CV]  C=2963.564121207815, gamma=0.15189814782062885, kernel=linear, total=  11.3s\n",
      "[CV] C=2963.564121207815, gamma=0.15189814782062885, kernel=linear ...\n",
      "[CV]  C=2963.564121207815, gamma=0.15189814782062885, kernel=linear, total=  10.3s\n",
      "[CV] C=2963.564121207815, gamma=0.15189814782062885, kernel=linear ...\n",
      "[CV]  C=2963.564121207815, gamma=0.15189814782062885, kernel=linear, total=  11.3s\n",
      "[CV] C=2963.564121207815, gamma=0.15189814782062885, kernel=linear ...\n",
      "[CV]  C=2963.564121207815, gamma=0.15189814782062885, kernel=linear, total=  10.3s\n",
      "[CV] C=91.64267381686706, gamma=0.01575994483585621, kernel=linear ...\n",
      "[CV]  C=91.64267381686706, gamma=0.01575994483585621, kernel=linear, total=   9.4s\n",
      "[CV] C=91.64267381686706, gamma=0.01575994483585621, kernel=linear ...\n",
      "[CV]  C=91.64267381686706, gamma=0.01575994483585621, kernel=linear, total=   9.4s\n",
      "[CV] C=91.64267381686706, gamma=0.01575994483585621, kernel=linear ...\n",
      "[CV]  C=91.64267381686706, gamma=0.01575994483585621, kernel=linear, total=  10.4s\n",
      "[CV] C=91.64267381686706, gamma=0.01575994483585621, kernel=linear ...\n",
      "[CV]  C=91.64267381686706, gamma=0.01575994483585621, kernel=linear, total=  12.0s\n",
      "[CV] C=91.64267381686706, gamma=0.01575994483585621, kernel=linear ...\n",
      "[CV]  C=91.64267381686706, gamma=0.01575994483585621, kernel=linear, total=   9.2s\n",
      "[CV] C=24547.601975705915, gamma=0.22153944050588595, kernel=rbf .....\n",
      "[CV]  C=24547.601975705915, gamma=0.22153944050588595, kernel=rbf, total=  16.6s\n",
      "[CV] C=24547.601975705915, gamma=0.22153944050588595, kernel=rbf .....\n",
      "[CV]  C=24547.601975705915, gamma=0.22153944050588595, kernel=rbf, total=  17.2s\n",
      "[CV] C=24547.601975705915, gamma=0.22153944050588595, kernel=rbf .....\n",
      "[CV]  C=24547.601975705915, gamma=0.22153944050588595, kernel=rbf, total=  17.2s\n",
      "[CV] C=24547.601975705915, gamma=0.22153944050588595, kernel=rbf .....\n",
      "[CV]  C=24547.601975705915, gamma=0.22153944050588595, kernel=rbf, total=  17.2s\n",
      "[CV] C=24547.601975705915, gamma=0.22153944050588595, kernel=rbf .....\n",
      "[CV]  C=24547.601975705915, gamma=0.22153944050588595, kernel=rbf, total=  16.3s\n",
      "[CV] C=22.76927941060928, gamma=0.22169760231351215, kernel=rbf ......\n",
      "[CV]  C=22.76927941060928, gamma=0.22169760231351215, kernel=rbf, total=  16.9s\n",
      "[CV] C=22.76927941060928, gamma=0.22169760231351215, kernel=rbf ......\n",
      "[CV]  C=22.76927941060928, gamma=0.22169760231351215, kernel=rbf, total=  15.3s\n",
      "[CV] C=22.76927941060928, gamma=0.22169760231351215, kernel=rbf ......\n",
      "[CV]  C=22.76927941060928, gamma=0.22169760231351215, kernel=rbf, total=  18.7s\n",
      "[CV] C=22.76927941060928, gamma=0.22169760231351215, kernel=rbf ......\n",
      "[CV]  C=22.76927941060928, gamma=0.22169760231351215, kernel=rbf, total=  16.6s\n",
      "[CV] C=22.76927941060928, gamma=0.22169760231351215, kernel=rbf ......\n",
      "[CV]  C=22.76927941060928, gamma=0.22169760231351215, kernel=rbf, total=  16.6s\n",
      "[CV] C=16483.850529752886, gamma=1.4752145260435134, kernel=linear ...\n",
      "[CV]  C=16483.850529752886, gamma=1.4752145260435134, kernel=linear, total=  11.8s\n",
      "[CV] C=16483.850529752886, gamma=1.4752145260435134, kernel=linear ...\n",
      "[CV]  C=16483.850529752886, gamma=1.4752145260435134, kernel=linear, total=  11.2s\n",
      "[CV] C=16483.850529752886, gamma=1.4752145260435134, kernel=linear ...\n",
      "[CV]  C=16483.850529752886, gamma=1.4752145260435134, kernel=linear, total=  14.1s\n",
      "[CV] C=16483.850529752886, gamma=1.4752145260435134, kernel=linear ...\n",
      "[CV]  C=16483.850529752886, gamma=1.4752145260435134, kernel=linear, total=  12.3s\n",
      "[CV] C=16483.850529752886, gamma=1.4752145260435134, kernel=linear ...\n",
      "[CV]  C=16483.850529752886, gamma=1.4752145260435134, kernel=linear, total=  10.7s\n",
      "[CV] C=101445.66881340064, gamma=1.052904084582266, kernel=rbf .......\n",
      "[CV]  C=101445.66881340064, gamma=1.052904084582266, kernel=rbf, total=  24.6s\n",
      "[CV] C=101445.66881340064, gamma=1.052904084582266, kernel=rbf .......\n",
      "[CV]  C=101445.66881340064, gamma=1.052904084582266, kernel=rbf, total=  26.3s\n",
      "[CV] C=101445.66881340064, gamma=1.052904084582266, kernel=rbf .......\n",
      "[CV]  C=101445.66881340064, gamma=1.052904084582266, kernel=rbf, total=  26.2s\n",
      "[CV] C=101445.66881340064, gamma=1.052904084582266, kernel=rbf .......\n",
      "[CV]  C=101445.66881340064, gamma=1.052904084582266, kernel=rbf, total=  24.6s\n",
      "[CV] C=101445.66881340064, gamma=1.052904084582266, kernel=rbf .......\n",
      "[CV]  C=101445.66881340064, gamma=1.052904084582266, kernel=rbf, total=  29.1s\n",
      "[CV] C=56681.80859029545, gamma=0.9763011917123741, kernel=rbf .......\n",
      "[CV]  C=56681.80859029545, gamma=0.9763011917123741, kernel=rbf, total=  19.4s\n",
      "[CV] C=56681.80859029545, gamma=0.9763011917123741, kernel=rbf .......\n",
      "[CV]  C=56681.80859029545, gamma=0.9763011917123741, kernel=rbf, total=  22.7s\n",
      "[CV] C=56681.80859029545, gamma=0.9763011917123741, kernel=rbf .......\n",
      "[CV]  C=56681.80859029545, gamma=0.9763011917123741, kernel=rbf, total=  17.0s\n",
      "[CV] C=56681.80859029545, gamma=0.9763011917123741, kernel=rbf .......\n"
     ]
    },
    {
     "name": "stdout",
     "output_type": "stream",
     "text": [
      "[CV]  C=56681.80859029545, gamma=0.9763011917123741, kernel=rbf, total=  19.2s\n",
      "[CV] C=56681.80859029545, gamma=0.9763011917123741, kernel=rbf .......\n",
      "[CV]  C=56681.80859029545, gamma=0.9763011917123741, kernel=rbf, total=  20.6s\n",
      "[CV] C=48.15822390928914, gamma=0.4633351167983427, kernel=rbf .......\n",
      "[CV]  C=48.15822390928914, gamma=0.4633351167983427, kernel=rbf, total=  14.9s\n",
      "[CV] C=48.15822390928914, gamma=0.4633351167983427, kernel=rbf .......\n",
      "[CV]  C=48.15822390928914, gamma=0.4633351167983427, kernel=rbf, total=  16.1s\n",
      "[CV] C=48.15822390928914, gamma=0.4633351167983427, kernel=rbf .......\n",
      "[CV]  C=48.15822390928914, gamma=0.4633351167983427, kernel=rbf, total=  17.2s\n",
      "[CV] C=48.15822390928914, gamma=0.4633351167983427, kernel=rbf .......\n",
      "[CV]  C=48.15822390928914, gamma=0.4633351167983427, kernel=rbf, total=  16.6s\n",
      "[CV] C=48.15822390928914, gamma=0.4633351167983427, kernel=rbf .......\n",
      "[CV]  C=48.15822390928914, gamma=0.4633351167983427, kernel=rbf, total=  15.0s\n",
      "[CV] C=399.7268155705774, gamma=1.3078757839577408, kernel=rbf .......\n",
      "[CV]  C=399.7268155705774, gamma=1.3078757839577408, kernel=rbf, total=  15.3s\n",
      "[CV] C=399.7268155705774, gamma=1.3078757839577408, kernel=rbf .......\n",
      "[CV]  C=399.7268155705774, gamma=1.3078757839577408, kernel=rbf, total=  17.3s\n",
      "[CV] C=399.7268155705774, gamma=1.3078757839577408, kernel=rbf .......\n",
      "[CV]  C=399.7268155705774, gamma=1.3078757839577408, kernel=rbf, total=  17.1s\n",
      "[CV] C=399.7268155705774, gamma=1.3078757839577408, kernel=rbf .......\n",
      "[CV]  C=399.7268155705774, gamma=1.3078757839577408, kernel=rbf, total=  16.8s\n",
      "[CV] C=399.7268155705774, gamma=1.3078757839577408, kernel=rbf .......\n",
      "[CV]  C=399.7268155705774, gamma=1.3078757839577408, kernel=rbf, total=  16.7s\n",
      "[CV] C=251.14073886281363, gamma=0.8238105204914145, kernel=linear ...\n",
      "[CV]  C=251.14073886281363, gamma=0.8238105204914145, kernel=linear, total=   9.5s\n",
      "[CV] C=251.14073886281363, gamma=0.8238105204914145, kernel=linear ...\n",
      "[CV]  C=251.14073886281363, gamma=0.8238105204914145, kernel=linear, total=   9.4s\n",
      "[CV] C=251.14073886281363, gamma=0.8238105204914145, kernel=linear ...\n",
      "[CV]  C=251.14073886281363, gamma=0.8238105204914145, kernel=linear, total=  11.1s\n",
      "[CV] C=251.14073886281363, gamma=0.8238105204914145, kernel=linear ...\n",
      "[CV]  C=251.14073886281363, gamma=0.8238105204914145, kernel=linear, total=   9.5s\n",
      "[CV] C=251.14073886281363, gamma=0.8238105204914145, kernel=linear ...\n",
      "[CV]  C=251.14073886281363, gamma=0.8238105204914145, kernel=linear, total=   9.8s\n",
      "[CV] C=60.17373642891687, gamma=1.2491263443165994, kernel=linear ....\n",
      "[CV]  C=60.17373642891687, gamma=1.2491263443165994, kernel=linear, total=   9.2s\n",
      "[CV] C=60.17373642891687, gamma=1.2491263443165994, kernel=linear ....\n",
      "[CV]  C=60.17373642891687, gamma=1.2491263443165994, kernel=linear, total=   9.3s\n",
      "[CV] C=60.17373642891687, gamma=1.2491263443165994, kernel=linear ....\n",
      "[CV]  C=60.17373642891687, gamma=1.2491263443165994, kernel=linear, total=   9.1s\n",
      "[CV] C=60.17373642891687, gamma=1.2491263443165994, kernel=linear ....\n",
      "[CV]  C=60.17373642891687, gamma=1.2491263443165994, kernel=linear, total=  10.8s\n",
      "[CV] C=60.17373642891687, gamma=1.2491263443165994, kernel=linear ....\n",
      "[CV]  C=60.17373642891687, gamma=1.2491263443165994, kernel=linear, total=   7.9s\n",
      "[CV] C=15415.161544891856, gamma=0.2691677514619319, kernel=rbf ......\n",
      "[CV]  C=15415.161544891856, gamma=0.2691677514619319, kernel=rbf, total=  19.3s\n",
      "[CV] C=15415.161544891856, gamma=0.2691677514619319, kernel=rbf ......\n",
      "[CV]  C=15415.161544891856, gamma=0.2691677514619319, kernel=rbf, total=  16.2s\n",
      "[CV] C=15415.161544891856, gamma=0.2691677514619319, kernel=rbf ......\n",
      "[CV]  C=15415.161544891856, gamma=0.2691677514619319, kernel=rbf, total=  17.8s\n",
      "[CV] C=15415.161544891856, gamma=0.2691677514619319, kernel=rbf ......\n",
      "[CV]  C=15415.161544891856, gamma=0.2691677514619319, kernel=rbf, total=  14.4s\n",
      "[CV] C=15415.161544891856, gamma=0.2691677514619319, kernel=rbf ......\n",
      "[CV]  C=15415.161544891856, gamma=0.2691677514619319, kernel=rbf, total=  15.5s\n",
      "[CV] C=1888.9148509967113, gamma=0.739678838777267, kernel=linear ....\n",
      "[CV]  C=1888.9148509967113, gamma=0.739678838777267, kernel=linear, total=   9.7s\n",
      "[CV] C=1888.9148509967113, gamma=0.739678838777267, kernel=linear ....\n",
      "[CV]  C=1888.9148509967113, gamma=0.739678838777267, kernel=linear, total=   8.3s\n",
      "[CV] C=1888.9148509967113, gamma=0.739678838777267, kernel=linear ....\n",
      "[CV]  C=1888.9148509967113, gamma=0.739678838777267, kernel=linear, total=   9.6s\n",
      "[CV] C=1888.9148509967113, gamma=0.739678838777267, kernel=linear ....\n",
      "[CV]  C=1888.9148509967113, gamma=0.739678838777267, kernel=linear, total=   9.3s\n",
      "[CV] C=1888.9148509967113, gamma=0.739678838777267, kernel=linear ....\n",
      "[CV]  C=1888.9148509967113, gamma=0.739678838777267, kernel=linear, total=  11.6s\n",
      "[CV] C=55.53838911232773, gamma=0.578634378499143, kernel=linear .....\n",
      "[CV]  C=55.53838911232773, gamma=0.578634378499143, kernel=linear, total=   7.8s\n",
      "[CV] C=55.53838911232773, gamma=0.578634378499143, kernel=linear .....\n",
      "[CV]  C=55.53838911232773, gamma=0.578634378499143, kernel=linear, total=   9.7s\n",
      "[CV] C=55.53838911232773, gamma=0.578634378499143, kernel=linear .....\n",
      "[CV]  C=55.53838911232773, gamma=0.578634378499143, kernel=linear, total=   8.4s\n",
      "[CV] C=55.53838911232773, gamma=0.578634378499143, kernel=linear .....\n",
      "[CV]  C=55.53838911232773, gamma=0.578634378499143, kernel=linear, total=   9.1s\n",
      "[CV] C=55.53838911232773, gamma=0.578634378499143, kernel=linear .....\n",
      "[CV]  C=55.53838911232773, gamma=0.578634378499143, kernel=linear, total=   9.7s\n",
      "[CV] C=26.714480823948186, gamma=1.0117295509275495, kernel=rbf ......\n",
      "[CV]  C=26.714480823948186, gamma=1.0117295509275495, kernel=rbf, total=  17.5s\n",
      "[CV] C=26.714480823948186, gamma=1.0117295509275495, kernel=rbf ......\n",
      "[CV]  C=26.714480823948186, gamma=1.0117295509275495, kernel=rbf, total=  18.3s\n",
      "[CV] C=26.714480823948186, gamma=1.0117295509275495, kernel=rbf ......\n",
      "[CV]  C=26.714480823948186, gamma=1.0117295509275495, kernel=rbf, total=  15.7s\n",
      "[CV] C=26.714480823948186, gamma=1.0117295509275495, kernel=rbf ......\n",
      "[CV]  C=26.714480823948186, gamma=1.0117295509275495, kernel=rbf, total=  15.1s\n",
      "[CV] C=26.714480823948186, gamma=1.0117295509275495, kernel=rbf ......\n",
      "[CV]  C=26.714480823948186, gamma=1.0117295509275495, kernel=rbf, total=  16.3s\n",
      "[CV] C=3582.0552780489566, gamma=1.1891370222133257, kernel=linear ...\n",
      "[CV]  C=3582.0552780489566, gamma=1.1891370222133257, kernel=linear, total=  10.0s\n",
      "[CV] C=3582.0552780489566, gamma=1.1891370222133257, kernel=linear ...\n",
      "[CV]  C=3582.0552780489566, gamma=1.1891370222133257, kernel=linear, total=   8.2s\n",
      "[CV] C=3582.0552780489566, gamma=1.1891370222133257, kernel=linear ...\n",
      "[CV]  C=3582.0552780489566, gamma=1.1891370222133257, kernel=linear, total=  12.0s\n",
      "[CV] C=3582.0552780489566, gamma=1.1891370222133257, kernel=linear ...\n",
      "[CV]  C=3582.0552780489566, gamma=1.1891370222133257, kernel=linear, total=   8.4s\n",
      "[CV] C=3582.0552780489566, gamma=1.1891370222133257, kernel=linear ...\n",
      "[CV]  C=3582.0552780489566, gamma=1.1891370222133257, kernel=linear, total=   9.3s\n",
      "[CV] C=198.7004781812736, gamma=0.5282819748826726, kernel=linear ....\n",
      "[CV]  C=198.7004781812736, gamma=0.5282819748826726, kernel=linear, total=   9.2s\n",
      "[CV] C=198.7004781812736, gamma=0.5282819748826726, kernel=linear ....\n",
      "[CV]  C=198.7004781812736, gamma=0.5282819748826726, kernel=linear, total=  10.0s\n",
      "[CV] C=198.7004781812736, gamma=0.5282819748826726, kernel=linear ....\n",
      "[CV]  C=198.7004781812736, gamma=0.5282819748826726, kernel=linear, total=   9.1s\n",
      "[CV] C=198.7004781812736, gamma=0.5282819748826726, kernel=linear ....\n",
      "[CV]  C=198.7004781812736, gamma=0.5282819748826726, kernel=linear, total=   7.8s\n",
      "[CV] C=198.7004781812736, gamma=0.5282819748826726, kernel=linear ....\n",
      "[CV]  C=198.7004781812736, gamma=0.5282819748826726, kernel=linear, total=   9.1s\n",
      "[CV] C=129.8000604143307, gamma=2.8621383676481322, kernel=linear ....\n",
      "[CV]  C=129.8000604143307, gamma=2.8621383676481322, kernel=linear, total=   8.8s\n",
      "[CV] C=129.8000604143307, gamma=2.8621383676481322, kernel=linear ....\n",
      "[CV]  C=129.8000604143307, gamma=2.8621383676481322, kernel=linear, total=   9.3s\n",
      "[CV] C=129.8000604143307, gamma=2.8621383676481322, kernel=linear ....\n"
     ]
    },
    {
     "name": "stdout",
     "output_type": "stream",
     "text": [
      "[CV]  C=129.8000604143307, gamma=2.8621383676481322, kernel=linear, total=   9.1s\n",
      "[CV] C=129.8000604143307, gamma=2.8621383676481322, kernel=linear ....\n",
      "[CV]  C=129.8000604143307, gamma=2.8621383676481322, kernel=linear, total=   9.2s\n",
      "[CV] C=129.8000604143307, gamma=2.8621383676481322, kernel=linear ....\n",
      "[CV]  C=129.8000604143307, gamma=2.8621383676481322, kernel=linear, total=  10.3s\n",
      "[CV] C=288.4269299593897, gamma=0.17580835850006285, kernel=rbf ......\n",
      "[CV]  C=288.4269299593897, gamma=0.17580835850006285, kernel=rbf, total=  15.9s\n",
      "[CV] C=288.4269299593897, gamma=0.17580835850006285, kernel=rbf ......\n",
      "[CV]  C=288.4269299593897, gamma=0.17580835850006285, kernel=rbf, total=  15.7s\n",
      "[CV] C=288.4269299593897, gamma=0.17580835850006285, kernel=rbf ......\n",
      "[CV]  C=288.4269299593897, gamma=0.17580835850006285, kernel=rbf, total=  14.3s\n",
      "[CV] C=288.4269299593897, gamma=0.17580835850006285, kernel=rbf ......\n",
      "[CV]  C=288.4269299593897, gamma=0.17580835850006285, kernel=rbf, total=  17.1s\n",
      "[CV] C=288.4269299593897, gamma=0.17580835850006285, kernel=rbf ......\n",
      "[CV]  C=288.4269299593897, gamma=0.17580835850006285, kernel=rbf, total=  15.6s\n",
      "[CV] C=6287.039489427172, gamma=0.3504567255332862, kernel=linear ....\n",
      "[CV]  C=6287.039489427172, gamma=0.3504567255332862, kernel=linear, total=  10.2s\n",
      "[CV] C=6287.039489427172, gamma=0.3504567255332862, kernel=linear ....\n",
      "[CV]  C=6287.039489427172, gamma=0.3504567255332862, kernel=linear, total=  12.3s\n",
      "[CV] C=6287.039489427172, gamma=0.3504567255332862, kernel=linear ....\n",
      "[CV]  C=6287.039489427172, gamma=0.3504567255332862, kernel=linear, total=   9.0s\n",
      "[CV] C=6287.039489427172, gamma=0.3504567255332862, kernel=linear ....\n",
      "[CV]  C=6287.039489427172, gamma=0.3504567255332862, kernel=linear, total=  12.5s\n",
      "[CV] C=6287.039489427172, gamma=0.3504567255332862, kernel=linear ....\n",
      "[CV]  C=6287.039489427172, gamma=0.3504567255332862, kernel=linear, total=  12.3s\n",
      "[CV] C=61217.04421344494, gamma=1.6279689407405564, kernel=rbf .......\n",
      "[CV]  C=61217.04421344494, gamma=1.6279689407405564, kernel=rbf, total=  22.2s\n",
      "[CV] C=61217.04421344494, gamma=1.6279689407405564, kernel=rbf .......\n",
      "[CV]  C=61217.04421344494, gamma=1.6279689407405564, kernel=rbf, total=  25.0s\n",
      "[CV] C=61217.04421344494, gamma=1.6279689407405564, kernel=rbf .......\n",
      "[CV]  C=61217.04421344494, gamma=1.6279689407405564, kernel=rbf, total=  22.3s\n",
      "[CV] C=61217.04421344494, gamma=1.6279689407405564, kernel=rbf .......\n",
      "[CV]  C=61217.04421344494, gamma=1.6279689407405564, kernel=rbf, total=  24.1s\n",
      "[CV] C=61217.04421344494, gamma=1.6279689407405564, kernel=rbf .......\n",
      "[CV]  C=61217.04421344494, gamma=1.6279689407405564, kernel=rbf, total=  24.4s\n",
      "[CV] C=926.9787684096649, gamma=2.147979593060577, kernel=rbf ........\n",
      "[CV]  C=926.9787684096649, gamma=2.147979593060577, kernel=rbf, total=  16.1s\n",
      "[CV] C=926.9787684096649, gamma=2.147979593060577, kernel=rbf ........\n",
      "[CV]  C=926.9787684096649, gamma=2.147979593060577, kernel=rbf, total=  20.1s\n",
      "[CV] C=926.9787684096649, gamma=2.147979593060577, kernel=rbf ........\n",
      "[CV]  C=926.9787684096649, gamma=2.147979593060577, kernel=rbf, total=  17.8s\n",
      "[CV] C=926.9787684096649, gamma=2.147979593060577, kernel=rbf ........\n",
      "[CV]  C=926.9787684096649, gamma=2.147979593060577, kernel=rbf, total=  17.6s\n",
      "[CV] C=926.9787684096649, gamma=2.147979593060577, kernel=rbf ........\n",
      "[CV]  C=926.9787684096649, gamma=2.147979593060577, kernel=rbf, total=  19.8s\n",
      "[CV] C=33946.157064934, gamma=2.2642426492862313, kernel=linear ......\n",
      "[CV]  C=33946.157064934, gamma=2.2642426492862313, kernel=linear, total=  18.0s\n",
      "[CV] C=33946.157064934, gamma=2.2642426492862313, kernel=linear ......\n",
      "[CV]  C=33946.157064934, gamma=2.2642426492862313, kernel=linear, total=  16.2s\n",
      "[CV] C=33946.157064934, gamma=2.2642426492862313, kernel=linear ......\n",
      "[CV]  C=33946.157064934, gamma=2.2642426492862313, kernel=linear, total=  13.9s\n",
      "[CV] C=33946.157064934, gamma=2.2642426492862313, kernel=linear ......\n",
      "[CV]  C=33946.157064934, gamma=2.2642426492862313, kernel=linear, total=  16.3s\n",
      "[CV] C=33946.157064934, gamma=2.2642426492862313, kernel=linear ......\n",
      "[CV]  C=33946.157064934, gamma=2.2642426492862313, kernel=linear, total=  14.2s\n",
      "[CV] C=84789.82947739525, gamma=0.3176359085304841, kernel=linear ....\n",
      "[CV]  C=84789.82947739525, gamma=0.3176359085304841, kernel=linear, total=  23.4s\n",
      "[CV] C=84789.82947739525, gamma=0.3176359085304841, kernel=linear ....\n",
      "[CV]  C=84789.82947739525, gamma=0.3176359085304841, kernel=linear, total=  24.5s\n",
      "[CV] C=84789.82947739525, gamma=0.3176359085304841, kernel=linear ....\n",
      "[CV]  C=84789.82947739525, gamma=0.3176359085304841, kernel=linear, total=  24.5s\n",
      "[CV] C=84789.82947739525, gamma=0.3176359085304841, kernel=linear ....\n",
      "[CV]  C=84789.82947739525, gamma=0.3176359085304841, kernel=linear, total=  27.1s\n",
      "[CV] C=84789.82947739525, gamma=0.3176359085304841, kernel=linear ....\n",
      "[CV]  C=84789.82947739525, gamma=0.3176359085304841, kernel=linear, total=  20.6s\n"
     ]
    },
    {
     "name": "stderr",
     "output_type": "stream",
     "text": [
      "[Parallel(n_jobs=1)]: Done 250 out of 250 | elapsed: 66.3min finished\n"
     ]
    },
    {
     "data": {
      "text/plain": [
       "RandomizedSearchCV(cv=5, error_score='raise-deprecating',\n",
       "                   estimator=SVR(C=1.0, cache_size=200, coef0=0.0, degree=3,\n",
       "                                 epsilon=0.1, gamma='auto_deprecated',\n",
       "                                 kernel='rbf', max_iter=-1, shrinking=True,\n",
       "                                 tol=0.001, verbose=False),\n",
       "                   iid='warn', n_iter=50, n_jobs=None,\n",
       "                   param_distributions={'C': <scipy.stats._distn_infrastructure.rv_frozen object at 0x00000054B059E648>,\n",
       "                                        'gamma': <scipy.stats._distn_infrastructure.rv_frozen object at 0x00000054B059ED88>,\n",
       "                                        'kernel': ['linear', 'rbf']},\n",
       "                   pre_dispatch='2*n_jobs', random_state=42, refit=True,\n",
       "                   return_train_score=False, scoring='neg_mean_squared_error',\n",
       "                   verbose=2)"
      ]
     },
     "execution_count": 67,
     "metadata": {},
     "output_type": "execute_result"
    }
   ],
   "source": [
    "from sklearn.model_selection import RandomizedSearchCV\n",
    "from scipy.stats import expon, reciprocal\n",
    "\n",
    "# see https://docs.scipy.org/doc/scipy/reference/stats.html\n",
    "# for `expon()` and `reciprocal()` documentation and more probability distribution functions.\n",
    "\n",
    "# Note: gamma is ignored when kernel is \"linear\"\n",
    "param_distribs = {\n",
    "        'kernel': ['linear', 'rbf'],\n",
    "        'C': reciprocal(20, 200000),\n",
    "        'gamma': expon(scale=1.0),\n",
    "    }\n",
    "\n",
    "svm_reg = SVR()\n",
    "rnd_search = RandomizedSearchCV(svm_reg, param_distributions=param_distribs,\n",
    "                                n_iter=50, cv=5, scoring='neg_mean_squared_error',\n",
    "                                verbose=2, random_state=42)\n",
    "rnd_search.fit(housing_prepared, housing_labels)"
   ]
  },
  {
   "cell_type": "code",
   "execution_count": 68,
   "metadata": {},
   "outputs": [
    {
     "data": {
      "text/plain": [
       "119959.0733010127"
      ]
     },
     "execution_count": 68,
     "metadata": {},
     "output_type": "execute_result"
    }
   ],
   "source": [
    "negative_mse = rnd_search.best_score_\n",
    "rmse = np.sqrt(-negative_mse)\n",
    "rmse"
   ]
  },
  {
   "cell_type": "code",
   "execution_count": 69,
   "metadata": {},
   "outputs": [
    {
     "data": {
      "text/plain": [
       "{'C': 24.17508294611391, 'gamma': 3.503557475158312, 'kernel': 'rbf'}"
      ]
     },
     "execution_count": 69,
     "metadata": {},
     "output_type": "execute_result"
    }
   ],
   "source": [
    "rnd_search.best_params_"
   ]
  },
  {
   "cell_type": "markdown",
   "metadata": {},
   "source": [
    "This time the search found a good set of hyperparameters for the RBF kernel. Randomized search tends to find better hyperparameters than grid search in the same amount of time.\n",
    "\n",
    "Let's look at the exponential distribution we used, with scale=1.0. Note that some samples are much larger or smaller than 1.0, but when you look at the log of the distribution, you can see that most values are actually concentrated roughly in the range of exp(-2) to exp(+2), which is about 0.1 to 7.4."
   ]
  },
  {
   "cell_type": "code",
   "execution_count": 70,
   "metadata": {},
   "outputs": [
    {
     "data": {
      "image/png": "[encoded data removed]",
      "text/plain": [
       "<Figure size 720x288 with 2 Axes>"
      ]
     },
     "metadata": {
      "needs_background": "light"
     },
     "output_type": "display_data"
    }
   ],
   "source": [
    "expon_distrib = expon(scale=1.)\n",
    "samples = expon_distrib.rvs(10000, random_state=42)\n",
    "plt.figure(figsize=(10, 4))\n",
    "plt.subplot(121)\n",
    "plt.title(\"Exponential distribution (scale=1.0)\")\n",
    "plt.hist(samples, bins=50)\n",
    "plt.subplot(122)\n",
    "plt.title(\"Log of this distribution\")\n",
    "plt.hist(np.log(samples), bins=50)\n",
    "plt.show()"
   ]
  },
  {
   "cell_type": "markdown",
   "metadata": {},
   "source": [
    "The distribution we used for C looks quite different: the scale of the samples is picked from a uniform distribution within a given range, which is why the right graph, which represents the log of the samples, looks roughly constant. This distribution is useful when you don't have a clue of what the target scale is:"
   ]
  },
  {
   "cell_type": "code",
   "execution_count": 71,
   "metadata": {},
   "outputs": [
    {
     "data": {
      "image/png": "[encoded data removed]",
      "text/plain": [
       "<Figure size 720x288 with 2 Axes>"
      ]
     },
     "metadata": {
      "needs_background": "light"
     },
     "output_type": "display_data"
    }
   ],
   "source": [
    "reciprocal_distrib = reciprocal(20, 200000)\n",
    "samples = reciprocal_distrib.rvs(10000, random_state=42)\n",
    "plt.figure(figsize=(10, 4))\n",
    "plt.subplot(121)\n",
    "plt.title(\"Reciprocal distribution (scale=1.0)\")\n",
    "plt.hist(samples, bins=50)\n",
    "plt.subplot(122)\n",
    "plt.title(\"Log of this distribution\")\n",
    "plt.hist(np.log(samples), bins=50)\n",
    "plt.show()"
   ]
  },
  {
   "cell_type": "markdown",
   "metadata": {},
   "source": [
    "The reciprocal distribution is useful when you have no idea what the scale of the hyperparameter should be (indeed, as you can see on the figure on the right, all scales are equally likely, within the given range), whereas the exponential distribution is best when you know (more or less) what the scale of the hyperparameter should be.\n",
    "\n",
    "# 3.\n",
    "Question: Try adding a transformer in the preparation pipeline to select only the most important attributes."
   ]
  },
  {
   "cell_type": "code",
   "execution_count": 72,
   "metadata": {},
   "outputs": [],
   "source": [
    "from sklearn.base import BaseEstimator, TransformerMixin\n",
    "\n",
    "def indices_of_top_k(arr, k):\n",
    "    return np.sort(np.argpartition(np.array(arr), -k)[-k:])\n",
    "\n",
    "class TopFeatureSelector(BaseEstimator, TransformerMixin):\n",
    "    def __init__(self, feature_importances, k):\n",
    "        self.feature_importances = feature_importances\n",
    "        self.k = k\n",
    "    def fit(self, X, y=None):\n",
    "        self.feature_indices_ = indices_of_top_k(self.feature_importances, self.k)\n",
    "        return self\n",
    "    def transform(self, X):\n",
    "        return X[:, self.feature_indices_]"
   ]
  },
  {
   "cell_type": "markdown",
   "metadata": {},
   "source": [
    "Note: this feature selector assumes that you have already computed the feature importances somehow (for example using a RandomForestRegressor). You may be tempted to compute them directly in the TopFeatureSelector's fit() method, however this would likely slow down grid/randomized search since the feature importances would have to be computed for every hyperparameter combination (unless you implement some sort of cache).\n",
    "\n",
    "Let's define the number of top features we want to keep:"
   ]
  },
  {
   "cell_type": "code",
   "execution_count": 73,
   "metadata": {},
   "outputs": [
    {
     "data": {
      "text/plain": [
       "array([ 5,  7,  8,  9, 10], dtype=int64)"
      ]
     },
     "execution_count": 73,
     "metadata": {},
     "output_type": "execute_result"
    }
   ],
   "source": [
    "k = 5\n",
    "top_k_feature_indices = indices_of_top_k(feature_importances, k)\n",
    "top_k_feature_indices"
   ]
  },
  {
   "cell_type": "code",
   "execution_count": 74,
   "metadata": {},
   "outputs": [
    {
     "data": {
      "text/plain": [
       "array(['population', 'median_income', 'rooms_per_hhold', 'pop_per_hhold',\n",
       "       'bedrooms_per_room'], dtype='<U18')"
      ]
     },
     "execution_count": 74,
     "metadata": {},
     "output_type": "execute_result"
    }
   ],
   "source": [
    "np.array(attributes)[top_k_feature_indices]"
   ]
  },
  {
   "cell_type": "code",
   "execution_count": 75,
   "metadata": {},
   "outputs": [
    {
     "data": {
      "text/plain": [
       "[(0.09616245465847376, 'pop_per_hhold'),\n",
       " (0.09455393444170807, 'median_income'),\n",
       " (0.09352942872529876, 'rooms_per_hhold'),\n",
       " (0.09334121393407441, 'population'),\n",
       " (0.09317627839277237, 'bedrooms_per_room')]"
      ]
     },
     "execution_count": 75,
     "metadata": {},
     "output_type": "execute_result"
    }
   ],
   "source": [
    "sorted(zip(feature_importances, attributes), reverse=True)[:k]"
   ]
  },
  {
   "cell_type": "markdown",
   "metadata": {},
   "source": [
    "Looking good... Now let's create a new pipeline that runs the previously defined preparation pipeline, and adds top k feature selection:"
   ]
  },
  {
   "cell_type": "code",
   "execution_count": 76,
   "metadata": {},
   "outputs": [],
   "source": [
    "preparation_and_feature_selection_pipeline = Pipeline([\n",
    "    ('preparation', full_pipeline),\n",
    "    ('feature_selection', TopFeatureSelector(feature_importances, k))\n",
    "])"
   ]
  },
  {
   "cell_type": "code",
   "execution_count": 77,
   "metadata": {},
   "outputs": [],
   "source": [
    "housing_prepared_top_k_features = preparation_and_feature_selection_pipeline.fit_transform(housing)"
   ]
  },
  {
   "cell_type": "markdown",
   "metadata": {},
   "source": [
    "\n",
    "Now let's double check that these are indeed the top k features:"
   ]
  },
  {
   "cell_type": "code",
   "execution_count": 78,
   "metadata": {},
   "outputs": [
    {
     "data": {
      "text/plain": [
       "array([[ 0.20129039, -0.11676612, -0.235142  , -0.1088904 , -0.26327837],\n",
       "       [-0.06740943, -0.0614577 , -0.05256021,  0.06482595, -0.4503365 ],\n",
       "       [-0.76975352,  0.17000285,  0.01615476, -0.02178034, -0.69251212]])"
      ]
     },
     "execution_count": 78,
     "metadata": {},
     "output_type": "execute_result"
    }
   ],
   "source": [
    "housing_prepared[0:3, top_k_feature_indices]"
   ]
  },
  {
   "cell_type": "markdown",
   "metadata": {},
   "source": [
    "# 4.\n",
    "Question: Try creating a single pipeline that does the full data preparation plus the final prediction."
   ]
  },
  {
   "cell_type": "code",
   "execution_count": 79,
   "metadata": {},
   "outputs": [],
   "source": [
    "prepare_select_and_predict_pipeline = Pipeline([\n",
    "    ('preparation', full_pipeline),\n",
    "    ('feature_selection', TopFeatureSelector(feature_importances, k)),\n",
    "    ('svm_reg', SVR(**rnd_search.best_params_))\n",
    "])"
   ]
  },
  {
   "cell_type": "code",
   "execution_count": 80,
   "metadata": {},
   "outputs": [
    {
     "data": {
      "text/plain": [
       "Pipeline(memory=None,\n",
       "         steps=[('preparation',\n",
       "                 ColumnTransformer(n_jobs=None, remainder='drop',\n",
       "                                   sparse_threshold=0.3,\n",
       "                                   transformer_weights=None,\n",
       "                                   transformers=[('num',\n",
       "                                                  Pipeline(memory=None,\n",
       "                                                           steps=[('imputer',\n",
       "                                                                   SimpleImputer(add_indicator=False,\n",
       "                                                                                 copy=True,\n",
       "                                                                                 fill_value=None,\n",
       "                                                                                 missing_values=nan,\n",
       "                                                                                 strategy='median',\n",
       "                                                                                 verbose=0)),\n",
       "                                                                  ('attribs_adder',\n",
       "                                                                   CombinedAttributesAdder(add_...\n",
       "       8.79351220e-02, 9.33412139e-02, 8.81276805e-02, 9.45539344e-02,\n",
       "       9.35294287e-02, 9.61624547e-02, 9.31762784e-02, 5.49092746e-03,\n",
       "       5.24931397e-03, 2.69030407e-05, 3.04413719e-03, 4.55507197e-03]),\n",
       "                                    k=5)),\n",
       "                ('svm_reg',\n",
       "                 SVR(C=24.17508294611391, cache_size=200, coef0=0.0, degree=3,\n",
       "                     epsilon=0.1, gamma=3.503557475158312, kernel='rbf',\n",
       "                     max_iter=-1, shrinking=True, tol=0.001, verbose=False))],\n",
       "         verbose=False)"
      ]
     },
     "execution_count": 80,
     "metadata": {},
     "output_type": "execute_result"
    }
   ],
   "source": [
    "prepare_select_and_predict_pipeline.fit(housing, housing_labels)"
   ]
  },
  {
   "cell_type": "markdown",
   "metadata": {},
   "source": [
    "Let's try the full pipeline on a few instances:"
   ]
  },
  {
   "cell_type": "code",
   "execution_count": 81,
   "metadata": {},
   "outputs": [
    {
     "name": "stdout",
     "output_type": "stream",
     "text": [
      "Predictions:\t [178290.93351019 178277.44101023 178806.29190728 177933.34684593]\n",
      "Labels:\t\t [232400.0, 131300.0, 118900.0, 240400.0]\n"
     ]
    }
   ],
   "source": [
    "some_data = housing[:4]\n",
    "some_labels = housing_labels[:4]\n",
    "\n",
    "print(\"Predictions:\\t\", prepare_select_and_predict_pipeline.predict(some_data))\n",
    "print(\"Labels:\\t\\t\", list(some_labels))"
   ]
  },
  {
   "cell_type": "markdown",
   "metadata": {},
   "source": [
    "Well, the full pipeline seems to work fine. Of course, the predictions are not fantastic: they would be better if we used the best RandomForestRegressor that we found earlier, rather than the best SVR.\n",
    "\n",
    "# 5.\n",
    "Question: Automatically explore some preparation options using GridSearchCV."
   ]
  },
  {
   "cell_type": "code",
   "execution_count": 82,
   "metadata": {},
   "outputs": [
    {
     "name": "stdout",
     "output_type": "stream",
     "text": [
      "Fitting 5 folds for each of 48 candidates, totalling 240 fits\n",
      "[CV] feature_selection__k=1, preparation__num__imputer__strategy=mean \n"
     ]
    },
    {
     "name": "stderr",
     "output_type": "stream",
     "text": [
      "[Parallel(n_jobs=1)]: Using backend SequentialBackend with 1 concurrent workers.\n"
     ]
    },
    {
     "name": "stdout",
     "output_type": "stream",
     "text": [
      "[CV]  feature_selection__k=1, preparation__num__imputer__strategy=mean, total=  11.0s\n",
      "[CV] feature_selection__k=1, preparation__num__imputer__strategy=mean \n"
     ]
    },
    {
     "name": "stderr",
     "output_type": "stream",
     "text": [
      "[Parallel(n_jobs=1)]: Done   1 out of   1 | elapsed:   10.9s remaining:    0.0s\n"
     ]
    },
    {
     "name": "stdout",
     "output_type": "stream",
     "text": [
      "[CV]  feature_selection__k=1, preparation__num__imputer__strategy=mean, total=  11.0s\n",
      "[CV] feature_selection__k=1, preparation__num__imputer__strategy=mean \n",
      "[CV]  feature_selection__k=1, preparation__num__imputer__strategy=mean, total=  12.2s\n",
      "[CV] feature_selection__k=1, preparation__num__imputer__strategy=mean \n",
      "[CV]  feature_selection__k=1, preparation__num__imputer__strategy=mean, total=  10.5s\n",
      "[CV] feature_selection__k=1, preparation__num__imputer__strategy=mean \n",
      "[CV]  feature_selection__k=1, preparation__num__imputer__strategy=mean, total=  11.9s\n",
      "[CV] feature_selection__k=1, preparation__num__imputer__strategy=median \n",
      "[CV]  feature_selection__k=1, preparation__num__imputer__strategy=median, total=  10.6s\n",
      "[CV] feature_selection__k=1, preparation__num__imputer__strategy=median \n",
      "[CV]  feature_selection__k=1, preparation__num__imputer__strategy=median, total=  12.0s\n",
      "[CV] feature_selection__k=1, preparation__num__imputer__strategy=median \n",
      "[CV]  feature_selection__k=1, preparation__num__imputer__strategy=median, total=  11.0s\n",
      "[CV] feature_selection__k=1, preparation__num__imputer__strategy=median \n",
      "[CV]  feature_selection__k=1, preparation__num__imputer__strategy=median, total=  13.6s\n",
      "[CV] feature_selection__k=1, preparation__num__imputer__strategy=median \n",
      "[CV]  feature_selection__k=1, preparation__num__imputer__strategy=median, total=  10.6s\n",
      "[CV] feature_selection__k=1, preparation__num__imputer__strategy=most_frequent \n",
      "[CV]  feature_selection__k=1, preparation__num__imputer__strategy=most_frequent, total=  13.6s\n",
      "[CV] feature_selection__k=1, preparation__num__imputer__strategy=most_frequent \n",
      "[CV]  feature_selection__k=1, preparation__num__imputer__strategy=most_frequent, total=   9.7s\n",
      "[CV] feature_selection__k=1, preparation__num__imputer__strategy=most_frequent \n",
      "[CV]  feature_selection__k=1, preparation__num__imputer__strategy=most_frequent, total=  12.0s\n",
      "[CV] feature_selection__k=1, preparation__num__imputer__strategy=most_frequent \n",
      "[CV]  feature_selection__k=1, preparation__num__imputer__strategy=most_frequent, total=  11.9s\n",
      "[CV] feature_selection__k=1, preparation__num__imputer__strategy=most_frequent \n",
      "[CV]  feature_selection__k=1, preparation__num__imputer__strategy=most_frequent, total=  11.7s\n",
      "[CV] feature_selection__k=2, preparation__num__imputer__strategy=mean \n",
      "[CV]  feature_selection__k=2, preparation__num__imputer__strategy=mean, total=  11.8s\n",
      "[CV] feature_selection__k=2, preparation__num__imputer__strategy=mean \n",
      "[CV]  feature_selection__k=2, preparation__num__imputer__strategy=mean, total=  18.0s\n",
      "[CV] feature_selection__k=2, preparation__num__imputer__strategy=mean \n",
      "[CV]  feature_selection__k=2, preparation__num__imputer__strategy=mean, total=  13.9s\n",
      "[CV] feature_selection__k=2, preparation__num__imputer__strategy=mean \n",
      "[CV]  feature_selection__k=2, preparation__num__imputer__strategy=mean, total=  15.3s\n",
      "[CV] feature_selection__k=2, preparation__num__imputer__strategy=mean \n",
      "[CV]  feature_selection__k=2, preparation__num__imputer__strategy=mean, total=  10.5s\n",
      "[CV] feature_selection__k=2, preparation__num__imputer__strategy=median \n",
      "[CV]  feature_selection__k=2, preparation__num__imputer__strategy=median, total=  13.6s\n",
      "[CV] feature_selection__k=2, preparation__num__imputer__strategy=median \n",
      "[CV]  feature_selection__k=2, preparation__num__imputer__strategy=median, total=  12.2s\n",
      "[CV] feature_selection__k=2, preparation__num__imputer__strategy=median \n",
      "[CV]  feature_selection__k=2, preparation__num__imputer__strategy=median, total=  16.5s\n",
      "[CV] feature_selection__k=2, preparation__num__imputer__strategy=median \n",
      "[CV]  feature_selection__k=2, preparation__num__imputer__strategy=median, total=  13.1s\n",
      "[CV] feature_selection__k=2, preparation__num__imputer__strategy=median \n",
      "[CV]  feature_selection__k=2, preparation__num__imputer__strategy=median, total=  14.0s\n",
      "[CV] feature_selection__k=2, preparation__num__imputer__strategy=most_frequent \n",
      "[CV]  feature_selection__k=2, preparation__num__imputer__strategy=most_frequent, total=  15.6s\n",
      "[CV] feature_selection__k=2, preparation__num__imputer__strategy=most_frequent \n",
      "[CV]  feature_selection__k=2, preparation__num__imputer__strategy=most_frequent, total=  10.9s\n",
      "[CV] feature_selection__k=2, preparation__num__imputer__strategy=most_frequent \n",
      "[CV]  feature_selection__k=2, preparation__num__imputer__strategy=most_frequent, total=  17.1s\n",
      "[CV] feature_selection__k=2, preparation__num__imputer__strategy=most_frequent \n",
      "[CV]  feature_selection__k=2, preparation__num__imputer__strategy=most_frequent, total=  13.9s\n",
      "[CV] feature_selection__k=2, preparation__num__imputer__strategy=most_frequent \n",
      "[CV]  feature_selection__k=2, preparation__num__imputer__strategy=most_frequent, total=  16.8s\n",
      "[CV] feature_selection__k=3, preparation__num__imputer__strategy=mean \n",
      "[CV]  feature_selection__k=3, preparation__num__imputer__strategy=mean, total=  17.0s\n",
      "[CV] feature_selection__k=3, preparation__num__imputer__strategy=mean \n",
      "[CV]  feature_selection__k=3, preparation__num__imputer__strategy=mean, total=  16.7s\n",
      "[CV] feature_selection__k=3, preparation__num__imputer__strategy=mean \n",
      "[CV]  feature_selection__k=3, preparation__num__imputer__strategy=mean, total=  11.4s\n",
      "[CV] feature_selection__k=3, preparation__num__imputer__strategy=mean \n",
      "[CV]  feature_selection__k=3, preparation__num__imputer__strategy=mean, total=  19.6s\n",
      "[CV] feature_selection__k=3, preparation__num__imputer__strategy=mean \n",
      "[CV]  feature_selection__k=3, preparation__num__imputer__strategy=mean, total=  12.4s\n",
      "[CV] feature_selection__k=3, preparation__num__imputer__strategy=median \n",
      "[CV]  feature_selection__k=3, preparation__num__imputer__strategy=median, total=  12.6s\n",
      "[CV] feature_selection__k=3, preparation__num__imputer__strategy=median \n",
      "[CV]  feature_selection__k=3, preparation__num__imputer__strategy=median, total=  11.0s\n",
      "[CV] feature_selection__k=3, preparation__num__imputer__strategy=median \n",
      "[CV]  feature_selection__k=3, preparation__num__imputer__strategy=median, total=  13.3s\n",
      "[CV] feature_selection__k=3, preparation__num__imputer__strategy=median \n",
      "[CV]  feature_selection__k=3, preparation__num__imputer__strategy=median, total=  12.9s\n",
      "[CV] feature_selection__k=3, preparation__num__imputer__strategy=median \n",
      "[CV]  feature_selection__k=3, preparation__num__imputer__strategy=median, total=  13.3s\n",
      "[CV] feature_selection__k=3, preparation__num__imputer__strategy=most_frequent \n",
      "[CV]  feature_selection__k=3, preparation__num__imputer__strategy=most_frequent, total=  12.6s\n",
      "[CV] feature_selection__k=3, preparation__num__imputer__strategy=most_frequent \n",
      "[CV]  feature_selection__k=3, preparation__num__imputer__strategy=most_frequent, total=  15.9s\n",
      "[CV] feature_selection__k=3, preparation__num__imputer__strategy=most_frequent \n",
      "[CV]  feature_selection__k=3, preparation__num__imputer__strategy=most_frequent, total=  16.5s\n",
      "[CV] feature_selection__k=3, preparation__num__imputer__strategy=most_frequent \n",
      "[CV]  feature_selection__k=3, preparation__num__imputer__strategy=most_frequent, total=  15.4s\n",
      "[CV] feature_selection__k=3, preparation__num__imputer__strategy=most_frequent \n",
      "[CV]  feature_selection__k=3, preparation__num__imputer__strategy=most_frequent, total=  11.9s\n",
      "[CV] feature_selection__k=4, preparation__num__imputer__strategy=mean \n",
      "[CV]  feature_selection__k=4, preparation__num__imputer__strategy=mean, total=  16.7s\n",
      "[CV] feature_selection__k=4, preparation__num__imputer__strategy=mean \n",
      "[CV]  feature_selection__k=4, preparation__num__imputer__strategy=mean, total=  12.7s\n",
      "[CV] feature_selection__k=4, preparation__num__imputer__strategy=mean \n",
      "[CV]  feature_selection__k=4, preparation__num__imputer__strategy=mean, total=  17.5s\n",
      "[CV] feature_selection__k=4, preparation__num__imputer__strategy=mean \n",
      "[CV]  feature_selection__k=4, preparation__num__imputer__strategy=mean, total=  13.5s\n",
      "[CV] feature_selection__k=4, preparation__num__imputer__strategy=mean \n",
      "[CV]  feature_selection__k=4, preparation__num__imputer__strategy=mean, total=  14.4s\n",
      "[CV] feature_selection__k=4, preparation__num__imputer__strategy=median \n",
      "[CV]  feature_selection__k=4, preparation__num__imputer__strategy=median, total=  13.6s\n",
      "[CV] feature_selection__k=4, preparation__num__imputer__strategy=median \n",
      "[CV]  feature_selection__k=4, preparation__num__imputer__strategy=median, total=  24.9s\n",
      "[CV] feature_selection__k=4, preparation__num__imputer__strategy=median \n"
     ]
    },
    {
     "name": "stdout",
     "output_type": "stream",
     "text": [
      "[CV]  feature_selection__k=4, preparation__num__imputer__strategy=median, total=  12.2s\n",
      "[CV] feature_selection__k=4, preparation__num__imputer__strategy=median \n",
      "[CV]  feature_selection__k=4, preparation__num__imputer__strategy=median, total=  12.3s\n",
      "[CV] feature_selection__k=4, preparation__num__imputer__strategy=median \n",
      "[CV]  feature_selection__k=4, preparation__num__imputer__strategy=median, total=  12.2s\n",
      "[CV] feature_selection__k=4, preparation__num__imputer__strategy=most_frequent \n",
      "[CV]  feature_selection__k=4, preparation__num__imputer__strategy=most_frequent, total=  10.5s\n",
      "[CV] feature_selection__k=4, preparation__num__imputer__strategy=most_frequent \n",
      "[CV]  feature_selection__k=4, preparation__num__imputer__strategy=most_frequent, total=  12.3s\n",
      "[CV] feature_selection__k=4, preparation__num__imputer__strategy=most_frequent \n",
      "[CV]  feature_selection__k=4, preparation__num__imputer__strategy=most_frequent, total=  13.1s\n",
      "[CV] feature_selection__k=4, preparation__num__imputer__strategy=most_frequent \n",
      "[CV]  feature_selection__k=4, preparation__num__imputer__strategy=most_frequent, total=  12.0s\n",
      "[CV] feature_selection__k=4, preparation__num__imputer__strategy=most_frequent \n",
      "[CV]  feature_selection__k=4, preparation__num__imputer__strategy=most_frequent, total=  15.2s\n",
      "[CV] feature_selection__k=5, preparation__num__imputer__strategy=mean \n",
      "[CV]  feature_selection__k=5, preparation__num__imputer__strategy=mean, total=  12.8s\n",
      "[CV] feature_selection__k=5, preparation__num__imputer__strategy=mean \n",
      "[CV]  feature_selection__k=5, preparation__num__imputer__strategy=mean, total=  14.4s\n",
      "[CV] feature_selection__k=5, preparation__num__imputer__strategy=mean \n",
      "[CV]  feature_selection__k=5, preparation__num__imputer__strategy=mean, total=  14.4s\n",
      "[CV] feature_selection__k=5, preparation__num__imputer__strategy=mean \n",
      "[CV]  feature_selection__k=5, preparation__num__imputer__strategy=mean, total=  11.4s\n",
      "[CV] feature_selection__k=5, preparation__num__imputer__strategy=mean \n",
      "[CV]  feature_selection__k=5, preparation__num__imputer__strategy=mean, total=  12.9s\n",
      "[CV] feature_selection__k=5, preparation__num__imputer__strategy=median \n",
      "[CV]  feature_selection__k=5, preparation__num__imputer__strategy=median, total=  13.1s\n",
      "[CV] feature_selection__k=5, preparation__num__imputer__strategy=median \n",
      "[CV]  feature_selection__k=5, preparation__num__imputer__strategy=median, total=  15.1s\n",
      "[CV] feature_selection__k=5, preparation__num__imputer__strategy=median \n",
      "[CV]  feature_selection__k=5, preparation__num__imputer__strategy=median, total=  12.3s\n",
      "[CV] feature_selection__k=5, preparation__num__imputer__strategy=median \n",
      "[CV]  feature_selection__k=5, preparation__num__imputer__strategy=median, total=  14.1s\n",
      "[CV] feature_selection__k=5, preparation__num__imputer__strategy=median \n",
      "[CV]  feature_selection__k=5, preparation__num__imputer__strategy=median, total=  12.6s\n",
      "[CV] feature_selection__k=5, preparation__num__imputer__strategy=most_frequent \n",
      "[CV]  feature_selection__k=5, preparation__num__imputer__strategy=most_frequent, total=  14.2s\n",
      "[CV] feature_selection__k=5, preparation__num__imputer__strategy=most_frequent \n",
      "[CV]  feature_selection__k=5, preparation__num__imputer__strategy=most_frequent, total=  13.4s\n",
      "[CV] feature_selection__k=5, preparation__num__imputer__strategy=most_frequent \n",
      "[CV]  feature_selection__k=5, preparation__num__imputer__strategy=most_frequent, total=  14.1s\n",
      "[CV] feature_selection__k=5, preparation__num__imputer__strategy=most_frequent \n",
      "[CV]  feature_selection__k=5, preparation__num__imputer__strategy=most_frequent, total=  12.8s\n",
      "[CV] feature_selection__k=5, preparation__num__imputer__strategy=most_frequent \n",
      "[CV]  feature_selection__k=5, preparation__num__imputer__strategy=most_frequent, total=  12.8s\n",
      "[CV] feature_selection__k=6, preparation__num__imputer__strategy=mean \n",
      "[CV]  feature_selection__k=6, preparation__num__imputer__strategy=mean, total=  12.8s\n",
      "[CV] feature_selection__k=6, preparation__num__imputer__strategy=mean \n",
      "[CV]  feature_selection__k=6, preparation__num__imputer__strategy=mean, total=  17.7s\n",
      "[CV] feature_selection__k=6, preparation__num__imputer__strategy=mean \n",
      "[CV]  feature_selection__k=6, preparation__num__imputer__strategy=mean, total=  12.7s\n",
      "[CV] feature_selection__k=6, preparation__num__imputer__strategy=mean \n",
      "[CV]  feature_selection__k=6, preparation__num__imputer__strategy=mean, total=  14.6s\n",
      "[CV] feature_selection__k=6, preparation__num__imputer__strategy=mean \n",
      "[CV]  feature_selection__k=6, preparation__num__imputer__strategy=mean, total=  16.6s\n",
      "[CV] feature_selection__k=6, preparation__num__imputer__strategy=median \n",
      "[CV]  feature_selection__k=6, preparation__num__imputer__strategy=median, total=  13.4s\n",
      "[CV] feature_selection__k=6, preparation__num__imputer__strategy=median \n",
      "[CV]  feature_selection__k=6, preparation__num__imputer__strategy=median, total=  12.5s\n",
      "[CV] feature_selection__k=6, preparation__num__imputer__strategy=median \n",
      "[CV]  feature_selection__k=6, preparation__num__imputer__strategy=median, total=  14.3s\n",
      "[CV] feature_selection__k=6, preparation__num__imputer__strategy=median \n",
      "[CV]  feature_selection__k=6, preparation__num__imputer__strategy=median, total=  12.9s\n",
      "[CV] feature_selection__k=6, preparation__num__imputer__strategy=median \n",
      "[CV]  feature_selection__k=6, preparation__num__imputer__strategy=median, total=  14.8s\n",
      "[CV] feature_selection__k=6, preparation__num__imputer__strategy=most_frequent \n",
      "[CV]  feature_selection__k=6, preparation__num__imputer__strategy=most_frequent, total=  14.4s\n",
      "[CV] feature_selection__k=6, preparation__num__imputer__strategy=most_frequent \n",
      "[CV]  feature_selection__k=6, preparation__num__imputer__strategy=most_frequent, total=  13.9s\n",
      "[CV] feature_selection__k=6, preparation__num__imputer__strategy=most_frequent \n",
      "[CV]  feature_selection__k=6, preparation__num__imputer__strategy=most_frequent, total=  13.8s\n",
      "[CV] feature_selection__k=6, preparation__num__imputer__strategy=most_frequent \n",
      "[CV]  feature_selection__k=6, preparation__num__imputer__strategy=most_frequent, total=  14.0s\n",
      "[CV] feature_selection__k=6, preparation__num__imputer__strategy=most_frequent \n",
      "[CV]  feature_selection__k=6, preparation__num__imputer__strategy=most_frequent, total=  12.4s\n",
      "[CV] feature_selection__k=7, preparation__num__imputer__strategy=mean \n",
      "[CV]  feature_selection__k=7, preparation__num__imputer__strategy=mean, total=  14.8s\n",
      "[CV] feature_selection__k=7, preparation__num__imputer__strategy=mean \n",
      "[CV]  feature_selection__k=7, preparation__num__imputer__strategy=mean, total=  17.8s\n",
      "[CV] feature_selection__k=7, preparation__num__imputer__strategy=mean \n",
      "[CV]  feature_selection__k=7, preparation__num__imputer__strategy=mean, total=  13.7s\n",
      "[CV] feature_selection__k=7, preparation__num__imputer__strategy=mean \n",
      "[CV]  feature_selection__k=7, preparation__num__imputer__strategy=mean, total=  14.3s\n",
      "[CV] feature_selection__k=7, preparation__num__imputer__strategy=mean \n",
      "[CV]  feature_selection__k=7, preparation__num__imputer__strategy=mean, total=  19.2s\n",
      "[CV] feature_selection__k=7, preparation__num__imputer__strategy=median \n",
      "[CV]  feature_selection__k=7, preparation__num__imputer__strategy=median, total=  13.4s\n",
      "[CV] feature_selection__k=7, preparation__num__imputer__strategy=median \n",
      "[CV]  feature_selection__k=7, preparation__num__imputer__strategy=median, total=  13.9s\n",
      "[CV] feature_selection__k=7, preparation__num__imputer__strategy=median \n",
      "[CV]  feature_selection__k=7, preparation__num__imputer__strategy=median, total=  14.1s\n",
      "[CV] feature_selection__k=7, preparation__num__imputer__strategy=median \n",
      "[CV]  feature_selection__k=7, preparation__num__imputer__strategy=median, total=  14.4s\n",
      "[CV] feature_selection__k=7, preparation__num__imputer__strategy=median \n",
      "[CV]  feature_selection__k=7, preparation__num__imputer__strategy=median, total=  13.9s\n",
      "[CV] feature_selection__k=7, preparation__num__imputer__strategy=most_frequent \n",
      "[CV]  feature_selection__k=7, preparation__num__imputer__strategy=most_frequent, total=  13.3s\n",
      "[CV] feature_selection__k=7, preparation__num__imputer__strategy=most_frequent \n",
      "[CV]  feature_selection__k=7, preparation__num__imputer__strategy=most_frequent, total=  14.3s\n",
      "[CV] feature_selection__k=7, preparation__num__imputer__strategy=most_frequent \n"
     ]
    },
    {
     "name": "stdout",
     "output_type": "stream",
     "text": [
      "[CV]  feature_selection__k=7, preparation__num__imputer__strategy=most_frequent, total=  14.4s\n",
      "[CV] feature_selection__k=7, preparation__num__imputer__strategy=most_frequent \n",
      "[CV]  feature_selection__k=7, preparation__num__imputer__strategy=most_frequent, total=  18.5s\n",
      "[CV] feature_selection__k=7, preparation__num__imputer__strategy=most_frequent \n",
      "[CV]  feature_selection__k=7, preparation__num__imputer__strategy=most_frequent, total=  14.8s\n",
      "[CV] feature_selection__k=8, preparation__num__imputer__strategy=mean \n",
      "[CV]  feature_selection__k=8, preparation__num__imputer__strategy=mean, total=  15.6s\n",
      "[CV] feature_selection__k=8, preparation__num__imputer__strategy=mean \n",
      "[CV]  feature_selection__k=8, preparation__num__imputer__strategy=mean, total=  15.6s\n",
      "[CV] feature_selection__k=8, preparation__num__imputer__strategy=mean \n",
      "[CV]  feature_selection__k=8, preparation__num__imputer__strategy=mean, total=  14.8s\n",
      "[CV] feature_selection__k=8, preparation__num__imputer__strategy=mean \n",
      "[CV]  feature_selection__k=8, preparation__num__imputer__strategy=mean, total=  14.4s\n",
      "[CV] feature_selection__k=8, preparation__num__imputer__strategy=mean \n",
      "[CV]  feature_selection__k=8, preparation__num__imputer__strategy=mean, total=  17.3s\n",
      "[CV] feature_selection__k=8, preparation__num__imputer__strategy=median \n",
      "[CV]  feature_selection__k=8, preparation__num__imputer__strategy=median, total=  13.5s\n",
      "[CV] feature_selection__k=8, preparation__num__imputer__strategy=median \n",
      "[CV]  feature_selection__k=8, preparation__num__imputer__strategy=median, total=  17.1s\n",
      "[CV] feature_selection__k=8, preparation__num__imputer__strategy=median \n",
      "[CV]  feature_selection__k=8, preparation__num__imputer__strategy=median, total=  15.2s\n",
      "[CV] feature_selection__k=8, preparation__num__imputer__strategy=median \n",
      "[CV]  feature_selection__k=8, preparation__num__imputer__strategy=median, total=  13.5s\n",
      "[CV] feature_selection__k=8, preparation__num__imputer__strategy=median \n",
      "[CV]  feature_selection__k=8, preparation__num__imputer__strategy=median, total=  16.7s\n",
      "[CV] feature_selection__k=8, preparation__num__imputer__strategy=most_frequent \n",
      "[CV]  feature_selection__k=8, preparation__num__imputer__strategy=most_frequent, total=  13.4s\n",
      "[CV] feature_selection__k=8, preparation__num__imputer__strategy=most_frequent \n",
      "[CV]  feature_selection__k=8, preparation__num__imputer__strategy=most_frequent, total=  15.4s\n",
      "[CV] feature_selection__k=8, preparation__num__imputer__strategy=most_frequent \n",
      "[CV]  feature_selection__k=8, preparation__num__imputer__strategy=most_frequent, total=  13.7s\n",
      "[CV] feature_selection__k=8, preparation__num__imputer__strategy=most_frequent \n",
      "[CV]  feature_selection__k=8, preparation__num__imputer__strategy=most_frequent, total=  15.2s\n",
      "[CV] feature_selection__k=8, preparation__num__imputer__strategy=most_frequent \n",
      "[CV]  feature_selection__k=8, preparation__num__imputer__strategy=most_frequent, total=  13.7s\n",
      "[CV] feature_selection__k=9, preparation__num__imputer__strategy=mean \n",
      "[CV]  feature_selection__k=9, preparation__num__imputer__strategy=mean, total=  14.4s\n",
      "[CV] feature_selection__k=9, preparation__num__imputer__strategy=mean \n",
      "[CV]  feature_selection__k=9, preparation__num__imputer__strategy=mean, total=  16.5s\n",
      "[CV] feature_selection__k=9, preparation__num__imputer__strategy=mean \n",
      "[CV]  feature_selection__k=9, preparation__num__imputer__strategy=mean, total=  14.7s\n",
      "[CV] feature_selection__k=9, preparation__num__imputer__strategy=mean \n",
      "[CV]  feature_selection__k=9, preparation__num__imputer__strategy=mean, total=  15.8s\n",
      "[CV] feature_selection__k=9, preparation__num__imputer__strategy=mean \n",
      "[CV]  feature_selection__k=9, preparation__num__imputer__strategy=mean, total=  16.8s\n",
      "[CV] feature_selection__k=9, preparation__num__imputer__strategy=median \n",
      "[CV]  feature_selection__k=9, preparation__num__imputer__strategy=median, total=  14.1s\n",
      "[CV] feature_selection__k=9, preparation__num__imputer__strategy=median \n",
      "[CV]  feature_selection__k=9, preparation__num__imputer__strategy=median, total=  16.3s\n",
      "[CV] feature_selection__k=9, preparation__num__imputer__strategy=median \n",
      "[CV]  feature_selection__k=9, preparation__num__imputer__strategy=median, total=  14.6s\n",
      "[CV] feature_selection__k=9, preparation__num__imputer__strategy=median \n",
      "[CV]  feature_selection__k=9, preparation__num__imputer__strategy=median, total=  14.5s\n",
      "[CV] feature_selection__k=9, preparation__num__imputer__strategy=median \n",
      "[CV]  feature_selection__k=9, preparation__num__imputer__strategy=median, total=  14.9s\n",
      "[CV] feature_selection__k=9, preparation__num__imputer__strategy=most_frequent \n",
      "[CV]  feature_selection__k=9, preparation__num__imputer__strategy=most_frequent, total=  15.1s\n",
      "[CV] feature_selection__k=9, preparation__num__imputer__strategy=most_frequent \n",
      "[CV]  feature_selection__k=9, preparation__num__imputer__strategy=most_frequent, total=  16.8s\n",
      "[CV] feature_selection__k=9, preparation__num__imputer__strategy=most_frequent \n",
      "[CV]  feature_selection__k=9, preparation__num__imputer__strategy=most_frequent, total=  15.1s\n",
      "[CV] feature_selection__k=9, preparation__num__imputer__strategy=most_frequent \n",
      "[CV]  feature_selection__k=9, preparation__num__imputer__strategy=most_frequent, total=  14.1s\n",
      "[CV] feature_selection__k=9, preparation__num__imputer__strategy=most_frequent \n",
      "[CV]  feature_selection__k=9, preparation__num__imputer__strategy=most_frequent, total=  17.6s\n",
      "[CV] feature_selection__k=10, preparation__num__imputer__strategy=mean \n",
      "[CV]  feature_selection__k=10, preparation__num__imputer__strategy=mean, total=  15.1s\n",
      "[CV] feature_selection__k=10, preparation__num__imputer__strategy=mean \n",
      "[CV]  feature_selection__k=10, preparation__num__imputer__strategy=mean, total=  15.9s\n",
      "[CV] feature_selection__k=10, preparation__num__imputer__strategy=mean \n",
      "[CV]  feature_selection__k=10, preparation__num__imputer__strategy=mean, total=  17.5s\n",
      "[CV] feature_selection__k=10, preparation__num__imputer__strategy=mean \n",
      "[CV]  feature_selection__k=10, preparation__num__imputer__strategy=mean, total=  17.3s\n",
      "[CV] feature_selection__k=10, preparation__num__imputer__strategy=mean \n",
      "[CV]  feature_selection__k=10, preparation__num__imputer__strategy=mean, total=  15.0s\n",
      "[CV] feature_selection__k=10, preparation__num__imputer__strategy=median \n",
      "[CV]  feature_selection__k=10, preparation__num__imputer__strategy=median, total=  15.0s\n",
      "[CV] feature_selection__k=10, preparation__num__imputer__strategy=median \n",
      "[CV]  feature_selection__k=10, preparation__num__imputer__strategy=median, total=  21.2s\n",
      "[CV] feature_selection__k=10, preparation__num__imputer__strategy=median \n",
      "[CV]  feature_selection__k=10, preparation__num__imputer__strategy=median, total=  18.7s\n",
      "[CV] feature_selection__k=10, preparation__num__imputer__strategy=median \n",
      "[CV]  feature_selection__k=10, preparation__num__imputer__strategy=median, total=  16.3s\n",
      "[CV] feature_selection__k=10, preparation__num__imputer__strategy=median \n",
      "[CV]  feature_selection__k=10, preparation__num__imputer__strategy=median, total=  15.5s\n",
      "[CV] feature_selection__k=10, preparation__num__imputer__strategy=most_frequent \n",
      "[CV]  feature_selection__k=10, preparation__num__imputer__strategy=most_frequent, total=  18.2s\n",
      "[CV] feature_selection__k=10, preparation__num__imputer__strategy=most_frequent \n",
      "[CV]  feature_selection__k=10, preparation__num__imputer__strategy=most_frequent, total=  17.8s\n",
      "[CV] feature_selection__k=10, preparation__num__imputer__strategy=most_frequent \n",
      "[CV]  feature_selection__k=10, preparation__num__imputer__strategy=most_frequent, total=  17.5s\n",
      "[CV] feature_selection__k=10, preparation__num__imputer__strategy=most_frequent \n",
      "[CV]  feature_selection__k=10, preparation__num__imputer__strategy=most_frequent, total=  17.0s\n",
      "[CV] feature_selection__k=10, preparation__num__imputer__strategy=most_frequent \n",
      "[CV]  feature_selection__k=10, preparation__num__imputer__strategy=most_frequent, total=  16.4s\n",
      "[CV] feature_selection__k=11, preparation__num__imputer__strategy=mean \n",
      "[CV]  feature_selection__k=11, preparation__num__imputer__strategy=mean, total=  15.9s\n",
      "[CV] feature_selection__k=11, preparation__num__imputer__strategy=mean \n",
      "[CV]  feature_selection__k=11, preparation__num__imputer__strategy=mean, total=  16.9s\n",
      "[CV] feature_selection__k=11, preparation__num__imputer__strategy=mean \n"
     ]
    },
    {
     "name": "stdout",
     "output_type": "stream",
     "text": [
      "[CV]  feature_selection__k=11, preparation__num__imputer__strategy=mean, total=  18.9s\n",
      "[CV] feature_selection__k=11, preparation__num__imputer__strategy=mean \n",
      "[CV]  feature_selection__k=11, preparation__num__imputer__strategy=mean, total=  15.0s\n",
      "[CV] feature_selection__k=11, preparation__num__imputer__strategy=mean \n",
      "[CV]  feature_selection__k=11, preparation__num__imputer__strategy=mean, total=  18.1s\n",
      "[CV] feature_selection__k=11, preparation__num__imputer__strategy=median \n",
      "[CV]  feature_selection__k=11, preparation__num__imputer__strategy=median, total=  15.4s\n",
      "[CV] feature_selection__k=11, preparation__num__imputer__strategy=median \n",
      "[CV]  feature_selection__k=11, preparation__num__imputer__strategy=median, total=  17.5s\n",
      "[CV] feature_selection__k=11, preparation__num__imputer__strategy=median \n",
      "[CV]  feature_selection__k=11, preparation__num__imputer__strategy=median, total=  16.0s\n",
      "[CV] feature_selection__k=11, preparation__num__imputer__strategy=median \n",
      "[CV]  feature_selection__k=11, preparation__num__imputer__strategy=median, total=  15.8s\n",
      "[CV] feature_selection__k=11, preparation__num__imputer__strategy=median \n",
      "[CV]  feature_selection__k=11, preparation__num__imputer__strategy=median, total=  17.6s\n",
      "[CV] feature_selection__k=11, preparation__num__imputer__strategy=most_frequent \n",
      "[CV]  feature_selection__k=11, preparation__num__imputer__strategy=most_frequent, total=  15.2s\n",
      "[CV] feature_selection__k=11, preparation__num__imputer__strategy=most_frequent \n",
      "[CV]  feature_selection__k=11, preparation__num__imputer__strategy=most_frequent, total=  18.5s\n",
      "[CV] feature_selection__k=11, preparation__num__imputer__strategy=most_frequent \n",
      "[CV]  feature_selection__k=11, preparation__num__imputer__strategy=most_frequent, total=  15.4s\n",
      "[CV] feature_selection__k=11, preparation__num__imputer__strategy=most_frequent \n",
      "[CV]  feature_selection__k=11, preparation__num__imputer__strategy=most_frequent, total=  16.3s\n",
      "[CV] feature_selection__k=11, preparation__num__imputer__strategy=most_frequent \n",
      "[CV]  feature_selection__k=11, preparation__num__imputer__strategy=most_frequent, total=  17.0s\n",
      "[CV] feature_selection__k=12, preparation__num__imputer__strategy=mean \n",
      "[CV]  feature_selection__k=12, preparation__num__imputer__strategy=mean, total=  15.6s\n",
      "[CV] feature_selection__k=12, preparation__num__imputer__strategy=mean \n",
      "[CV]  feature_selection__k=12, preparation__num__imputer__strategy=mean, total=  18.3s\n",
      "[CV] feature_selection__k=12, preparation__num__imputer__strategy=mean \n",
      "[CV]  feature_selection__k=12, preparation__num__imputer__strategy=mean, total=  19.5s\n",
      "[CV] feature_selection__k=12, preparation__num__imputer__strategy=mean \n",
      "[CV]  feature_selection__k=12, preparation__num__imputer__strategy=mean, total=  15.3s\n",
      "[CV] feature_selection__k=12, preparation__num__imputer__strategy=mean \n",
      "[CV]  feature_selection__k=12, preparation__num__imputer__strategy=mean, total=  19.0s\n",
      "[CV] feature_selection__k=12, preparation__num__imputer__strategy=median \n",
      "[CV]  feature_selection__k=12, preparation__num__imputer__strategy=median, total=  15.9s\n",
      "[CV] feature_selection__k=12, preparation__num__imputer__strategy=median \n",
      "[CV]  feature_selection__k=12, preparation__num__imputer__strategy=median, total=  17.9s\n",
      "[CV] feature_selection__k=12, preparation__num__imputer__strategy=median \n",
      "[CV]  feature_selection__k=12, preparation__num__imputer__strategy=median, total=  17.2s\n",
      "[CV] feature_selection__k=12, preparation__num__imputer__strategy=median \n",
      "[CV]  feature_selection__k=12, preparation__num__imputer__strategy=median, total=  16.3s\n",
      "[CV] feature_selection__k=12, preparation__num__imputer__strategy=median \n",
      "[CV]  feature_selection__k=12, preparation__num__imputer__strategy=median, total=  17.5s\n",
      "[CV] feature_selection__k=12, preparation__num__imputer__strategy=most_frequent \n",
      "[CV]  feature_selection__k=12, preparation__num__imputer__strategy=most_frequent, total=  15.6s\n",
      "[CV] feature_selection__k=12, preparation__num__imputer__strategy=most_frequent \n",
      "[CV]  feature_selection__k=12, preparation__num__imputer__strategy=most_frequent, total=  17.5s\n",
      "[CV] feature_selection__k=12, preparation__num__imputer__strategy=most_frequent \n",
      "[CV]  feature_selection__k=12, preparation__num__imputer__strategy=most_frequent, total=  18.3s\n",
      "[CV] feature_selection__k=12, preparation__num__imputer__strategy=most_frequent \n",
      "[CV]  feature_selection__k=12, preparation__num__imputer__strategy=most_frequent, total=  18.5s\n",
      "[CV] feature_selection__k=12, preparation__num__imputer__strategy=most_frequent \n",
      "[CV]  feature_selection__k=12, preparation__num__imputer__strategy=most_frequent, total=  17.5s\n",
      "[CV] feature_selection__k=13, preparation__num__imputer__strategy=mean \n",
      "[CV]  feature_selection__k=13, preparation__num__imputer__strategy=mean, total=  17.2s\n",
      "[CV] feature_selection__k=13, preparation__num__imputer__strategy=mean \n",
      "[CV]  feature_selection__k=13, preparation__num__imputer__strategy=mean, total=  19.0s\n",
      "[CV] feature_selection__k=13, preparation__num__imputer__strategy=mean \n",
      "[CV]  feature_selection__k=13, preparation__num__imputer__strategy=mean, total=  18.7s\n",
      "[CV] feature_selection__k=13, preparation__num__imputer__strategy=mean \n",
      "[CV]  feature_selection__k=13, preparation__num__imputer__strategy=mean, total=  19.2s\n",
      "[CV] feature_selection__k=13, preparation__num__imputer__strategy=mean \n",
      "[CV]  feature_selection__k=13, preparation__num__imputer__strategy=mean, total=  19.9s\n",
      "[CV] feature_selection__k=13, preparation__num__imputer__strategy=median \n",
      "[CV]  feature_selection__k=13, preparation__num__imputer__strategy=median, total=  16.5s\n",
      "[CV] feature_selection__k=13, preparation__num__imputer__strategy=median \n",
      "[CV]  feature_selection__k=13, preparation__num__imputer__strategy=median, total=  19.9s\n",
      "[CV] feature_selection__k=13, preparation__num__imputer__strategy=median \n",
      "[CV]  feature_selection__k=13, preparation__num__imputer__strategy=median, total=  15.8s\n",
      "[CV] feature_selection__k=13, preparation__num__imputer__strategy=median \n",
      "[CV]  feature_selection__k=13, preparation__num__imputer__strategy=median, total=  17.7s\n",
      "[CV] feature_selection__k=13, preparation__num__imputer__strategy=median \n",
      "[CV]  feature_selection__k=13, preparation__num__imputer__strategy=median, total=  17.0s\n",
      "[CV] feature_selection__k=13, preparation__num__imputer__strategy=most_frequent \n",
      "[CV]  feature_selection__k=13, preparation__num__imputer__strategy=most_frequent, total=  19.4s\n",
      "[CV] feature_selection__k=13, preparation__num__imputer__strategy=most_frequent \n",
      "[CV]  feature_selection__k=13, preparation__num__imputer__strategy=most_frequent, total=  16.2s\n",
      "[CV] feature_selection__k=13, preparation__num__imputer__strategy=most_frequent \n",
      "[CV]  feature_selection__k=13, preparation__num__imputer__strategy=most_frequent, total=  18.2s\n",
      "[CV] feature_selection__k=13, preparation__num__imputer__strategy=most_frequent \n",
      "[CV]  feature_selection__k=13, preparation__num__imputer__strategy=most_frequent, total=  17.8s\n",
      "[CV] feature_selection__k=13, preparation__num__imputer__strategy=most_frequent \n",
      "[CV]  feature_selection__k=13, preparation__num__imputer__strategy=most_frequent, total=  16.7s\n",
      "[CV] feature_selection__k=14, preparation__num__imputer__strategy=mean \n",
      "[CV]  feature_selection__k=14, preparation__num__imputer__strategy=mean, total=  18.9s\n",
      "[CV] feature_selection__k=14, preparation__num__imputer__strategy=mean \n",
      "[CV]  feature_selection__k=14, preparation__num__imputer__strategy=mean, total=  16.8s\n",
      "[CV] feature_selection__k=14, preparation__num__imputer__strategy=mean \n",
      "[CV]  feature_selection__k=14, preparation__num__imputer__strategy=mean, total=  20.6s\n",
      "[CV] feature_selection__k=14, preparation__num__imputer__strategy=mean \n",
      "[CV]  feature_selection__k=14, preparation__num__imputer__strategy=mean, total=  17.1s\n",
      "[CV] feature_selection__k=14, preparation__num__imputer__strategy=mean \n",
      "[CV]  feature_selection__k=14, preparation__num__imputer__strategy=mean, total=  19.0s\n",
      "[CV] feature_selection__k=14, preparation__num__imputer__strategy=median \n",
      "[CV]  feature_selection__k=14, preparation__num__imputer__strategy=median, total=  18.4s\n",
      "[CV] feature_selection__k=14, preparation__num__imputer__strategy=median \n",
      "[CV]  feature_selection__k=14, preparation__num__imputer__strategy=median, total=  17.6s\n",
      "[CV] feature_selection__k=14, preparation__num__imputer__strategy=median \n"
     ]
    },
    {
     "name": "stdout",
     "output_type": "stream",
     "text": [
      "[CV]  feature_selection__k=14, preparation__num__imputer__strategy=median, total=  18.5s\n",
      "[CV] feature_selection__k=14, preparation__num__imputer__strategy=median \n",
      "[CV]  feature_selection__k=14, preparation__num__imputer__strategy=median, total=  18.4s\n",
      "[CV] feature_selection__k=14, preparation__num__imputer__strategy=median \n",
      "[CV]  feature_selection__k=14, preparation__num__imputer__strategy=median, total=  17.9s\n",
      "[CV] feature_selection__k=14, preparation__num__imputer__strategy=most_frequent \n",
      "[CV]  feature_selection__k=14, preparation__num__imputer__strategy=most_frequent, total=  18.3s\n",
      "[CV] feature_selection__k=14, preparation__num__imputer__strategy=most_frequent \n",
      "[CV]  feature_selection__k=14, preparation__num__imputer__strategy=most_frequent, total=  17.9s\n",
      "[CV] feature_selection__k=14, preparation__num__imputer__strategy=most_frequent \n",
      "[CV]  feature_selection__k=14, preparation__num__imputer__strategy=most_frequent, total=  19.5s\n",
      "[CV] feature_selection__k=14, preparation__num__imputer__strategy=most_frequent \n",
      "[CV]  feature_selection__k=14, preparation__num__imputer__strategy=most_frequent, total=  18.0s\n",
      "[CV] feature_selection__k=14, preparation__num__imputer__strategy=most_frequent \n",
      "[CV]  feature_selection__k=14, preparation__num__imputer__strategy=most_frequent, total=  17.7s\n",
      "[CV] feature_selection__k=15, preparation__num__imputer__strategy=mean \n",
      "[CV]  feature_selection__k=15, preparation__num__imputer__strategy=mean, total=  20.0s\n",
      "[CV] feature_selection__k=15, preparation__num__imputer__strategy=mean \n",
      "[CV]  feature_selection__k=15, preparation__num__imputer__strategy=mean, total=  18.2s\n",
      "[CV] feature_selection__k=15, preparation__num__imputer__strategy=mean \n",
      "[CV]  feature_selection__k=15, preparation__num__imputer__strategy=mean, total=  18.6s\n",
      "[CV] feature_selection__k=15, preparation__num__imputer__strategy=mean \n",
      "[CV]  feature_selection__k=15, preparation__num__imputer__strategy=mean, total=  21.2s\n",
      "[CV] feature_selection__k=15, preparation__num__imputer__strategy=mean \n",
      "[CV]  feature_selection__k=15, preparation__num__imputer__strategy=mean, total=  17.2s\n",
      "[CV] feature_selection__k=15, preparation__num__imputer__strategy=median \n",
      "[CV]  feature_selection__k=15, preparation__num__imputer__strategy=median, total=  18.8s\n",
      "[CV] feature_selection__k=15, preparation__num__imputer__strategy=median \n",
      "[CV]  feature_selection__k=15, preparation__num__imputer__strategy=median, total=  19.2s\n",
      "[CV] feature_selection__k=15, preparation__num__imputer__strategy=median \n",
      "[CV]  feature_selection__k=15, preparation__num__imputer__strategy=median, total=  17.6s\n",
      "[CV] feature_selection__k=15, preparation__num__imputer__strategy=median \n",
      "[CV]  feature_selection__k=15, preparation__num__imputer__strategy=median, total=  20.5s\n",
      "[CV] feature_selection__k=15, preparation__num__imputer__strategy=median \n",
      "[CV]  feature_selection__k=15, preparation__num__imputer__strategy=median, total=  18.3s\n",
      "[CV] feature_selection__k=15, preparation__num__imputer__strategy=most_frequent \n",
      "[CV]  feature_selection__k=15, preparation__num__imputer__strategy=most_frequent, total=  20.1s\n",
      "[CV] feature_selection__k=15, preparation__num__imputer__strategy=most_frequent \n",
      "[CV]  feature_selection__k=15, preparation__num__imputer__strategy=most_frequent, total=  19.4s\n",
      "[CV] feature_selection__k=15, preparation__num__imputer__strategy=most_frequent \n",
      "[CV]  feature_selection__k=15, preparation__num__imputer__strategy=most_frequent, total=  17.4s\n",
      "[CV] feature_selection__k=15, preparation__num__imputer__strategy=most_frequent \n",
      "[CV]  feature_selection__k=15, preparation__num__imputer__strategy=most_frequent, total=  18.8s\n",
      "[CV] feature_selection__k=15, preparation__num__imputer__strategy=most_frequent \n",
      "[CV]  feature_selection__k=15, preparation__num__imputer__strategy=most_frequent, total=  20.0s\n",
      "[CV] feature_selection__k=16, preparation__num__imputer__strategy=mean \n",
      "[CV]  feature_selection__k=16, preparation__num__imputer__strategy=mean, total=  16.9s\n",
      "[CV] feature_selection__k=16, preparation__num__imputer__strategy=mean \n",
      "[CV]  feature_selection__k=16, preparation__num__imputer__strategy=mean, total=  19.3s\n",
      "[CV] feature_selection__k=16, preparation__num__imputer__strategy=mean \n",
      "[CV]  feature_selection__k=16, preparation__num__imputer__strategy=mean, total=  19.7s\n",
      "[CV] feature_selection__k=16, preparation__num__imputer__strategy=mean \n",
      "[CV]  feature_selection__k=16, preparation__num__imputer__strategy=mean, total=  18.0s\n",
      "[CV] feature_selection__k=16, preparation__num__imputer__strategy=mean \n",
      "[CV]  feature_selection__k=16, preparation__num__imputer__strategy=mean, total=  18.8s\n",
      "[CV] feature_selection__k=16, preparation__num__imputer__strategy=median \n",
      "[CV]  feature_selection__k=16, preparation__num__imputer__strategy=median, total=  20.2s\n",
      "[CV] feature_selection__k=16, preparation__num__imputer__strategy=median \n",
      "[CV]  feature_selection__k=16, preparation__num__imputer__strategy=median, total=  17.4s\n",
      "[CV] feature_selection__k=16, preparation__num__imputer__strategy=median \n",
      "[CV]  feature_selection__k=16, preparation__num__imputer__strategy=median, total=  20.0s\n",
      "[CV] feature_selection__k=16, preparation__num__imputer__strategy=median \n",
      "[CV]  feature_selection__k=16, preparation__num__imputer__strategy=median, total=  19.7s\n",
      "[CV] feature_selection__k=16, preparation__num__imputer__strategy=median \n",
      "[CV]  feature_selection__k=16, preparation__num__imputer__strategy=median, total=  18.1s\n",
      "[CV] feature_selection__k=16, preparation__num__imputer__strategy=most_frequent \n",
      "[CV]  feature_selection__k=16, preparation__num__imputer__strategy=most_frequent, total=  18.5s\n",
      "[CV] feature_selection__k=16, preparation__num__imputer__strategy=most_frequent \n",
      "[CV]  feature_selection__k=16, preparation__num__imputer__strategy=most_frequent, total=  19.0s\n",
      "[CV] feature_selection__k=16, preparation__num__imputer__strategy=most_frequent \n",
      "[CV]  feature_selection__k=16, preparation__num__imputer__strategy=most_frequent, total=  19.7s\n",
      "[CV] feature_selection__k=16, preparation__num__imputer__strategy=most_frequent \n",
      "[CV]  feature_selection__k=16, preparation__num__imputer__strategy=most_frequent, total=  17.1s\n",
      "[CV] feature_selection__k=16, preparation__num__imputer__strategy=most_frequent \n",
      "[CV]  feature_selection__k=16, preparation__num__imputer__strategy=most_frequent, total=  20.3s\n"
     ]
    },
    {
     "name": "stderr",
     "output_type": "stream",
     "text": [
      "[Parallel(n_jobs=1)]: Done 240 out of 240 | elapsed: 63.0min finished\n"
     ]
    },
    {
     "data": {
      "text/plain": [
       "GridSearchCV(cv=5, error_score='raise-deprecating',\n",
       "             estimator=Pipeline(memory=None,\n",
       "                                steps=[('preparation',\n",
       "                                        ColumnTransformer(n_jobs=None,\n",
       "                                                          remainder='drop',\n",
       "                                                          sparse_threshold=0.3,\n",
       "                                                          transformer_weights=None,\n",
       "                                                          transformers=[('num',\n",
       "                                                                         Pipeline(memory=None,\n",
       "                                                                                  steps=[('imputer',\n",
       "                                                                                          SimpleImputer(add_indicator=False,\n",
       "                                                                                                        copy=True,\n",
       "                                                                                                        fill_value=None,\n",
       "                                                                                                        missing_values=nan,\n",
       "                                                                                                        strategy='media...\n",
       "                                            kernel='rbf', max_iter=-1,\n",
       "                                            shrinking=True, tol=0.001,\n",
       "                                            verbose=False))],\n",
       "                                verbose=False),\n",
       "             iid='warn', n_jobs=None,\n",
       "             param_grid=[{'feature_selection__k': [1, 2, 3, 4, 5, 6, 7, 8, 9,\n",
       "                                                   10, 11, 12, 13, 14, 15, 16],\n",
       "                          'preparation__num__imputer__strategy': ['mean',\n",
       "                                                                  'median',\n",
       "                                                                  'most_frequent']}],\n",
       "             pre_dispatch='2*n_jobs', refit=True, return_train_score=False,\n",
       "             scoring='neg_mean_squared_error', verbose=2)"
      ]
     },
     "execution_count": 82,
     "metadata": {},
     "output_type": "execute_result"
    }
   ],
   "source": [
    "param_grid = [{\n",
    "    'preparation__num__imputer__strategy': ['mean', 'median', 'most_frequent'],\n",
    "    'feature_selection__k': list(range(1, len(feature_importances) + 1))\n",
    "}]\n",
    "\n",
    "grid_search_prep = GridSearchCV(prepare_select_and_predict_pipeline, param_grid, cv=5,\n",
    "                                scoring='neg_mean_squared_error', verbose=2)\n",
    "grid_search_prep.fit(housing, housing_labels)"
   ]
  },
  {
   "cell_type": "code",
   "execution_count": 83,
   "metadata": {},
   "outputs": [
    {
     "data": {
      "text/plain": [
       "{'feature_selection__k': 4, 'preparation__num__imputer__strategy': 'mean'}"
      ]
     },
     "execution_count": 83,
     "metadata": {},
     "output_type": "execute_result"
    }
   ],
   "source": [
    "grid_search_prep.best_params_"
   ]
  },
  {
   "cell_type": "markdown",
   "metadata": {},
   "source": [
    "\n",
    "The best imputer strategy is most_frequent and apparently almost all features are useful (15 out of 16). The last one (ISLAND) seems to just add some noise.\n",
    "\n",
    "Congratulations! You already know quite a lot about Machine Learning. :)"
   ]
  }
 ],
 "metadata": {
  "kernelspec": {
   "display_name": "Python 3",
   "language": "python",
   "name": "python3"
  },
  "language_info": {
   "codemirror_mode": {
    "name": "ipython",
    "version": 3
   },
   "file_extension": ".py",
   "mimetype": "text/x-python",
   "name": "python",
   "nbconvert_exporter": "python",
   "pygments_lexer": "ipython3",
   "version": "3.7.4"
  }
 },
 "nbformat": 4,
 "nbformat_minor": 2
}
